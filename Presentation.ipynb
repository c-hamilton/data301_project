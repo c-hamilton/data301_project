{
 "cells": [
  {
   "cell_type": "markdown",
   "metadata": {
    "slideshow": {
     "slide_type": "slide"
    }
   },
   "source": [
    "# Our Project Name\n",
    "\n",
    "**Our Goal:** Predict S&P 500 prices using publicly available data\n",
    "    \n",
    "**Our Approach:** Use an LSTM and Google Trends API to perform"
   ]
  },
  {
   "cell_type": "markdown",
   "metadata": {
    "slideshow": {
     "slide_type": "fragment"
    }
   },
   "source": [
    "However, we ran into some issues.\n",
    "+ Google Trends API is garbage\n",
    "+ News API as the backup revoked access\n",
    "+ LSTM drawbacks for stock markets"
   ]
  },
  {
   "cell_type": "markdown",
   "metadata": {
    "slideshow": {
     "slide_type": "slide"
    }
   },
   "source": [
    "## An overview of our data\n",
    "\n",
    "+ Quandle API is awesome!\n",
    "+ Google Trends has no API. Scraping it was too dificult.\n",
    "+ NewsAPI as a replacement data source."
   ]
  },
  {
   "cell_type": "markdown",
   "metadata": {
    "slideshow": {
     "slide_type": "subslide"
    }
   },
   "source": [
    "## The Google Trends API\n",
    "\n",
    "Access to this data is free and it has been used in some really cool research. "
   ]
  },
  {
   "cell_type": "markdown",
   "metadata": {
    "slideshow": {
     "slide_type": "subslide"
    }
   },
   "source": [
    "#### We want daily granularity\n",
    "![Daily Google Trends](images/daily_google_trends.png?raw=true)"
   ]
  },
  {
   "cell_type": "markdown",
   "metadata": {
    "slideshow": {
     "slide_type": "subslide"
    }
   },
   "source": [
    "\n",
    "#### Over a long period of time\n",
    "![Weekly Google Trends](images/weekly_google_trends.png?raw=true)\n"
   ]
  },
  {
   "cell_type": "markdown",
   "metadata": {
    "slideshow": {
     "slide_type": "subslide"
    }
   },
   "source": [
    "\n",
    "### [Let's go take a peek into some of our data cleaning notebooks](http://127.0.0.1:8000/DataCleaning.slides.html#/)"
   ]
  },
  {
   "cell_type": "markdown",
   "metadata": {
    "slideshow": {
     "slide_type": "slide"
    }
   },
   "source": [
    "## Summary of the data we used in our model\n",
    "\n",
    "+ Quandle for commodities\n",
    "+ Google Trends API for search volume\n",
    "+ NewsAPI for market \"sentiment\""
   ]
  },
  {
   "cell_type": "markdown",
   "metadata": {
    "slideshow": {
     "slide_type": "slide"
    }
   },
   "source": [
    "## Long Short Term Memory Networks\n",
    "\n",
    "```\n",
    "Markets have very different statistical characteristics than natural phenomena such as weather patterns. Trying to use machine learning to beat markets, when you only have access to publicly available data, is a difficult endeavor, and you’re likely to waste your time and resources with nothing to show for it.\n",
    "\n",
    "Always remember that when it comes to markets, past performance is not a good predictor of future returns—looking in the rear-view mirror is a bad way to drive. Machine learning, on the other hand, is applicable to datasets where the past is a good predictor of the future.\n",
    "```\n",
    "*from **Deep Learning with Python** by Francois Chollet*\n"
   ]
  },
  {
   "cell_type": "markdown",
   "metadata": {
    "slideshow": {
     "slide_type": "subslide"
    }
   },
   "source": [
    "## LSTMs are a type of Recurrent Neural Network (RNN)\n",
    "\n",
    "A piece of a neural network, A, looks at some input xt and outputs a value ht. A loop allows information to be passed from one step of the network to the next.\n",
    "\n",
    "<img src=\"https://colah.github.io/posts/2015-08-Understanding-LSTMs/img/RNN-rolled.png\" ,width=60,height=60>\n",
    "\n",
    "A recurrent neural network can be thought of as multiple copies of the same network, each passing a message to a successor. This chain-like nature reveals that recurrent neural networks are intimately related to sequences and lists. They’re the natural architecture of neural network to use for such data.\n",
    "\n",
    "\n",
    "<img src=\"https://colah.github.io/posts/2015-08-Understanding-LSTMs/img/RNN-unrolled.png\" ,width=400,height=60>\n"
   ]
  },
  {
   "cell_type": "markdown",
   "metadata": {
    "slideshow": {
     "slide_type": "slide"
    }
   },
   "source": [
    "## An LSTM contains four interacting layers\n",
    "\n",
    "\n",
    "\n",
    "<img src=\"https://colah.github.io/posts/2015-08-Understanding-LSTMs/img/LSTM3-chain.png\" ,width=600,height=80>"
   ]
  },
  {
   "cell_type": "code",
   "execution_count": 2,
   "metadata": {
    "slideshow": {
     "slide_type": "skip"
    }
   },
   "outputs": [
    {
     "name": "stdout",
     "output_type": "stream",
     "text": [
      "[NbConvertApp] Converting notebook Presentation.ipynb to slides\n",
      "[NbConvertApp] Writing 261847 bytes to Presentation.slides.html\n",
      "[NbConvertApp] Redirecting reveal.js requests to https://cdnjs.cloudflare.com/ajax/libs/reveal.js/3.5.0\n",
      "Serving your slides at http://127.0.0.1:8000/Presentation.slides.html\n",
      "Use Control-C to stop this server\n",
      "WARNING:tornado.access:404 GET /custom.css (127.0.0.1) 1.49ms\n",
      "WARNING:tornado.access:404 GET /custom.css (127.0.0.1) 1.34ms\n",
      "WARNING:tornado.access:404 GET /custom.css (127.0.0.1) 0.93ms\n",
      "WARNING:tornado.access:404 GET /custom.css (127.0.0.1) 1.42ms\n",
      "WARNING:tornado.access:404 GET /custom.css (127.0.0.1) 0.95ms\n",
      "WARNING:tornado.access:404 GET /custom.css (127.0.0.1) 1.33ms\n",
      "^C\n",
      "\n",
      "Interrupted\n"
     ]
    }
   ],
   "source": [
    "!jupyter nbconvert Presentation.ipynb --to slides --post serve"
   ]
  },
  {
   "cell_type": "code",
   "execution_count": null,
   "metadata": {},
   "outputs": [],
   "source": []
  }
 ],
 "metadata": {
  "celltoolbar": "Slideshow",
  "kernelspec": {
   "display_name": "Python 3",
   "language": "python",
   "name": "python3"
  },
  "language_info": {
   "codemirror_mode": {
    "name": "ipython",
    "version": 3
   },
   "file_extension": ".py",
   "mimetype": "text/x-python",
   "name": "python",
   "nbconvert_exporter": "python",
   "pygments_lexer": "ipython3",
   "version": "3.6.5"
  }
 },
 "nbformat": 4,
 "nbformat_minor": 2
}
