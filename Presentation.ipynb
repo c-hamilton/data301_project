{
 "cells": [
  {
   "cell_type": "markdown",
   "metadata": {
    "slideshow": {
     "slide_type": "slide"
    }
   },
   "source": [
    "# Standard and Poor Machine Learning Techniques\n",
    "\n",
    "** Standard and Poor's 500 is a stock market index based on the market capitalization of 500 large companies. **\n",
    "\n",
    "**Question:** Is it possible to predict the movements of S&P 500 Index using publicly available data? Is there any hope for machine learning algorithms to make market predictions?\n",
    "    \n",
    "**Approach:** Use an LSTM network and various datasources to predict market movements."
   ]
  },
  {
   "cell_type": "markdown",
   "metadata": {
    "slideshow": {
     "slide_type": "slide"
    }
   },
   "source": [
    "## An overview of our data\n",
    "\n",
    "+ Quandle API for stocks and commodities\n",
    "+ Yahoo Finance and Kaggle for S&P\n",
    "+ Google Trends for market interest\n",
    "+ NewsAPI for market interest"
   ]
  },
  {
   "cell_type": "markdown",
   "metadata": {
    "slideshow": {
     "slide_type": "subslide"
    }
   },
   "source": [
    "## The Google Trends API\n",
    "\n",
    "Access to this data is free and it has been used in some really cool research. "
   ]
  },
  {
   "cell_type": "markdown",
   "metadata": {
    "slideshow": {
     "slide_type": "subslide"
    }
   },
   "source": [
    "#### We want daily granularity\n",
    "![Daily Google Trends](images/daily_google_trends.png?raw=true)"
   ]
  },
  {
   "cell_type": "markdown",
   "metadata": {
    "slideshow": {
     "slide_type": "subslide"
    }
   },
   "source": [
    "\n",
    "#### Over a long period of time\n",
    "![Weekly Google Trends](images/weekly_google_trends.png?raw=true)\n"
   ]
  },
  {
   "cell_type": "markdown",
   "metadata": {
    "slideshow": {
     "slide_type": "subslide"
    }
   },
   "source": [
    "\n",
    "### [Let's go take a peek into some of our data cleaning notebooks](http://127.0.0.1:8000/DataCleaning.slides.html#/)"
   ]
  },
  {
   "cell_type": "markdown",
   "metadata": {
    "slideshow": {
     "slide_type": "slide"
    }
   },
   "source": [
    "##   Summary of the data we used in our model\n",
    "<img src=\"images/all_data.JPG\" width=\"550\"/>\n",
    "\n"
   ]
  },
  {
   "cell_type": "markdown",
   "metadata": {
    "slideshow": {
     "slide_type": "slide"
    }
   },
   "source": [
    "## Neural Networks for Market Prediction\n",
    "\n",
    "\n",
    "\n",
    "```\n",
    "When it comes to markets, past performance is not a good predictor of future returns looking in the rear-view mirror is a bad way to drive. Machine learning, on the other hand, is applicable to datasets where the past is a good predictor of the future.\n",
    "```\n",
    "*from **Deep Learning with Python** by Francois Chollet*\n",
    "\n",
    "\n",
    "\n",
    "<img src=\"https://memegenerator.net/img/instances/74873992.jpg\" width=\"500\" align=\"middle\"/>\n"
   ]
  },
  {
   "cell_type": "markdown",
   "metadata": {
    "slideshow": {
     "slide_type": "subslide"
    }
   },
   "source": [
    "## Recurrent Neural Network (RNN)\n",
    "\n",
    "Highly complex pattern recognition can be achieved by using neural networks.\n",
    "\n",
    "When using time series data, we’ll need to use recurrent neural networks that allow us to operate over *sequences* of vectors.\n",
    "\n",
    "<img src=\"https://colah.github.io/posts/2015-08-Understanding-LSTMs/img/RNN-rolled.png\" width=\"100\"/>\n",
    "\n",
    "The appeal RNNs is the idea that they might be able to connect previous information to the present task. A recurrent neural network can conceptually be unfolded into multiple copies of the same network, each passing a message to a successor.\n",
    "\n",
    "<img src=\"https://colah.github.io/posts/2015-08-Understanding-LSTMs/img/RNN-unrolled.png\" width=400 height=60>\n",
    "\n",
    "\n"
   ]
  },
  {
   "cell_type": "markdown",
   "metadata": {
    "slideshow": {
     "slide_type": "subslide"
    }
   },
   "source": [
    "## Long Short Term Memory (LSTM) Networks\n",
    "\n",
    "\n",
    "\n",
    "<img src=\"https://colah.github.io/posts/2015-08-Understanding-LSTMs/img/LSTM3-chain.png\" width=600 height=80>\n",
    "\n"
   ]
  },
  {
   "cell_type": "markdown",
   "metadata": {
    "slideshow": {
     "slide_type": "slide"
    }
   },
   "source": [
    "## Generating predictions\n",
    "\n",
    "<img src=\"images/sliding_window.jpg\" width=\"800\"/>"
   ]
  },
  {
   "cell_type": "markdown",
   "metadata": {
    "slideshow": {
     "slide_type": "slide"
    }
   },
   "source": [
    "## Commodities and past stock data only\n",
    "\n",
    "#### Training could not fit well\n",
    "<img src=\"images/training getting nowhere loss vs epoch.JPG\" width=\"800\"/>"
   ]
  },
  {
   "cell_type": "markdown",
   "metadata": {
    "slideshow": {
     "slide_type": "subslide"
    }
   },
   "source": [
    "#### Predictions\n",
    "<img src=\"images/all predictions.JPG\" width=\"800\"/>\n"
   ]
  },
  {
   "cell_type": "markdown",
   "metadata": {
    "slideshow": {
     "slide_type": "subslide"
    }
   },
   "source": [
    "#### A closer look\n",
    "<img src=\"images/predictions close up.JPG\" width=\"800\"/>"
   ]
  },
  {
   "cell_type": "markdown",
   "metadata": {
    "slideshow": {
     "slide_type": "subslide"
    }
   },
   "source": [
    "## Google Trends and News Sentiment\n",
    "\n",
    "Adding google trends gives us more of the oscillations\n",
    "<img src=\"images/with trends.JPG\" width=\"800\"/>\n"
   ]
  },
  {
   "cell_type": "markdown",
   "metadata": {
    "slideshow": {
     "slide_type": "subslide"
    }
   },
   "source": [
    "Adding daily news sentiment increases this\n",
    "<img src=\"images/news_pred.JPG\" width=\"800\"/>"
   ]
  },
  {
   "cell_type": "markdown",
   "metadata": {
    "slideshow": {
     "slide_type": "slide"
    }
   },
   "source": [
    "## Conclusion\n",
    "\n",
    "We didn't get very accurate results with public data and our lack of domain knowledge.\n",
    "\n",
    "However the pipeline we built could be a powerful tool for someone with better resources and knowledge.\n",
    "\n",
    "<img src=\"http://i.huffpost.com/gen/1541321/images/o-THE-WOLF-OF-WALL-STREET-facebook.jpg\" width=\"400\"/>\n"
   ]
  },
  {
   "cell_type": "code",
   "execution_count": null,
   "metadata": {
    "slideshow": {
     "slide_type": "skip"
    }
   },
   "outputs": [
    {
     "name": "stdout",
     "output_type": "stream",
     "text": [
      "[NbConvertApp] Converting notebook Presentation.ipynb to slides\n",
      "[NbConvertApp] Writing 264104 bytes to Presentation.slides.html\n",
      "[NbConvertApp] Redirecting reveal.js requests to https://cdnjs.cloudflare.com/ajax/libs/reveal.js/3.5.0\n",
      "Serving your slides at http://127.0.0.1:8000/Presentation.slides.html\n",
      "Use Control-C to stop this server\n",
      "WARNING:tornado.access:404 GET /custom.css (127.0.0.1) 1.59ms\n",
      "WARNING:tornado.access:404 GET /custom.css (127.0.0.1) 4.89ms\n",
      "WARNING:tornado.access:404 GET /custom.css (127.0.0.1) 0.97ms\n",
      "WARNING:tornado.access:404 GET /custom.css (127.0.0.1) 0.99ms\n"
     ]
    }
   ],
   "source": [
    "!jupyter nbconvert Presentation.ipynb --to slides --post serve"
   ]
  },
  {
   "cell_type": "code",
   "execution_count": null,
   "metadata": {},
   "outputs": [],
   "source": []
  }
 ],
 "metadata": {
  "celltoolbar": "Slideshow",
  "kernelspec": {
   "display_name": "Python 3",
   "language": "python",
   "name": "python3"
  },
  "language_info": {
   "codemirror_mode": {
    "name": "ipython",
    "version": 3
   },
   "file_extension": ".py",
   "mimetype": "text/x-python",
   "name": "python",
   "nbconvert_exporter": "python",
   "pygments_lexer": "ipython3",
   "version": "3.6.5"
  }
 },
 "nbformat": 4,
 "nbformat_minor": 2
}
