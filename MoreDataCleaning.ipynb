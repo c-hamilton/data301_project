{
 "cells": [
  {
   "cell_type": "code",
   "execution_count": 1,
   "metadata": {},
   "outputs": [],
   "source": [
    "NEWS_API_KEY = \"c07df8265f264b20a0c2646a1740193e\"\n",
    "import requests\n",
    "import json\n",
    "\n",
    "import pandas as pd\n",
    "from pandas.io.json import json_normalize\n",
    "pd.options.display.max_rows = 10\n",
    "import re\n",
    "import nltk.sentiment.util"
   ]
  },
  {
   "cell_type": "code",
   "execution_count": 2,
   "metadata": {},
   "outputs": [],
   "source": [
    "def get_all_articles(topic, date):\n",
    "    page_number = 1\n",
    "    all_articles = pd.DataFrame({})\n",
    "    \n",
    "    # TODO how do we make sure to get a couple articles per day?\n",
    "    \n",
    "    while page_number <= 10:\n",
    "        url = ('https://newsapi.org/v2/everything?'\n",
    "           'q=%s&'\n",
    "           'from=%s&'\n",
    "           'page=%d&'\n",
    "           'language=en&'  # language is english\n",
    "           'pageSize=100&'  # maximum page size\n",
    "           'sortBy=popularity&'\n",
    "           'apiKey=%s'\n",
    "        ) % (topic, date, page_number, NEWS_API_KEY)\n",
    "        response = requests.get(url)\n",
    "        news = json.loads(response.text)\n",
    "        if not news[\"articles\"]:\n",
    "            break\n",
    "        all_articles = pd.concat([all_articles, json_normalize(news[\"articles\"])], ignore_index=True)\n",
    "        page_number += 1\n",
    "        print(len(all_articles))\n",
    "    return all_articles\n",
    "\n",
    "def clean_articles(df):\n",
    "    df[\"Date\"] = df.publishedAt.str.split(\"T\").str[0]\n",
    "    # Do more text cleaning here\n",
    "    #     df[\"description\"] = df.description.str.replace('[^a-z A-Z]', '').str.lower().astype(str)\n",
    "    df.dropna(subset=['description'], inplace=True)\n",
    "    return df"
   ]
  },
  {
   "cell_type": "code",
   "execution_count": 3,
   "metadata": {},
   "outputs": [],
   "source": [
    "import sys\n",
    "from io import StringIO\n",
    "\n",
    "def get_sentiment(articles):\n",
    "    s = StringIO()\n",
    "    sys.stdout = s\n",
    "    articles[\"description\"].apply(nltk.sentiment.util.demo_liu_hu_lexicon)\n",
    "    # WHY ON EARTH WOULD YOU WRITE A FUNCTION THAT PRINTS INSTEAD OF RETURNING?\n",
    "    sys.stdout = sys.__stdout__\n",
    "    return s.getvalue().splitlines()\n",
    "\n",
    "def get_sentiment_by_date(articles):\n",
    "    return articles.groupby([\"Date\",\"sentiment\"]).size().unstack(fill_value=0)"
   ]
  },
  {
   "cell_type": "code",
   "execution_count": 4,
   "metadata": {},
   "outputs": [
    {
     "name": "stdout",
     "output_type": "stream",
     "text": [
      "100\n",
      "200\n",
      "300\n",
      "400\n",
      "500\n",
      "600\n",
      "700\n",
      "800\n",
      "900\n",
      "1000\n"
     ]
    }
   ],
   "source": [
    "articles = get_all_articles(\"apple\", \"2004-06-11\")"
   ]
  },
  {
   "cell_type": "code",
   "execution_count": 5,
   "metadata": {},
   "outputs": [],
   "source": [
    "articles = clean_articles(articles)"
   ]
  },
  {
   "cell_type": "code",
   "execution_count": 6,
   "metadata": {},
   "outputs": [],
   "source": [
    "articles[\"sentiment\"] = get_sentiment(articles)"
   ]
  },
  {
   "cell_type": "code",
   "execution_count": 72,
   "metadata": {},
   "outputs": [
    {
     "data": {
      "text/plain": [
       "Index(['Negative', 'Neutral', 'Positive'], dtype='object', name='sentiment')"
      ]
     },
     "execution_count": 72,
     "metadata": {},
     "output_type": "execute_result"
    }
   ],
   "source": [
    "sentiment_by_date = get_sentiment_by_date(articles)\n",
    "sentiment_by_date.columns"
   ]
  },
  {
   "cell_type": "code",
   "execution_count": 73,
   "metadata": {},
   "outputs": [],
   "source": [
    "import pickle\n",
    "pickle.dump(sentiment_by_date, open(\"sentiment_by_date.pkl\", \"wb\"))"
   ]
  },
  {
   "cell_type": "code",
   "execution_count": 45,
   "metadata": {},
   "outputs": [
    {
     "data": {
      "text/plain": [
       "'{\"status\":\"ok\",\"totalResults\":160233,\"articles\":[{\"source\":{\"id\":null,\"name\":\"Glassdoor.com\"},\"author\":null,\"title\":\"Apple Apple Retail - Expert says \\\\\"It’s Apple.\\\\\"\",\"description\":\"From Apple Apple Retail - Expert(Current Employee)&dash; Rating 5 out of 5 — Tue, 17 Oct 2017 Pros Great culture! The management is great, products are fun, and you learn so many life skills. There aren’t many companies like Apple out there. Cons Most employe…\",\"url\":\"https://www.glassdoor.com/Reviews/Employee-Review-Apple-RVW17411967.htm\",\"urlToImage\":\"https://media.glassdoor.com/lst2x/1138/apple-office.jpg\",\"publishedAt\":\"2017-10-18T04:27:05Z\"},{\"source\":{\"id\":null,\"name\":\"Glassdoor.com\"},\"author\":null,\"title\":\"Apple Specialist says \\\\\"Apple is Apple\\\\\"\",\"description\":\"From Apple Specialist(Current Employee)&dash; Rating 4 out of 5 — Tue, 9 Jan 2018 Pros Great pay for retail so you can’t complain about that. Hands down the best job I’ve ever had that was considered retail. Cons The cons are definitely gonna be your retail s…\",\"url\":\"https://www.glassdoor.com/Reviews/Employee-Review-Apple-RVW18655585.htm\",\"urlToImage\":\"https://media.glassdoor.com/lst2x/1138/apple-office.jpg\",\"publishedAt\":\"2018-01-10T02:29:17Z\"},{\"source\":{\"id\":null,\"name\":\"Glassdoor.com\"},\"author\":null,\"title\":\"Apple employee says \\\\\"Apple\\\\\"\",\"description\":\"From Apple Employee(Past Employee - 2,017)&dash; Rating 2 out of 5 — Wed, 18 Oct 2017 Pros Working with latest technology and the Discounts, Cons Retail life, Overworked and under paid. Management only cares about numbers and creating promotors. Advice to Sen…\",\"url\":\"https://www.glassdoor.com/Reviews/Employee-Review-Apple-RVW17424395.htm\",\"urlToImage\":\"https://media.glassdoor.com/lst2x/1138/apple-office.jpg\",\"publishedAt\":\"2017-10-18T18:59:44Z\"},{\"source\":{\"id\":null,\"name\":\"Cheezburger.com\"},\"author\":null,\"title\":\"Apple & Pie Apple Pie\",\"description\":\"Cheezburger.com - Crafted from the finest Internets.\",\"url\":\"http://cheezburger.com/9089703680\",\"urlToImage\":\"https://i.chzbgr.com/original/9089703680/h03A84755/\",\"publishedAt\":\"2017-10-27T10:50:06Z\"},{\"source\":{\"id\":null,\"name\":\"Apple.com\"},\"author\":null,\"title\":\"Apple Store - Apple\",\"description\":\"The Apple Store app provides a more personal way to shop for the latest Apple products and accessories. Get recommendations based on the Apple products you already own. Find out which accessories are compatible with your devices. Easily upgrade to a new iPhon…\",\"url\":\"https://itunes.apple.com/us/app/apple-store/id375380948?mt=8\",\"urlToImage\":\"http://is5.mzstatic.com/image/thumb/Purple127/v4/ef/fa/da/effada6f-e614-8f5f-6d60-3d08ac5560df/source/1200x630bb.jpg\",\"publishedAt\":\"2017-10-27T06:19:01Z\"},{\"source\":{\"id\":null,\"name\":\"Dribbble.com\"},\"author\":\"Hugo C Silva\",\"title\":\"apple VS apple®️\",\"description\":\"View on Dribbble\",\"url\":\"https://dribbble.com/shots/4001030-apple-VS-apple\",\"urlToImage\":\"https://cdn.dribbble.com/users/336834/screenshots/4001030/applevsapple.png\",\"publishedAt\":\"2017-12-06T17:11:03Z\"},{\"source\":{\"id\":null,\"name\":\"Business-standard.com\"},\"author\":\"Business Standard\",\"title\":\"Good Apple, bad Apple\",\"description\":\"The reason for not pushing the iPhone X, say experts, is that the dealers get better commissions on other models\",\"url\":\"http://www.business-standard.com/article/opinion/good-apple-bad-apple-117121801331_1.html\",\"urlToImage\":\"http://bsmedia.business-standard.com/include/_mod/site/html5/images/no-meta-preview.jpg\",\"publishedAt\":\"2017-12-18T17:05:00Z\"},{\"source\":{\"id\":null,\"name\":\"Glassdoor.com\"},\"author\":null,\"title\":\"Apple Genius says \\\\\"Apple Retail\\\\\"\",\"description\":\"From Apple Genius(Past Employee - 2,017)&dash; Rating 4 out of 5 — Mon, 25 Sep 2017 Pros If you love technology, problem solving, dealing with ambiguity and high paced environments, this is the place for you. I\\'ve also met the coolest and most genuine people …\",\"url\":\"https://www.glassdoor.com/Reviews/Employee-Review-Apple-RVW17008285.htm\",\"urlToImage\":\"https://media.glassdoor.com/lst2x/1138/apple-office.jpg\",\"publishedAt\":\"2017-09-25T18:05:36Z\"},{\"source\":{\"id\":null,\"name\":\"Glassdoor.com\"},\"author\":null,\"title\":\"Apple Technician says \\\\\"Apple review\\\\\"\",\"description\":\"From Apple Technician(Past Employee - 2,017)&dash; Rating 5 out of 5 — Fri, 6 Oct 2017 Pros Apple was a great well rounded company to work for. Cons It’s very difficult to transfer stores if you are moving out of state. The company needs to improve on the tra…\",\"url\":\"https://www.glassdoor.com/Reviews/Employee-Review-Apple-RVW17206588.htm\",\"urlToImage\":\"https://media.glassdoor.com/lst2x/1138/apple-office.jpg\",\"publishedAt\":\"2017-10-06T15:20:31Z\"},{\"source\":{\"id\":null,\"name\":\"Glassdoor.com\"},\"author\":null,\"title\":\"Apple employee says \\\\\"Apple Specialist\\\\\"\",\"description\":\"From Apple Employee(Past Employee - 2,013)&dash; Rating 5 out of 5 — Mon, 30 Oct 2017 Pros Great employees always willing to assist Cons Not always able to get the days off needed Add a Comment\",\"url\":\"https://www.glassdoor.com/Reviews/Employee-Review-Apple-RVW17638555.htm\",\"urlToImage\":\"https://media.glassdoor.com/lst2x/1138/apple-office.jpg\",\"publishedAt\":\"2017-10-30T23:52:19Z\"}]}'"
      ]
     },
     "execution_count": 45,
     "metadata": {},
     "output_type": "execute_result"
    }
   ],
   "source": [
    "date1 = \"2013-06-11\"\n",
    "date2 = \"2018-01-11\"\n",
    "url = ('https://newsapi.org/v2/everything?'\n",
    "           'q=%s&'\n",
    "           'from=%s&'\n",
    "           'to=%s&'\n",
    "           'page=%d&'\n",
    "           'language=en&'  # language is english\n",
    "           'pageSize=10&'  # maximum page size\n",
    "           'apiKey=%s'\n",
    "        ) % (\"apple\", date1, date2, 1, NEWS_API_KEY)\n",
    "response = requests.get(url)\n",
    "# news = json.loads(response.text)\n",
    "response.text"
   ]
  },
  {
   "cell_type": "code",
   "execution_count": null,
   "metadata": {},
   "outputs": [],
   "source": []
  }
 ],
 "metadata": {
  "kernelspec": {
   "display_name": "Python 3",
   "language": "python",
   "name": "python3"
  },
  "language_info": {
   "codemirror_mode": {
    "name": "ipython",
    "version": 3
   },
   "file_extension": ".py",
   "mimetype": "text/x-python",
   "name": "python",
   "nbconvert_exporter": "python",
   "pygments_lexer": "ipython3",
   "version": "3.6.5"
  }
 },
 "nbformat": 4,
 "nbformat_minor": 2
}
