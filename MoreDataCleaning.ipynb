{
 "cells": [
  {
   "cell_type": "code",
   "execution_count": 1,
   "metadata": {},
   "outputs": [],
   "source": [
    "NEWS_API_KEY = \"c07df8265f264b20a0c2646a1740193e\"\n",
    "import requests\n",
    "import json\n",
    "\n",
    "import pandas as pd\n",
    "from pandas.io.json import json_normalize\n",
    "pd.options.display.max_rows = 10\n",
    "import re"
   ]
  },
  {
   "cell_type": "code",
   "execution_count": 69,
   "metadata": {},
   "outputs": [],
   "source": [
    "def get_all_articles(topic, date):\n",
    "    page_number = 1\n",
    "    all_articles = pd.DataFrame({})\n",
    "    while True:\n",
    "        url = ('https://newsapi.org/v2/everything?'\n",
    "           'q=%s&'\n",
    "           'from=%s&'\n",
    "           'page=%d&'\n",
    "           'language=en&'  # language is english\n",
    "           'pageSize=100&'  # maximum page size\n",
    "           'sortBy=popularity&'\n",
    "           'apiKey=%s'\n",
    "        ) % (topic, date, page_number, NEWS_API_KEY)\n",
    "        response = requests.get(url)\n",
    "        news = json.loads(response.text)\n",
    "        if not news[\"articles\"]:\n",
    "            break\n",
    "        all_articles = pd.concat([all_articles, json_normalize(news[\"articles\"])], ignore_index=True)\n",
    "        page_number += 1\n",
    "        print(len(all_articles))\n",
    "    return all_articles\n",
    "\n",
    "def clean_articles(df):\n",
    "    df[\"Date\"] = df.publishedAt.str.split(\"T\").str[0]\n",
    "    # Do more text cleaning here\n",
    "    df[\"description\"].dropna()\n",
    "    df[\"label\"] = None\n",
    "    df[\"description\"] = df.description.str.replace('[^a-z A-Z]', '').str.lower().str.split()\n",
    "    return df"
   ]
  },
  {
   "cell_type": "code",
   "execution_count": 98,
   "metadata": {},
   "outputs": [
    {
     "name": "stdout",
     "output_type": "stream",
     "text": [
      "100\n",
      "200\n",
      "300\n",
      "400\n",
      "500\n",
      "600\n",
      "700\n",
      "800\n",
      "898\n"
     ]
    }
   ],
   "source": [
    "articles = get_all_articles(\"apple\", \"2018-06-11\")"
   ]
  },
  {
   "cell_type": "code",
   "execution_count": 99,
   "metadata": {},
   "outputs": [
    {
     "data": {
      "text/html": [
       "<div>\n",
       "<style scoped>\n",
       "    .dataframe tbody tr th:only-of-type {\n",
       "        vertical-align: middle;\n",
       "    }\n",
       "\n",
       "    .dataframe tbody tr th {\n",
       "        vertical-align: top;\n",
       "    }\n",
       "\n",
       "    .dataframe thead th {\n",
       "        text-align: right;\n",
       "    }\n",
       "</style>\n",
       "<table border=\"1\" class=\"dataframe\">\n",
       "  <thead>\n",
       "    <tr style=\"text-align: right;\">\n",
       "      <th></th>\n",
       "      <th>author</th>\n",
       "      <th>description</th>\n",
       "      <th>publishedAt</th>\n",
       "      <th>source.id</th>\n",
       "      <th>source.name</th>\n",
       "      <th>title</th>\n",
       "      <th>url</th>\n",
       "      <th>urlToImage</th>\n",
       "      <th>Date</th>\n",
       "      <th>label</th>\n",
       "    </tr>\n",
       "  </thead>\n",
       "  <tbody>\n",
       "    <tr>\n",
       "      <th>0</th>\n",
       "      <td>Adi Robertson</td>\n",
       "      <td>[the, fcc, is, repealing, net, neutrality, rul...</td>\n",
       "      <td>2018-06-11T16:18:20Z</td>\n",
       "      <td>the-verge</td>\n",
       "      <td>The Verge</td>\n",
       "      <td>Here’s how companies have flouted net neutrali...</td>\n",
       "      <td>https://www.theverge.com/2018/6/11/17438638/ne...</td>\n",
       "      <td>https://cdn.vox-cdn.com/thumbor/qI4zFeJu5KvJ4b...</td>\n",
       "      <td>2018-06-11</td>\n",
       "      <td>None</td>\n",
       "    </tr>\n",
       "    <tr>\n",
       "      <th>1</th>\n",
       "      <td>Sarah Perez</td>\n",
       "      <td>[facebook, may, have, disbanded, its, trending...</td>\n",
       "      <td>2018-06-11T18:03:01Z</td>\n",
       "      <td>techcrunch</td>\n",
       "      <td>TechCrunch</td>\n",
       "      <td>Facebook still wants to be a media company</td>\n",
       "      <td>http://techcrunch.com/2018/06/11/facebook-stil...</td>\n",
       "      <td>https://techcrunch.com/wp-content/uploads/2017...</td>\n",
       "      <td>2018-06-11</td>\n",
       "      <td>None</td>\n",
       "    </tr>\n",
       "    <tr>\n",
       "      <th>2</th>\n",
       "      <td>Ingrid Lunden</td>\n",
       "      <td>[memrise, a, uk, startup, whose, eponymous, la...</td>\n",
       "      <td>2018-06-11T09:31:46Z</td>\n",
       "      <td>techcrunch</td>\n",
       "      <td>TechCrunch</td>\n",
       "      <td>Memrise raises $15.5M as its AI-based language...</td>\n",
       "      <td>http://techcrunch.com/2018/06/11/memrise-raise...</td>\n",
       "      <td>https://techcrunch.com/wp-content/uploads/2014...</td>\n",
       "      <td>2018-06-11</td>\n",
       "      <td>None</td>\n",
       "    </tr>\n",
       "    <tr>\n",
       "      <th>3</th>\n",
       "      <td>Anthony Ha</td>\n",
       "      <td>[prhbtd, a, startup, that, ceo, drake, suttons...</td>\n",
       "      <td>2018-06-11T17:44:46Z</td>\n",
       "      <td>techcrunch</td>\n",
       "      <td>TechCrunch</td>\n",
       "      <td>Media startup Prøhbtd raises $8M to help bring...</td>\n",
       "      <td>http://techcrunch.com/2018/06/11/prohbtd-serie...</td>\n",
       "      <td>https://techcrunch.com/wp-content/uploads/2018...</td>\n",
       "      <td>2018-06-11</td>\n",
       "      <td>None</td>\n",
       "    </tr>\n",
       "    <tr>\n",
       "      <th>4</th>\n",
       "      <td>Sam Rutherford</td>\n",
       "      <td>[with, the, price, of, bitcoin, approaching, a...</td>\n",
       "      <td>2018-06-11T18:45:00Z</td>\n",
       "      <td>None</td>\n",
       "      <td>Gizmodo.com</td>\n",
       "      <td>Apple's New Guidelines for the iOS App Store I...</td>\n",
       "      <td>https://gizmodo.com/apples-new-guidelines-for-...</td>\n",
       "      <td>https://i.kinja-img.com/gawker-media/image/upl...</td>\n",
       "      <td>2018-06-11</td>\n",
       "      <td>None</td>\n",
       "    </tr>\n",
       "    <tr>\n",
       "      <th>...</th>\n",
       "      <td>...</td>\n",
       "      <td>...</td>\n",
       "      <td>...</td>\n",
       "      <td>...</td>\n",
       "      <td>...</td>\n",
       "      <td>...</td>\n",
       "      <td>...</td>\n",
       "      <td>...</td>\n",
       "      <td>...</td>\n",
       "      <td>...</td>\n",
       "    </tr>\n",
       "    <tr>\n",
       "      <th>893</th>\n",
       "      <td>Dendiweik</td>\n",
       "      <td>[joost, is, a, new, way, of, watching, tv, on,...</td>\n",
       "      <td>2018-06-11T06:27:10Z</td>\n",
       "      <td>None</td>\n",
       "      <td>Pickthebrain.com</td>\n",
       "      <td>Comment on Joost Beta Preview: The Best TV Onl...</td>\n",
       "      <td>https://www.pickthebrain.com/blog/joost-beta-p...</td>\n",
       "      <td>https://www.pickthebrain.com/blog/wp-content/i...</td>\n",
       "      <td>2018-06-11</td>\n",
       "      <td>None</td>\n",
       "    </tr>\n",
       "    <tr>\n",
       "      <th>894</th>\n",
       "      <td>tiara tech</td>\n",
       "      <td>[thanks, for, sharing, valuable, information, ...</td>\n",
       "      <td>2018-06-11T10:44:00Z</td>\n",
       "      <td>None</td>\n",
       "      <td>Coenraets.org</td>\n",
       "      <td>Comment on Sample Force.com Mobile Application...</td>\n",
       "      <td>http://coenraets.org/blog/2014/02/sample-force...</td>\n",
       "      <td>None</td>\n",
       "      <td>2018-06-11</td>\n",
       "      <td>None</td>\n",
       "    </tr>\n",
       "    <tr>\n",
       "      <th>895</th>\n",
       "      <td>Danitra</td>\n",
       "      <td>[ive, found, that, coconut, oil, is, my, skins...</td>\n",
       "      <td>2018-06-11T17:40:41Z</td>\n",
       "      <td>None</td>\n",
       "      <td>Helloglow.co</td>\n",
       "      <td>Comment on 2-Ingredient DIY Toner Recipes for ...</td>\n",
       "      <td>https://helloglow.co/2-ingredient-diy-toner-re...</td>\n",
       "      <td>https://helloglow.co/wp-content/uploads/2014/0...</td>\n",
       "      <td>2018-06-11</td>\n",
       "      <td>None</td>\n",
       "    </tr>\n",
       "    <tr>\n",
       "      <th>896</th>\n",
       "      <td>Harry Guinness</td>\n",
       "      <td>[there, are, dozens, of, factors, that, can, a...</td>\n",
       "      <td>2018-06-11T12:00:00Z</td>\n",
       "      <td>None</td>\n",
       "      <td>Howtogeek.com</td>\n",
       "      <td>What to Do If Your iPhone Is Getting a Bad Signal</td>\n",
       "      <td>https://www.howtogeek.com/355014/what-to-do-if...</td>\n",
       "      <td>https://www.howtogeek.com/thumbcache/2/200/d8c...</td>\n",
       "      <td>2018-06-11</td>\n",
       "      <td>None</td>\n",
       "    </tr>\n",
       "    <tr>\n",
       "      <th>897</th>\n",
       "      <td>rockdean</td>\n",
       "      <td>[absolutely, fantastic, postingquickbooks, pos...</td>\n",
       "      <td>2018-06-11T09:50:48Z</td>\n",
       "      <td>None</td>\n",
       "      <td>Helloglow.co</td>\n",
       "      <td>Comment on 28 Fall Wreaths You Can Still Make ...</td>\n",
       "      <td>https://helloglow.co/28-fall-wreaths-can-still...</td>\n",
       "      <td>https://helloglow.co/wp-content/uploads/2013/1...</td>\n",
       "      <td>2018-06-11</td>\n",
       "      <td>None</td>\n",
       "    </tr>\n",
       "  </tbody>\n",
       "</table>\n",
       "<p>898 rows × 10 columns</p>\n",
       "</div>"
      ],
      "text/plain": [
       "             author                                        description  \\\n",
       "0     Adi Robertson  [the, fcc, is, repealing, net, neutrality, rul...   \n",
       "1       Sarah Perez  [facebook, may, have, disbanded, its, trending...   \n",
       "2     Ingrid Lunden  [memrise, a, uk, startup, whose, eponymous, la...   \n",
       "3        Anthony Ha  [prhbtd, a, startup, that, ceo, drake, suttons...   \n",
       "4    Sam Rutherford  [with, the, price, of, bitcoin, approaching, a...   \n",
       "..              ...                                                ...   \n",
       "893       Dendiweik  [joost, is, a, new, way, of, watching, tv, on,...   \n",
       "894      tiara tech  [thanks, for, sharing, valuable, information, ...   \n",
       "895         Danitra  [ive, found, that, coconut, oil, is, my, skins...   \n",
       "896  Harry Guinness  [there, are, dozens, of, factors, that, can, a...   \n",
       "897        rockdean  [absolutely, fantastic, postingquickbooks, pos...   \n",
       "\n",
       "              publishedAt   source.id       source.name  \\\n",
       "0    2018-06-11T16:18:20Z   the-verge         The Verge   \n",
       "1    2018-06-11T18:03:01Z  techcrunch        TechCrunch   \n",
       "2    2018-06-11T09:31:46Z  techcrunch        TechCrunch   \n",
       "3    2018-06-11T17:44:46Z  techcrunch        TechCrunch   \n",
       "4    2018-06-11T18:45:00Z        None       Gizmodo.com   \n",
       "..                    ...         ...               ...   \n",
       "893  2018-06-11T06:27:10Z        None  Pickthebrain.com   \n",
       "894  2018-06-11T10:44:00Z        None     Coenraets.org   \n",
       "895  2018-06-11T17:40:41Z        None      Helloglow.co   \n",
       "896  2018-06-11T12:00:00Z        None     Howtogeek.com   \n",
       "897  2018-06-11T09:50:48Z        None      Helloglow.co   \n",
       "\n",
       "                                                 title  \\\n",
       "0    Here’s how companies have flouted net neutrali...   \n",
       "1           Facebook still wants to be a media company   \n",
       "2    Memrise raises $15.5M as its AI-based language...   \n",
       "3    Media startup Prøhbtd raises $8M to help bring...   \n",
       "4    Apple's New Guidelines for the iOS App Store I...   \n",
       "..                                                 ...   \n",
       "893  Comment on Joost Beta Preview: The Best TV Onl...   \n",
       "894  Comment on Sample Force.com Mobile Application...   \n",
       "895  Comment on 2-Ingredient DIY Toner Recipes for ...   \n",
       "896  What to Do If Your iPhone Is Getting a Bad Signal   \n",
       "897  Comment on 28 Fall Wreaths You Can Still Make ...   \n",
       "\n",
       "                                                   url  \\\n",
       "0    https://www.theverge.com/2018/6/11/17438638/ne...   \n",
       "1    http://techcrunch.com/2018/06/11/facebook-stil...   \n",
       "2    http://techcrunch.com/2018/06/11/memrise-raise...   \n",
       "3    http://techcrunch.com/2018/06/11/prohbtd-serie...   \n",
       "4    https://gizmodo.com/apples-new-guidelines-for-...   \n",
       "..                                                 ...   \n",
       "893  https://www.pickthebrain.com/blog/joost-beta-p...   \n",
       "894  http://coenraets.org/blog/2014/02/sample-force...   \n",
       "895  https://helloglow.co/2-ingredient-diy-toner-re...   \n",
       "896  https://www.howtogeek.com/355014/what-to-do-if...   \n",
       "897  https://helloglow.co/28-fall-wreaths-can-still...   \n",
       "\n",
       "                                            urlToImage        Date label  \n",
       "0    https://cdn.vox-cdn.com/thumbor/qI4zFeJu5KvJ4b...  2018-06-11  None  \n",
       "1    https://techcrunch.com/wp-content/uploads/2017...  2018-06-11  None  \n",
       "2    https://techcrunch.com/wp-content/uploads/2014...  2018-06-11  None  \n",
       "3    https://techcrunch.com/wp-content/uploads/2018...  2018-06-11  None  \n",
       "4    https://i.kinja-img.com/gawker-media/image/upl...  2018-06-11  None  \n",
       "..                                                 ...         ...   ...  \n",
       "893  https://www.pickthebrain.com/blog/wp-content/i...  2018-06-11  None  \n",
       "894                                               None  2018-06-11  None  \n",
       "895  https://helloglow.co/wp-content/uploads/2014/0...  2018-06-11  None  \n",
       "896  https://www.howtogeek.com/thumbcache/2/200/d8c...  2018-06-11  None  \n",
       "897  https://helloglow.co/wp-content/uploads/2013/1...  2018-06-11  None  \n",
       "\n",
       "[898 rows x 10 columns]"
      ]
     },
     "execution_count": 99,
     "metadata": {},
     "output_type": "execute_result"
    }
   ],
   "source": [
    "clean_articles(articles)"
   ]
  },
  {
   "cell_type": "code",
   "execution_count": 100,
   "metadata": {},
   "outputs": [],
   "source": [
    "from nltk.classify import NaiveBayesClassifier\n",
    "from nltk.corpus import subjectivity\n",
    "from nltk.sentiment import SentimentAnalyzer\n",
    "from nltk.sentiment.util import *"
   ]
  },
  {
   "cell_type": "code",
   "execution_count": 101,
   "metadata": {},
   "outputs": [
    {
     "data": {
      "text/plain": [
       "1      [facebook, may, have, disbanded, its, trending...\n",
       "4      [with, the, price, of, bitcoin, approaching, a...\n",
       "6      [mobile, world, congress, is, one, of, those, ...\n",
       "12     [frances, president, emmanuel, macron, is, woo...\n",
       "13     [the, insider, picks, team, writes, about, stu...\n",
       "                             ...                        \n",
       "891    [child, advocacy, group, urges, ftc, to, probe...\n",
       "892    [common, sense, media, is, filing, a, new, com...\n",
       "893    [joost, is, a, new, way, of, watching, tv, on,...\n",
       "895    [ive, found, that, coconut, oil, is, my, skins...\n",
       "897    [absolutely, fantastic, postingquickbooks, pos...\n",
       "Name: description, Length: 449, dtype: object"
      ]
     },
     "execution_count": 101,
     "metadata": {},
     "output_type": "execute_result"
    }
   ],
   "source": [
    "training = articles.sample(frac=0.5)[\"description\"]\n",
    "testing = articles[~articles.index.isin(training.index)][\"description\"]\n",
    "testing"
   ]
  },
  {
   "cell_type": "code",
   "execution_count": 127,
   "metadata": {},
   "outputs": [
    {
     "data": {
      "text/plain": [
       "(['pride',\n",
       "  'month',\n",
       "  'is',\n",
       "  'here',\n",
       "  'and',\n",
       "  'although',\n",
       "  'equality',\n",
       "  'and',\n",
       "  'diversity',\n",
       "  'should',\n",
       "  'be',\n",
       "  'celebrated',\n",
       "  'every',\n",
       "  'day',\n",
       "  'june',\n",
       "  'highlights',\n",
       "  'its',\n",
       "  'importance',\n",
       "  'aside',\n",
       "  'from',\n",
       "  'speaking',\n",
       "  'up',\n",
       "  'about',\n",
       "  'issues',\n",
       "  'and',\n",
       "  'taking',\n",
       "  'a',\n",
       "  'stand',\n",
       "  'you',\n",
       "  'can',\n",
       "  'also',\n",
       "  'show',\n",
       "  'your',\n",
       "  'support',\n",
       "  'by',\n",
       "  'copping',\n",
       "  'merchandise',\n",
       "  'as',\n",
       "  'part',\n",
       "  'of',\n",
       "  'brands',\n",
       "  'pride',\n",
       "  'coll'],\n",
       " 'subj')"
      ]
     },
     "execution_count": 127,
     "metadata": {},
     "output_type": "execute_result"
    }
   ],
   "source": [
    "# Each document is represented by a tuple (sentence, label). \n",
    "# The sentence is tokenized, so it is represented by a list of strings\n",
    "\n",
    "training_docs = [(x, 'subj') for x in training.values if x]\n",
    "testing_docs = [(x, 'subj') for x in testing.values  if x]\n",
    "training_docs[0]"
   ]
  },
  {
   "cell_type": "code",
   "execution_count": 106,
   "metadata": {},
   "outputs": [],
   "source": [
    "import itertools\n",
    "# all_words = list(itertools.chain.from_iterable([row for row in articles.description if row]))\n",
    "# training_words = list(itertools.chain.from_iterable([row for row in training if row]))\n",
    "# testing_words = list(itertools.chain.from_iterable([row for row in testing if row]))"
   ]
  },
  {
   "cell_type": "code",
   "execution_count": 129,
   "metadata": {},
   "outputs": [],
   "source": [
    "from nltk.corpus import stopwords\n",
    "  \n",
    "sentim_analyzer = SentimentAnalyzer()\n",
    "stopwords = stopwords.words('english')\n",
    "\n",
    "all_words_neg = sentim_analyzer.all_words([mark_negation(doc) for doc in training_docs])\n",
    "unigram_feats = sentim_analyzer.unigram_word_feats(all_words_neg, min_freq=4)"
   ]
  },
  {
   "cell_type": "code",
   "execution_count": 130,
   "metadata": {},
   "outputs": [],
   "source": [
    "sentim_analyzer.add_feat_extractor(extract_unigram_feats, unigrams=unigram_feats)"
   ]
  },
  {
   "cell_type": "code",
   "execution_count": 131,
   "metadata": {},
   "outputs": [
    {
     "name": "stdout",
     "output_type": "stream",
     "text": [
      "Training classifier\n"
     ]
    }
   ],
   "source": [
    "training_set = sentim_analyzer.apply_features(training_docs)\n",
    "test_set = sentim_analyzer.apply_features(testing_docs)\n",
    "\n",
    "trainer = NaiveBayesClassifier.train\n",
    "classifier = sentim_analyzer.train(trainer, training_set)"
   ]
  },
  {
   "cell_type": "code",
   "execution_count": 132,
   "metadata": {},
   "outputs": [
    {
     "name": "stdout",
     "output_type": "stream",
     "text": [
      "Evaluating NaiveBayesClassifier results...\n"
     ]
    },
    {
     "data": {
      "text/plain": [
       "{'Accuracy': 1.0,\n",
       " 'Precision [subj]': 1.0,\n",
       " 'Recall [subj]': 1.0,\n",
       " 'F-measure [subj]': 1.0}"
      ]
     },
     "execution_count": 132,
     "metadata": {},
     "output_type": "execute_result"
    }
   ],
   "source": [
    "sentim_analyzer.evaluate(test_set)"
   ]
  },
  {
   "cell_type": "code",
   "execution_count": 133,
   "metadata": {},
   "outputs": [
    {
     "name": "stdout",
     "output_type": "stream",
     "text": [
      "Evaluating NaiveBayesClassifier results...\n"
     ]
    },
    {
     "data": {
      "text/plain": [
       "{'Accuracy': 1.0,\n",
       " 'Precision [subj]': 1.0,\n",
       " 'Recall [subj]': 1.0,\n",
       " 'F-measure [subj]': 1.0}"
      ]
     },
     "execution_count": 133,
     "metadata": {},
     "output_type": "execute_result"
    }
   ],
   "source": [
    "sentim_analyzer.evaluate(test_set)"
   ]
  },
  {
   "cell_type": "code",
   "execution_count": null,
   "metadata": {},
   "outputs": [],
   "source": []
  }
 ],
 "metadata": {
  "kernelspec": {
   "display_name": "Python 3",
   "language": "python",
   "name": "python3"
  },
  "language_info": {
   "codemirror_mode": {
    "name": "ipython",
    "version": 3
   },
   "file_extension": ".py",
   "mimetype": "text/x-python",
   "name": "python",
   "nbconvert_exporter": "python",
   "pygments_lexer": "ipython3",
   "version": "3.6.5"
  }
 },
 "nbformat": 4,
 "nbformat_minor": 2
}
