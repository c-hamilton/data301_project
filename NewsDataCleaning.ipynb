{
 "cells": [
  {
   "cell_type": "markdown",
   "metadata": {
    "slideshow": {
     "slide_type": "slide"
    }
   },
   "source": [
    "## Using News API we can get more information about the market\n",
    "The Natural Language Toolkit was used to analyze the sentiment of articles collected for a given topic. These sentiments were grouped by date in order to see the volumne and opinion about the keyword on a given day. We chose the keyword \"stocks\" here but played around with other keywords.\n",
    "\n",
    "#### Shout out to my boy Jordan of newsapi.org for giving me access back. They changed their access policy on monday from giving me years of data to only giving me a 100 articles."
   ]
  },
  {
   "cell_type": "code",
   "execution_count": 1,
   "metadata": {
    "slideshow": {
     "slide_type": "subslide"
    }
   },
   "outputs": [],
   "source": [
    "NEWS_API_KEY = \"c07df8265f264b20a0c2646a1740193e\"\n",
    "import requests\n",
    "import json\n",
    "\n",
    "import pandas as pd\n",
    "from pandas.io.json import json_normalize\n",
    "pd.options.display.max_rows = 10\n",
    "import re\n",
    "import nltk.sentiment.util"
   ]
  },
  {
   "cell_type": "code",
   "execution_count": 2,
   "metadata": {
    "slideshow": {
     "slide_type": "slide"
    }
   },
   "outputs": [],
   "source": [
    "def get_all_articles(topic, date):\n",
    "    page_number = 1\n",
    "    all_articles = pd.DataFrame({})\n",
    "    \n",
    "    # TODO fuck they changed their API\n",
    "    while page_number <= 20:\n",
    "        url = ('https://newsapi.org/v2/everything?'\n",
    "           'q=%s&'\n",
    "           'from=%s&'\n",
    "           'page=%d&'\n",
    "           'language=en&'  # language is english\n",
    "           'pageSize=100&'  # maximum page size\n",
    "           'sortBy=popularity&'\n",
    "           'apiKey=%s'\n",
    "        ) % (topic, date, page_number, NEWS_API_KEY)\n",
    "        response = requests.get(url)\n",
    "        news = json.loads(response.text)\n",
    "        print(news)\n",
    "        if not news[\"articles\"]:\n",
    "            break\n",
    "        all_articles = pd.concat([all_articles, json_normalize(news[\"articles\"])], ignore_index=True)\n",
    "        page_number += 1\n",
    "        print(len(all_articles))\n",
    "    return all_articles\n",
    "\n",
    "def clean_articles(df):\n",
    "    df[\"Date\"] = df.publishedAt.str.split(\"T\").str[0]\n",
    "    df.dropna(subset=['description'], inplace=True)\n",
    "    return df"
   ]
  },
  {
   "cell_type": "code",
   "execution_count": 3,
   "metadata": {
    "slideshow": {
     "slide_type": "slide"
    }
   },
   "outputs": [],
   "source": [
    "import sys\n",
    "from io import StringIO\n",
    "\n",
    "def get_sentiment(articles):\n",
    "    s = StringIO()\n",
    "    sys.stdout = s\n",
    "    articles[\"description\"].apply(nltk.sentiment.util.demo_liu_hu_lexicon)\n",
    "    # WHY ON EARTH WOULD YOU WRITE A FUNCTION THAT PRINTS INSTEAD OF RETURNING?\n",
    "    sys.stdout = sys.__stdout__\n",
    "    return s.getvalue().splitlines()\n",
    "\n",
    "def get_sentiment_by_date(articles):\n",
    "    return articles.groupby([\"Date\",\"sentiment\"]).size().unstack(fill_value=0)"
   ]
  },
  {
   "cell_type": "code",
   "execution_count": null,
   "metadata": {
    "slideshow": {
     "slide_type": "fragment"
    }
   },
   "outputs": [],
   "source": [
    "articles = get_all_articles(\"stocks\", \"2017-05-14\")\n",
    "articles"
   ]
  },
  {
   "cell_type": "code",
   "execution_count": null,
   "metadata": {
    "slideshow": {
     "slide_type": "fragment"
    }
   },
   "outputs": [],
   "source": [
    "articles"
   ]
  },
  {
   "cell_type": "code",
   "execution_count": 46,
   "metadata": {
    "slideshow": {
     "slide_type": "slide"
    }
   },
   "outputs": [],
   "source": [
    "articles = clean_articles(articles)"
   ]
  },
  {
   "cell_type": "code",
   "execution_count": 47,
   "metadata": {
    "slideshow": {
     "slide_type": "fragment"
    }
   },
   "outputs": [],
   "source": [
    "articles[\"sentiment\"] = get_sentiment(articles)"
   ]
  },
  {
   "cell_type": "code",
   "execution_count": 41,
   "metadata": {
    "slideshow": {
     "slide_type": "fragment"
    }
   },
   "outputs": [
    {
     "data": {
      "text/html": [
       "<div>\n",
       "<style scoped>\n",
       "    .dataframe tbody tr th:only-of-type {\n",
       "        vertical-align: middle;\n",
       "    }\n",
       "\n",
       "    .dataframe tbody tr th {\n",
       "        vertical-align: top;\n",
       "    }\n",
       "\n",
       "    .dataframe thead th {\n",
       "        text-align: right;\n",
       "    }\n",
       "</style>\n",
       "<table border=\"1\" class=\"dataframe\">\n",
       "  <thead>\n",
       "    <tr style=\"text-align: right;\">\n",
       "      <th></th>\n",
       "      <th>author</th>\n",
       "      <th>description</th>\n",
       "      <th>publishedAt</th>\n",
       "      <th>source.id</th>\n",
       "      <th>source.name</th>\n",
       "      <th>title</th>\n",
       "      <th>url</th>\n",
       "      <th>urlToImage</th>\n",
       "      <th>Date</th>\n",
       "      <th>sentiment</th>\n",
       "    </tr>\n",
       "  </thead>\n",
       "  <tbody>\n",
       "    <tr>\n",
       "      <th>0</th>\n",
       "      <td>Alicia Adamczyk on Two Cents, shared by Alicia...</td>\n",
       "      <td>So you’re a freelancer and you want to know wh...</td>\n",
       "      <td>2018-05-25T16:30:00Z</td>\n",
       "      <td>None</td>\n",
       "      <td>Lifehacker.com</td>\n",
       "      <td>How Freelancers Can Save for Retirement Beyond...</td>\n",
       "      <td>https://twocents.lifehacker.com/how-freelancer...</td>\n",
       "      <td>https://i.kinja-img.com/gawker-media/image/upl...</td>\n",
       "      <td>2018-05-25</td>\n",
       "      <td>Positive</td>\n",
       "    </tr>\n",
       "    <tr>\n",
       "      <th>1</th>\n",
       "      <td>Mariella Moon</td>\n",
       "      <td>Tesla has asked a federal court in San Francis...</td>\n",
       "      <td>2018-05-27T01:29:00Z</td>\n",
       "      <td>engadget</td>\n",
       "      <td>Engadget</td>\n",
       "      <td>Tesla denies exaggerating Model 3 production p...</td>\n",
       "      <td>https://www.engadget.com/2018/05/26/tesla-mode...</td>\n",
       "      <td>https://o.aolcdn.com/images/dims?thumbnail=120...</td>\n",
       "      <td>2018-05-27</td>\n",
       "      <td>Negative</td>\n",
       "    </tr>\n",
       "    <tr>\n",
       "      <th>2</th>\n",
       "      <td>Brian Heater</td>\n",
       "      <td>Baidu’s stocks took a hit earlier today after ...</td>\n",
       "      <td>2018-05-18T18:07:52Z</td>\n",
       "      <td>techcrunch</td>\n",
       "      <td>TechCrunch</td>\n",
       "      <td>Baidu’s top AI exec is stepping down</td>\n",
       "      <td>http://techcrunch.com/2018/05/18/baidus-top-ai...</td>\n",
       "      <td>https://techcrunch.com/wp-content/uploads/2018...</td>\n",
       "      <td>2018-05-18</td>\n",
       "      <td>Neutral</td>\n",
       "    </tr>\n",
       "    <tr>\n",
       "      <th>3</th>\n",
       "      <td>Matt Burns</td>\n",
       "      <td>Today at Apple’s World Wide Developer Conferen...</td>\n",
       "      <td>2018-06-04T19:26:02Z</td>\n",
       "      <td>techcrunch</td>\n",
       "      <td>TechCrunch</td>\n",
       "      <td>Apple to bring iOS apps to macOS</td>\n",
       "      <td>http://techcrunch.com/2018/06/04/apple-is-brin...</td>\n",
       "      <td>https://techcrunch.com/wp-content/uploads/2018...</td>\n",
       "      <td>2018-06-04</td>\n",
       "      <td>Positive</td>\n",
       "    </tr>\n",
       "    <tr>\n",
       "      <th>4</th>\n",
       "      <td>Sarah Perez</td>\n",
       "      <td>Target is lowering the price of its next-day d...</td>\n",
       "      <td>2018-05-15T14:01:00Z</td>\n",
       "      <td>techcrunch</td>\n",
       "      <td>TechCrunch</td>\n",
       "      <td>Target’s next-day delivery service, Target Res...</td>\n",
       "      <td>http://techcrunch.com/2018/05/15/targets-next-...</td>\n",
       "      <td>https://techcrunch.com/wp-content/uploads/2014...</td>\n",
       "      <td>2018-05-15</td>\n",
       "      <td>Positive</td>\n",
       "    </tr>\n",
       "  </tbody>\n",
       "</table>\n",
       "</div>"
      ],
      "text/plain": [
       "                                              author  \\\n",
       "0  Alicia Adamczyk on Two Cents, shared by Alicia...   \n",
       "1                                      Mariella Moon   \n",
       "2                                       Brian Heater   \n",
       "3                                         Matt Burns   \n",
       "4                                        Sarah Perez   \n",
       "\n",
       "                                         description           publishedAt  \\\n",
       "0  So you’re a freelancer and you want to know wh...  2018-05-25T16:30:00Z   \n",
       "1  Tesla has asked a federal court in San Francis...  2018-05-27T01:29:00Z   \n",
       "2  Baidu’s stocks took a hit earlier today after ...  2018-05-18T18:07:52Z   \n",
       "3  Today at Apple’s World Wide Developer Conferen...  2018-06-04T19:26:02Z   \n",
       "4  Target is lowering the price of its next-day d...  2018-05-15T14:01:00Z   \n",
       "\n",
       "    source.id     source.name  \\\n",
       "0        None  Lifehacker.com   \n",
       "1    engadget        Engadget   \n",
       "2  techcrunch      TechCrunch   \n",
       "3  techcrunch      TechCrunch   \n",
       "4  techcrunch      TechCrunch   \n",
       "\n",
       "                                               title  \\\n",
       "0  How Freelancers Can Save for Retirement Beyond...   \n",
       "1  Tesla denies exaggerating Model 3 production p...   \n",
       "2               Baidu’s top AI exec is stepping down   \n",
       "3                   Apple to bring iOS apps to macOS   \n",
       "4  Target’s next-day delivery service, Target Res...   \n",
       "\n",
       "                                                 url  \\\n",
       "0  https://twocents.lifehacker.com/how-freelancer...   \n",
       "1  https://www.engadget.com/2018/05/26/tesla-mode...   \n",
       "2  http://techcrunch.com/2018/05/18/baidus-top-ai...   \n",
       "3  http://techcrunch.com/2018/06/04/apple-is-brin...   \n",
       "4  http://techcrunch.com/2018/05/15/targets-next-...   \n",
       "\n",
       "                                          urlToImage        Date sentiment  \n",
       "0  https://i.kinja-img.com/gawker-media/image/upl...  2018-05-25  Positive  \n",
       "1  https://o.aolcdn.com/images/dims?thumbnail=120...  2018-05-27  Negative  \n",
       "2  https://techcrunch.com/wp-content/uploads/2018...  2018-05-18   Neutral  \n",
       "3  https://techcrunch.com/wp-content/uploads/2018...  2018-06-04  Positive  \n",
       "4  https://techcrunch.com/wp-content/uploads/2014...  2018-05-15  Positive  "
      ]
     },
     "execution_count": 41,
     "metadata": {},
     "output_type": "execute_result"
    }
   ],
   "source": [
    "articles.head()"
   ]
  },
  {
   "cell_type": "code",
   "execution_count": 32,
   "metadata": {
    "slideshow": {
     "slide_type": "slide"
    }
   },
   "outputs": [
    {
     "data": {
      "text/html": [
       "<div>\n",
       "<style scoped>\n",
       "    .dataframe tbody tr th:only-of-type {\n",
       "        vertical-align: middle;\n",
       "    }\n",
       "\n",
       "    .dataframe tbody tr th {\n",
       "        vertical-align: top;\n",
       "    }\n",
       "\n",
       "    .dataframe thead th {\n",
       "        text-align: right;\n",
       "    }\n",
       "</style>\n",
       "<table border=\"1\" class=\"dataframe\">\n",
       "  <thead>\n",
       "    <tr style=\"text-align: right;\">\n",
       "      <th>sentiment</th>\n",
       "      <th>Negative</th>\n",
       "      <th>Neutral</th>\n",
       "      <th>Positive</th>\n",
       "    </tr>\n",
       "    <tr>\n",
       "      <th>Date</th>\n",
       "      <th></th>\n",
       "      <th></th>\n",
       "      <th></th>\n",
       "    </tr>\n",
       "  </thead>\n",
       "  <tbody>\n",
       "    <tr>\n",
       "      <th>2018-05-14</th>\n",
       "      <td>0</td>\n",
       "      <td>0</td>\n",
       "      <td>1</td>\n",
       "    </tr>\n",
       "    <tr>\n",
       "      <th>2018-05-15</th>\n",
       "      <td>4</td>\n",
       "      <td>0</td>\n",
       "      <td>1</td>\n",
       "    </tr>\n",
       "    <tr>\n",
       "      <th>2018-05-16</th>\n",
       "      <td>2</td>\n",
       "      <td>1</td>\n",
       "      <td>1</td>\n",
       "    </tr>\n",
       "    <tr>\n",
       "      <th>2018-05-17</th>\n",
       "      <td>0</td>\n",
       "      <td>1</td>\n",
       "      <td>0</td>\n",
       "    </tr>\n",
       "    <tr>\n",
       "      <th>2018-05-18</th>\n",
       "      <td>0</td>\n",
       "      <td>1</td>\n",
       "      <td>0</td>\n",
       "    </tr>\n",
       "    <tr>\n",
       "      <th>...</th>\n",
       "      <td>...</td>\n",
       "      <td>...</td>\n",
       "      <td>...</td>\n",
       "    </tr>\n",
       "    <tr>\n",
       "      <th>2018-06-08</th>\n",
       "      <td>2</td>\n",
       "      <td>0</td>\n",
       "      <td>1</td>\n",
       "    </tr>\n",
       "    <tr>\n",
       "      <th>2018-06-10</th>\n",
       "      <td>0</td>\n",
       "      <td>1</td>\n",
       "      <td>0</td>\n",
       "    </tr>\n",
       "    <tr>\n",
       "      <th>2018-06-11</th>\n",
       "      <td>0</td>\n",
       "      <td>0</td>\n",
       "      <td>1</td>\n",
       "    </tr>\n",
       "    <tr>\n",
       "      <th>2018-06-12</th>\n",
       "      <td>2</td>\n",
       "      <td>2</td>\n",
       "      <td>0</td>\n",
       "    </tr>\n",
       "    <tr>\n",
       "      <th>2018-06-13</th>\n",
       "      <td>1</td>\n",
       "      <td>0</td>\n",
       "      <td>3</td>\n",
       "    </tr>\n",
       "  </tbody>\n",
       "</table>\n",
       "<p>26 rows × 3 columns</p>\n",
       "</div>"
      ],
      "text/plain": [
       "sentiment   Negative  Neutral  Positive\n",
       "Date                                   \n",
       "2018-05-14         0        0         1\n",
       "2018-05-15         4        0         1\n",
       "2018-05-16         2        1         1\n",
       "2018-05-17         0        1         0\n",
       "2018-05-18         0        1         0\n",
       "...              ...      ...       ...\n",
       "2018-06-08         2        0         1\n",
       "2018-06-10         0        1         0\n",
       "2018-06-11         0        0         1\n",
       "2018-06-12         2        2         0\n",
       "2018-06-13         1        0         3\n",
       "\n",
       "[26 rows x 3 columns]"
      ]
     },
     "execution_count": 32,
     "metadata": {},
     "output_type": "execute_result"
    }
   ],
   "source": [
    "sentiment_by_date = get_sentiment_by_date(articles)\n",
    "sentiment_by_date.columns\n",
    "sentiment_by_date"
   ]
  },
  {
   "cell_type": "code",
   "execution_count": 20,
   "metadata": {
    "slideshow": {
     "slide_type": "slide"
    }
   },
   "outputs": [],
   "source": [
    "import pickle\n",
    "pickle.dump(sentiment_by_date, open(\"sentiment_by_date.pkl\", \"wb\"))"
   ]
  },
  {
   "cell_type": "code",
   "execution_count": 61,
   "metadata": {
    "slideshow": {
     "slide_type": "slide"
    }
   },
   "outputs": [
    {
     "data": {
      "text/plain": [
       "'{\"status\":\"ok\",\"totalResults\":222263,\"articles\":[{\"source\":{\"id\":null,\"name\":\"Lifehacker.com\"},\"author\":\"Patrick Allan\",\"title\":\"What Is a \\\\\"Bump Stock\\\\\" And Why Is It so Dangerous?\",\"description\":\"The shooter who recently terrorized the Las Vegas strip, leaving 59 dead and hundreds injured, used gun modifications called “bump stocks” to make his rifles even deadlier. But what are they exactly? Read more...\",\"url\":\"https://lifehacker.com/what-is-a-bump-stock-and-why-is-it-so-dangerous-1819180018\",\"urlToImage\":\"https://i.kinja-img.com/gawker-media/image/upload/s--0m7CTp18--/c_fill,fl_progressive,g_center,h_450,q_80,w_800/dj0ewuz1s8nmscib6yhq.jpg\",\"publishedAt\":\"2017-10-05T19:30:00Z\"},{\"source\":{\"id\":null,\"name\":\"Lifehacker.com\"},\"author\":\"Alicia Adamczyk on Two Cents, shared by Alicia Adamczyk to Lifehacker\",\"title\":\"Investing Is Risky and Unethical and You Should Do It Anyway\",\"description\":\"Each Monday we’re tackling one of your pressing personal finance questions by asking a handful of money experts for their advice. If you have a general question or money concern, or just want to talk about something PeFi-related, leave it in the comments or e…\",\"url\":\"https://twocents.lifehacker.com/investing-is-risky-and-unethical-and-you-should-do-it-a-1824157984\",\"urlToImage\":\"https://i.kinja-img.com/gawker-media/image/upload/s--tYxQRq9---/c_fill,fl_progressive,g_center,h_900,q_80,w_1600/nbi81mp2pfedhgtnvl1o.jpg\",\"publishedAt\":\"2018-04-02T17:30:00Z\"},{\"source\":{\"id\":null,\"name\":\"Lifehacker.com\"},\"author\":\"Claire Lower on Skillet, shared by Claire Lower to Lifehacker\",\"title\":\"Fried Leek Greens Are Excellent on Scrambled Eggs\",\"description\":\"The green parts of the leek doesn’t get enough love. Almost every leek-containing recipe tells you that you don’t need them, that they’re too tough, and unworthy of you. This is all false. Though they are a bit tougher than their white counterparts, they have…\",\"url\":\"https://skillet.lifehacker.com/fried-leek-greens-are-excellent-on-scrambled-eggs-1825902069\",\"urlToImage\":\"https://i.kinja-img.com/gawker-media/image/upload/s--ydRwKMHv--/c_fill,fl_progressive,g_center,h_900,q_80,w_1600/socd7jypvfejw9rtnk0k.jpg\",\"publishedAt\":\"2018-05-10T16:00:00Z\"},{\"source\":{\"id\":null,\"name\":\"Lifehacker.com\"},\"author\":\"Alicia Adamczyk on Two Cents, shared by Alicia Adamczyk to Lifehacker\",\"title\":\"What\\'s the \\'Death\\' Tax?\",\"description\":\"When you pass away, is Uncle Sam coming for all of your remaining assets? Read more...\",\"url\":\"https://twocents.lifehacker.com/whats-the-death-tax-1825563542\",\"urlToImage\":\"https://i.kinja-img.com/gawker-media/image/upload/s--fxMZ0V-D--/c_fill,fl_progressive,g_center,h_900,q_80,w_1600/en6gsfwhyqhtunfqjpmo.jpg\",\"publishedAt\":\"2018-04-30T14:00:00Z\"},{\"source\":{\"id\":null,\"name\":\"Thetakeout.com\"},\"author\":\"Kevin Pang on The Takeout, shared by Virginia K. Smith to Lifehacker\",\"title\":\"How much better are Better Than Boullion\\'s vegetarian options?\",\"description\":\"The seismic shift in the bouillon soup base world, if such a thing exists, is the emergence of Better Than Bouillon as the go-to brand for instant stocks. Home cooks seem to love it—count myself among the fans—because unlike the powdered cube stuff (artificia…\",\"url\":\"https://thetakeout.com/how-much-better-are-better-than-boullions-vegetarian-op-1821812650\",\"urlToImage\":\"https://i.kinja-img.com/gawker-media/image/upload/s--j3C1oncr--/c_fill,fl_progressive,g_center,h_900,q_80,w_1600/vsl5zq6qqdthgnz0lvva.jpg\",\"publishedAt\":\"2018-01-05T18:54:00Z\"},{\"source\":{\"id\":null,\"name\":\"Lifehacker.com\"},\"author\":\"Patrick Allan\",\"title\":\"What Are the Assault Weapon Ban Loopholes Senator Marco Rubio Was Talking About?\",\"description\":\"Last night, CNN held a town hall discussion with those affected by the Marjory Stoneman Douglas High School shooting, Florida officials, and an NRA rep. In attendance was Senator Marco Rubio, who had some  things to say about the recently proposed and rejecte…\",\"url\":\"https://lifehacker.com/what-are-the-assault-weapon-ban-loopholes-senator-marco-1823227038\",\"urlToImage\":\"https://i.kinja-img.com/gawker-media/image/upload/s--H9aFML3d--/c_fill,fl_progressive,g_center,h_900,q_80,w_1600/xoinfml4jqjrthl5na56.png\",\"publishedAt\":\"2018-02-22T21:00:00Z\"},{\"source\":{\"id\":null,\"name\":\"Lifehacker.com\"},\"author\":\"Alicia Adamczyk on Two Cents, shared by Alicia Adamczyk to Lifehacker\",\"title\":\"How Different Retirement Income Is Taxed\",\"description\":\"We all dream of the day when we can leave a boring corporate job or unfulfilling career behind for good, take our retirement savings and spend more time with our family or take that trip we’ve been planning for our entire lives. And while you’ll have a millio…\",\"url\":\"https://twocents.lifehacker.com/how-different-retirement-income-is-taxed-1825581598\",\"urlToImage\":\"https://i.kinja-img.com/gawker-media/image/upload/s--_jNg4rra--/c_fill,fl_progressive,g_center,h_900,q_80,w_1600/hxpjxzkbofbafaqrwf0j.jpg\",\"publishedAt\":\"2018-04-27T15:00:00Z\"},{\"source\":{\"id\":null,\"name\":\"Lifehacker.com\"},\"author\":\"Nick Douglas\",\"title\":\"That Lemon Wedge in Your Drink Is Probably Filthy\",\"description\":\"The lemon wedge in your drink has a bad reputation, and the evidence for it seems obvious: No one at a restaurant washes the outside of a lemon, but then they throw that wedge onto your glass, sometimes letting the rind soak right in the drink. And according …\",\"url\":\"https://lifehacker.com/that-lemon-wedge-in-your-drink-is-probably-filthy-1820336248\",\"urlToImage\":\"https://i.kinja-img.com/gawker-media/image/upload/s--iA56zv5u--/c_fill,fl_progressive,g_center,h_900,q_80,w_1600/s0ddmn01jrjltg0lxqop.jpg\",\"publishedAt\":\"2017-11-10T19:30:00Z\"},{\"source\":{\"id\":null,\"name\":\"Lifehacker.com\"},\"author\":\"Alicia Adamczyk on Two Cents, shared by Alicia Adamczyk to Lifehacker\",\"title\":\"Investing Is Just One Piece of Your Financial Puzzle\",\"description\":\"Investing is an important part of a healthy financial life. You want your money to grow, and, short of winning the lottery, investing is the best way to do that. But as Jonathan Clements, the editor of Humble Dollar, reminds us in his newsletter, it’s hardly …\",\"url\":\"https://twocents.lifehacker.com/investing-is-just-one-piece-of-your-financial-puzzle-1823524821\",\"urlToImage\":\"https://i.kinja-img.com/gawker-media/image/upload/s--8urvY2uV--/c_fill,fl_progressive,g_center,h_900,q_80,w_1600/hlxzkizraznabgt1qzwg.jpg\",\"publishedAt\":\"2018-03-06T20:30:00Z\"},{\"source\":{\"id\":null,\"name\":\"Lifehacker.com\"},\"author\":\"Nick Douglas\",\"title\":\"The Worst Life Hacks of 2017\",\"description\":\"Updating your software is one of the most basic elements of maintaining your devices. Updates fix bugs and security flaws, introduce  new features, and take advantage of new hardware capabilities. Every major update includes a few new bugs or annoyances, mayb…\",\"url\":\"https://lifehacker.com/the-worst-life-hacks-of-2017-1821589638\",\"urlToImage\":\"https://i.kinja-img.com/gawker-media/image/upload/s--QnpRgjkx--/c_fill,fl_progressive,g_center,h_900,q_80,w_1600/bhz6mn7otgluky410e5d.jpg\",\"publishedAt\":\"2017-12-27T20:54:00Z\"}]}'"
      ]
     },
     "execution_count": 61,
     "metadata": {},
     "output_type": "execute_result"
    }
   ],
   "source": [
    "date1 = \"2017-06-15\"\n",
    "url = ('https://newsapi.org/v2/everything?'\n",
    "           'q=%s&'\n",
    "           'from=%s&'\n",
    "           'page=%d&'\n",
    "           'language=en&'  # language is english\n",
    "           'pageSize=10&'  # maximum page size\n",
    "           'sortBy=popularity&'\n",
    "           'apiKey=%s'\n",
    "           \n",
    "        ) % (\"stocks\", date1, 1, NEWS_API_KEY)\n",
    "response = requests.get(url)\n",
    "# news = json.loads(response.text)\n",
    "response.text"
   ]
  },
  {
   "cell_type": "code",
   "execution_count": 57,
   "metadata": {
    "slideshow": {
     "slide_type": "slide"
    }
   },
   "outputs": [],
   "source": [
    "!jupyter nbconvert NewsDataCleaning.ipynb --to slides --post serve"
   ]
  },
  {
   "cell_type": "code",
   "execution_count": null,
   "metadata": {},
   "outputs": [],
   "source": []
  }
 ],
 "metadata": {
  "celltoolbar": "Slideshow",
  "kernelspec": {
   "display_name": "Python 3",
   "language": "python",
   "name": "python3"
  },
  "language_info": {
   "codemirror_mode": {
    "name": "ipython",
    "version": 3
   },
   "file_extension": ".py",
   "mimetype": "text/x-python",
   "name": "python",
   "nbconvert_exporter": "python",
   "pygments_lexer": "ipython3",
   "version": "3.6.5"
  }
 },
 "nbformat": 4,
 "nbformat_minor": 2
}
