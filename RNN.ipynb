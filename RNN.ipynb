{
 "cells": [
  {
   "cell_type": "code",
   "execution_count": 1,
   "metadata": {},
   "outputs": [],
   "source": [
    "import numpy as np\n",
    "import pandas as pd"
   ]
  },
  {
   "cell_type": "code",
   "execution_count": 42,
   "metadata": {},
   "outputs": [
    {
     "data": {
      "text/html": [
       "<div>\n",
       "<style scoped>\n",
       "    .dataframe tbody tr th:only-of-type {\n",
       "        vertical-align: middle;\n",
       "    }\n",
       "\n",
       "    .dataframe tbody tr th {\n",
       "        vertical-align: top;\n",
       "    }\n",
       "\n",
       "    .dataframe thead th {\n",
       "        text-align: right;\n",
       "    }\n",
       "</style>\n",
       "<table border=\"1\" class=\"dataframe\">\n",
       "  <thead>\n",
       "    <tr style=\"text-align: right;\">\n",
       "      <th>sentiment</th>\n",
       "      <th>Negative</th>\n",
       "      <th>Neutral</th>\n",
       "      <th>Positive</th>\n",
       "    </tr>\n",
       "    <tr>\n",
       "      <th>Date</th>\n",
       "      <th></th>\n",
       "      <th></th>\n",
       "      <th></th>\n",
       "    </tr>\n",
       "  </thead>\n",
       "  <tbody>\n",
       "    <tr>\n",
       "      <th>2017-09-22</th>\n",
       "      <td>1</td>\n",
       "      <td>4</td>\n",
       "      <td>5</td>\n",
       "    </tr>\n",
       "    <tr>\n",
       "      <th>2017-09-24</th>\n",
       "      <td>0</td>\n",
       "      <td>1</td>\n",
       "      <td>0</td>\n",
       "    </tr>\n",
       "    <tr>\n",
       "      <th>2017-09-25</th>\n",
       "      <td>3</td>\n",
       "      <td>2</td>\n",
       "      <td>5</td>\n",
       "    </tr>\n",
       "  </tbody>\n",
       "</table>\n",
       "</div>"
      ],
      "text/plain": [
       "sentiment   Negative  Neutral  Positive\n",
       "Date                                   \n",
       "2017-09-22         1        4         5\n",
       "2017-09-24         0        1         0\n",
       "2017-09-25         3        2         5"
      ]
     },
     "execution_count": 42,
     "metadata": {},
     "output_type": "execute_result"
    }
   ],
   "source": [
    "# Load the pickled predictors\n",
    "import pickle\n",
    "predictors = pickle.load(open(\"predictors.pkl\", \"rb\"))\n",
    "\n",
    "sentiment_by_date = pickle.load(open(\"sentiment_by_date.pkl\", \"rb\"))\n",
    "\n",
    "#  Do we need to mess with this?\n",
    "#  Recurrent Neural Networks for Multivariate Time Series with Missing Values\n",
    "#  https://www.nature.com/articles/s41598-018-24271-9\n",
    "# predictors.head()\n",
    "sentiment_by_date.head(3)"
   ]
  },
  {
   "cell_type": "code",
   "execution_count": 43,
   "metadata": {},
   "outputs": [
    {
     "data": {
      "text/html": [
       "<div>\n",
       "<style scoped>\n",
       "    .dataframe tbody tr th:only-of-type {\n",
       "        vertical-align: middle;\n",
       "    }\n",
       "\n",
       "    .dataframe tbody tr th {\n",
       "        vertical-align: top;\n",
       "    }\n",
       "\n",
       "    .dataframe thead th {\n",
       "        text-align: right;\n",
       "    }\n",
       "</style>\n",
       "<table border=\"1\" class=\"dataframe\">\n",
       "  <thead>\n",
       "    <tr style=\"text-align: right;\">\n",
       "      <th>Name</th>\n",
       "      <th>AAPL</th>\n",
       "    </tr>\n",
       "    <tr>\n",
       "      <th>date</th>\n",
       "      <th></th>\n",
       "    </tr>\n",
       "  </thead>\n",
       "  <tbody>\n",
       "    <tr>\n",
       "      <th>2013-02-08</th>\n",
       "      <td>67.8542</td>\n",
       "    </tr>\n",
       "    <tr>\n",
       "      <th>2013-02-11</th>\n",
       "      <td>68.5614</td>\n",
       "    </tr>\n",
       "    <tr>\n",
       "      <th>2013-02-12</th>\n",
       "      <td>66.8428</td>\n",
       "    </tr>\n",
       "  </tbody>\n",
       "</table>\n",
       "</div>"
      ],
      "text/plain": [
       "Name           AAPL\n",
       "date               \n",
       "2013-02-08  67.8542\n",
       "2013-02-11  68.5614\n",
       "2013-02-12  66.8428"
      ]
     },
     "execution_count": 43,
     "metadata": {},
     "output_type": "execute_result"
    }
   ],
   "source": [
    "daily_stock = pickle.load(open(\"daily_stock.pkl\", \"rb\"))\n",
    "daily_stock[[\"AAPL\"]].head(3)"
   ]
  },
  {
   "cell_type": "code",
   "execution_count": 45,
   "metadata": {},
   "outputs": [],
   "source": [
    "aapl = sentiment_by_date.merge(daily_stock[[\"AAPL\"]],\n",
    "             how=\"outer\", \n",
    "    right_index = True, \n",
    "    left_index = True\n",
    ")"
   ]
  },
  {
   "cell_type": "code",
   "execution_count": 71,
   "metadata": {},
   "outputs": [],
   "source": [
    "examine = predictors[[\"gold\", \"crude_oil\", \"futures_10\"]].fillna(0.0)\n",
    "examine = examine.merge(aapl,\n",
    "             how=\"outer\", \n",
    "    right_index = True, \n",
    "    left_index = True\n",
    ")\n",
    "examine = examine[~examine.AAPL.isnull()].fillna(0.0)"
   ]
  },
  {
   "cell_type": "code",
   "execution_count": 72,
   "metadata": {},
   "outputs": [
    {
     "name": "stdout",
     "output_type": "stream",
     "text": [
      "1259\n"
     ]
    }
   ],
   "source": [
    "float_data = np.array(examine)\n",
    "print(len(float_data))"
   ]
  },
  {
   "cell_type": "code",
   "execution_count": 73,
   "metadata": {},
   "outputs": [],
   "source": [
    "def generator(data, lookback, delay, min_index, max_index,\n",
    "              shuffle=False, batch_size=128, step=6):\n",
    "    if max_index is None:\n",
    "        max_index = len(data) - delay - 1\n",
    "    i = min_index + lookback\n",
    "    while 1:\n",
    "        if shuffle:\n",
    "            rows = np.random.randint(\n",
    "                min_index + lookback, max_index, size=batch_size)\n",
    "        else:\n",
    "            if i + batch_size >= max_index:\n",
    "                i = min_index + lookback\n",
    "            rows = np.arange(i, min(i + batch_size, max_index))\n",
    "            i += len(rows)\n",
    "\n",
    "        samples = np.zeros((len(rows),\n",
    "                            lookback // step,\n",
    "                            data.shape[-1]))\n",
    "        targets = np.zeros((len(rows),))\n",
    "        for j, row in enumerate(rows):\n",
    "            indices = range(rows[j] - lookback, rows[j], step)\n",
    "            samples[j] = data[indices]\n",
    "            targets[j] = data[rows[j] + delay][1]\n",
    "        yield samples, targets"
   ]
  },
  {
   "cell_type": "code",
   "execution_count": 74,
   "metadata": {},
   "outputs": [
    {
     "name": "stderr",
     "output_type": "stream",
     "text": [
      "/usr/local/lib/python3.6/site-packages/ipykernel_launcher.py:9: RuntimeWarning: divide by zero encountered in true_divide\n",
      "  if __name__ == '__main__':\n",
      "/usr/local/lib/python3.6/site-packages/ipykernel_launcher.py:9: RuntimeWarning: invalid value encountered in true_divide\n",
      "  if __name__ == '__main__':\n"
     ]
    },
    {
     "data": {
      "text/plain": [
       "array([[ 2.18904235,  0.76939297,  1.60981269, ...,         nan,\n",
       "                nan, -1.18941722],\n",
       "       [ 2.15743809,  0.81875292,  1.59734976, ...,         nan,\n",
       "                nan, -1.1580931 ],\n",
       "       [ 2.04745529,  0.836839  ,  1.49141489, ...,         nan,\n",
       "                nan, -1.23421531],\n",
       "       ..., \n",
       "       [ 0.50693759, -0.42014404, -2.31600883, ...,         nan,\n",
       "                inf,  2.73654177],\n",
       "       [ 0.54511553, -0.44878034, -2.22253689, ...,         inf,\n",
       "                inf,  3.02621899],\n",
       "       [ 0.46345014, -0.5090673 , -2.43440663, ...,         nan,\n",
       "                inf,  2.87163589]])"
      ]
     },
     "execution_count": 74,
     "metadata": {},
     "output_type": "execute_result"
    }
   ],
   "source": [
    "# [ : val_slice : test_slice ]\n",
    "val_slice = 800\n",
    "test_slice = 1100\n",
    "\n",
    "\n",
    "mean = float_data[:val_slice].mean(axis=0)\n",
    "float_data -= mean\n",
    "std = float_data[:val_slice].std(axis=0)\n",
    "float_data /= std\n",
    "\n",
    "float_data"
   ]
  },
  {
   "cell_type": "code",
   "execution_count": 75,
   "metadata": {},
   "outputs": [],
   "source": [
    "lookback = 5 # How many timesteps back the input data should go.\n",
    "step = 1 # The period, in timesteps, at which you sample data. \n",
    "delay = 1 # How many timesteps in the future the target should be.\n",
    "batch_size = 32 # Number big enough that it could be representatative of the whole \n",
    "\n",
    "train_gen = generator(float_data,\n",
    "                        lookback=lookback,\n",
    "                        delay=delay,\n",
    "                        min_index=0,\n",
    "                        max_index=val_slice,\n",
    "                        shuffle=False,\n",
    "                        step=step,\n",
    "                        batch_size=batch_size)\n",
    "\n",
    "val_gen = generator(float_data,\n",
    "                        lookback=lookback,\n",
    "                        delay=delay,\n",
    "                        min_index=(val_slice+1),\n",
    "                        max_index=test_slice,\n",
    "                        step=step,\n",
    "                        batch_size=batch_size)\n",
    "\n",
    "test_gen = generator(float_data,\n",
    "                        lookback=lookback,\n",
    "                        delay=delay,\n",
    "                        min_index=test_slice+1,\n",
    "                        max_index=None,\n",
    "                        step=step,\n",
    "                        batch_size=batch_size)\n",
    "\n",
    "val_steps = (test_slice - (val_slice+1) - lookback)\n",
    "test_steps = (len(float_data) - (test_slice+1) - lookback)"
   ]
  },
  {
   "cell_type": "code",
   "execution_count": 76,
   "metadata": {},
   "outputs": [
    {
     "name": "stdout",
     "output_type": "stream",
     "text": [
      "294 153\n"
     ]
    },
    {
     "data": {
      "text/plain": [
       "7"
      ]
     },
     "execution_count": 76,
     "metadata": {},
     "output_type": "execute_result"
    }
   ],
   "source": [
    "print(val_steps, test_steps)\n",
    "float_data.shape[-1] # number of variables"
   ]
  },
  {
   "cell_type": "code",
   "execution_count": 77,
   "metadata": {},
   "outputs": [],
   "source": [
    "from keras.models import Sequential\n",
    "from keras import layers\n",
    "from keras.optimizers import RMSprop"
   ]
  },
  {
   "cell_type": "code",
   "execution_count": 78,
   "metadata": {},
   "outputs": [],
   "source": [
    "model = Sequential()\n",
    "# Can replace GRU with RNN or LTSM for experimentation.\n",
    "model.add(layers.GRU(16, input_shape=(None, float_data.shape[-1]),\n",
    "                    recurrent_dropout = .5))\n",
    "model.add(layers.Dropout(0.5))\n",
    "model.add(layers.Dense(1))\n",
    "model.compile(optimizer=RMSprop(), loss='mae')\n"
   ]
  },
  {
   "cell_type": "code",
   "execution_count": 79,
   "metadata": {},
   "outputs": [
    {
     "name": "stdout",
     "output_type": "stream",
     "text": [
      "Epoch 1/16\n",
      "16/16 [==============================] - 3s 169ms/step - loss: nan - val_loss: nan\n",
      "Epoch 2/16\n",
      "16/16 [==============================] - 1s 78ms/step - loss: nan - val_loss: nan\n",
      "Epoch 3/16\n",
      "16/16 [==============================] - 1s 72ms/step - loss: nan - val_loss: nan\n",
      "Epoch 4/16\n",
      "16/16 [==============================] - 1s 66ms/step - loss: nan - val_loss: nan\n",
      "Epoch 5/16\n",
      "16/16 [==============================] - 1s 62ms/step - loss: nan - val_loss: nan\n",
      "Epoch 6/16\n",
      "16/16 [==============================] - 1s 64ms/step - loss: nan - val_loss: nan\n",
      "Epoch 7/16\n",
      "16/16 [==============================] - 1s 59ms/step - loss: nan - val_loss: nan\n",
      "Epoch 8/16\n",
      "16/16 [==============================] - 1s 62ms/step - loss: nan - val_loss: nan\n",
      "Epoch 9/16\n",
      "16/16 [==============================] - 1s 63ms/step - loss: nan - val_loss: nan\n",
      "Epoch 10/16\n",
      "16/16 [==============================] - 1s 68ms/step - loss: nan - val_loss: nan\n",
      "Epoch 11/16\n",
      "16/16 [==============================] - 1s 58ms/step - loss: nan - val_loss: nan\n",
      "Epoch 12/16\n",
      "16/16 [==============================] - 1s 56ms/step - loss: nan - val_loss: nan\n",
      "Epoch 13/16\n",
      "16/16 [==============================] - 1s 59ms/step - loss: nan - val_loss: nan\n",
      "Epoch 14/16\n",
      "16/16 [==============================] - 1s 56ms/step - loss: nan - val_loss: nan\n",
      "Epoch 15/16\n",
      "16/16 [==============================] - 1s 59ms/step - loss: nan - val_loss: nan\n",
      "Epoch 16/16\n",
      "16/16 [==============================] - 1s 65ms/step - loss: nan - val_loss: nan\n"
     ]
    }
   ],
   "source": [
    "history = model.fit_generator(train_gen,\n",
    "                            steps_per_epoch=16, # \n",
    "                            epochs=16, # passes through the training data\n",
    "                            validation_data=val_gen,\n",
    "                            validation_steps=val_steps,\n",
    "                             verbose=1)"
   ]
  },
  {
   "cell_type": "code",
   "execution_count": 61,
   "metadata": {},
   "outputs": [
    {
     "data": {
      "text/plain": [
       "[<matplotlib.lines.Line2D at 0x11c9990b8>]"
      ]
     },
     "execution_count": 61,
     "metadata": {},
     "output_type": "execute_result"
    },
    {
     "data": {
      "image/png": "[encoded data removed]",
      "text/plain": [
       "<Figure size 432x288 with 1 Axes>"
      ]
     },
     "metadata": {},
     "output_type": "display_data"
    }
   ],
   "source": [
    "% matplotlib inline\n",
    "val_loss = history.history['val_loss']\n",
    "epochs = range(1, len(val_loss) + 1)\n",
    "\n",
    "import matplotlib.pyplot as plt\n",
    "plt.plot(epochs, val_loss, 'b', label='Validation loss')"
   ]
  },
  {
   "cell_type": "code",
   "execution_count": null,
   "metadata": {},
   "outputs": [],
   "source": []
  }
 ],
 "metadata": {
  "kernelspec": {
   "display_name": "Python 3",
   "language": "python",
   "name": "python3"
  },
  "language_info": {
   "codemirror_mode": {
    "name": "ipython",
    "version": 3
   },
   "file_extension": ".py",
   "mimetype": "text/x-python",
   "name": "python",
   "nbconvert_exporter": "python",
   "pygments_lexer": "ipython3",
   "version": "3.6.5"
  }
 },
 "nbformat": 4,
 "nbformat_minor": 2
}
