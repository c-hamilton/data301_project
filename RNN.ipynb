{
 "cells": [
  {
   "cell_type": "code",
   "execution_count": 47,
   "metadata": {},
   "outputs": [],
   "source": [
    "import numpy as np\n",
    "import pandas as pd"
   ]
  },
  {
   "cell_type": "code",
   "execution_count": null,
   "metadata": {},
   "outputs": [],
   "source": [
    "#pickle data frame\n",
    "#float_data = np.array(data_frame)"
   ]
  },
  {
   "cell_type": "code",
   "execution_count": 160,
   "metadata": {},
   "outputs": [],
   "source": [
    "aapl = pd.read_csv(\"AAPL_data.csv\")\n",
    "aapl[\"change\"] = (aapl.close - aapl.open) / aapl.open * 100\n",
    "aapl_data = np.array(aapl[[\"change\", \"volume\"]])\n",
    "aapl_data\n",
    "\n",
    "float_data = np.array(aapl[[\"change\", \"volume\"]])"
   ]
  },
  {
   "cell_type": "code",
   "execution_count": 49,
   "metadata": {},
   "outputs": [],
   "source": [
    "def generator(data, lookback, delay, min_index, max_index,\n",
    "              shuffle=False, batch_size=128, step=6):\n",
    "    if max_index is None:\n",
    "        max_index = len(data) - delay - 1\n",
    "    i = min_index + lookback\n",
    "    while 1:\n",
    "        if shuffle:\n",
    "            rows = np.random.randint(\n",
    "                min_index + lookback, max_index, size=batch_size)\n",
    "        else:\n",
    "            if i + batch_size >= max_index:\n",
    "                i = min_index + lookback\n",
    "            rows = np.arange(i, min(i + batch_size, max_index))\n",
    "            i += len(rows)\n",
    "\n",
    "        samples = np.zeros((len(rows),\n",
    "                            lookback // step,\n",
    "                            data.shape[-1]))\n",
    "        targets = np.zeros((len(rows),))\n",
    "        for j, row in enumerate(rows):\n",
    "            indices = range(rows[j] - lookback, rows[j], step)\n",
    "            samples[j] = data[indices]\n",
    "            targets[j] = data[rows[j] + delay][1]\n",
    "        yield samples, targets"
   ]
  },
  {
   "cell_type": "code",
   "execution_count": 161,
   "metadata": {},
   "outputs": [
    {
     "data": {
      "text/plain": [
       "array([[ 0.17278246,  2.65755038],\n",
       "       [ 0.56388659,  1.80736799],\n",
       "       [-1.83046386,  2.47259712],\n",
       "       ..., \n",
       "       [-1.23529692,  0.16497982],\n",
       "       [ 4.05224238,  0.03383934],\n",
       "       [-1.64176399, -0.45152418]])"
      ]
     },
     "execution_count": 161,
     "metadata": {},
     "output_type": "execute_result"
    }
   ],
   "source": [
    "\n",
    "# [ : val_slice : test_slice ]\n",
    "\n",
    "val_slice = 800\n",
    "test_slice = 1100\n",
    "\n",
    "\n",
    "mean = float_data[:val_slice].mean(axis=0)\n",
    "float_data -= mean\n",
    "std = float_data[:val_slice].std(axis=0)\n",
    "float_data /= std\n",
    "\n",
    "float_data"
   ]
  },
  {
   "cell_type": "code",
   "execution_count": 156,
   "metadata": {},
   "outputs": [],
   "source": [
    "lookback = 5 # How many timesteps back the input data should go.\n",
    "step = 1 # The period, in timesteps, at which you sample data. \n",
    "delay = 1 # How many timesteps in the future the target should be.\n",
    "batch_size = 32 # Number big enough that it could be representatative of the whole \n",
    "\n",
    "train_gen = generator(float_data,\n",
    "                        lookback=lookback,\n",
    "                        delay=delay,\n",
    "                        min_index=0,\n",
    "                        max_index=val_slice,\n",
    "                        shuffle=False,\n",
    "                        step=step,\n",
    "                        batch_size=batch_size)\n",
    "\n",
    "val_gen = generator(float_data,\n",
    "                        lookback=lookback,\n",
    "                        delay=delay,\n",
    "                        min_index=(val_slice+1),\n",
    "                        max_index=test_slice,\n",
    "                        step=step,\n",
    "                        batch_size=batch_size)\n",
    "\n",
    "test_gen = generator(float_data,\n",
    "                        lookback=lookback,\n",
    "                        delay=delay,\n",
    "                        min_index=test_slice+1,\n",
    "                        max_index=None,\n",
    "                        step=step,\n",
    "                        batch_size=batch_size)\n",
    "\n",
    "val_steps = (test_slice - (val_slice+1) - lookback)\n",
    "test_steps = (len(float_data) - (test_slice+1) - lookback)"
   ]
  },
  {
   "cell_type": "code",
   "execution_count": 162,
   "metadata": {},
   "outputs": [
    {
     "name": "stdout",
     "output_type": "stream",
     "text": [
      "294 153\n"
     ]
    },
    {
     "data": {
      "text/plain": [
       "2"
      ]
     },
     "execution_count": 162,
     "metadata": {},
     "output_type": "execute_result"
    }
   ],
   "source": [
    "print(val_steps, test_steps)\n",
    "float_data.shape[-1] # number of variables"
   ]
  },
  {
   "cell_type": "code",
   "execution_count": 123,
   "metadata": {},
   "outputs": [],
   "source": [
    "from keras.models import Sequential\n",
    "from keras import layers\n",
    "from keras.optimizers import RMSprop"
   ]
  },
  {
   "cell_type": "code",
   "execution_count": 150,
   "metadata": {},
   "outputs": [],
   "source": [
    "model = Sequential()\n",
    "# Can replace GRU with RNN or LTSM for experimentation.\n",
    "model.add(layers.GRU(16, input_shape=(None, float_data.shape[-1]),\n",
    "                    recurrent_dropout = .5))\n",
    "model.add(layers.Dropout(0.5))\n",
    "model.add(layers.Dense(1))\n",
    "model.compile(optimizer=RMSprop(), loss='mae')\n"
   ]
  },
  {
   "cell_type": "code",
   "execution_count": 151,
   "metadata": {},
   "outputs": [
    {
     "name": "stdout",
     "output_type": "stream",
     "text": [
      "Epoch 1/16\n",
      "16/16 [==============================] - 22s 1s/step - loss: 0.7373 - val_loss: 0.8910\n",
      "Epoch 2/16\n",
      "16/16 [==============================] - 7s 449ms/step - loss: 0.8040 - val_loss: 0.7814\n",
      "Epoch 3/16\n",
      "16/16 [==============================] - 8s 494ms/step - loss: 0.6422 - val_loss: 0.6626\n",
      "Epoch 4/16\n",
      "16/16 [==============================] - 7s 450ms/step - loss: 0.6322 - val_loss: 0.5865\n",
      "Epoch 5/16\n",
      "16/16 [==============================] - 7s 438ms/step - loss: 0.6317 - val_loss: 0.5039\n",
      "Epoch 6/16\n",
      "16/16 [==============================] - 8s 475ms/step - loss: 0.6181 - val_loss: 0.4621\n",
      "Epoch 7/16\n",
      "16/16 [==============================] - 7s 451ms/step - loss: 0.5189 - val_loss: 0.4201\n",
      "Epoch 8/16\n",
      "16/16 [==============================] - 7s 462ms/step - loss: 0.5701 - val_loss: 0.4131\n",
      "Epoch 9/16\n",
      "16/16 [==============================] - 7s 444ms/step - loss: 0.5973 - val_loss: 0.4031\n",
      "Epoch 10/16\n",
      "16/16 [==============================] - 7s 432ms/step - loss: 0.5303 - val_loss: 0.3923\n",
      "Epoch 11/16\n",
      "16/16 [==============================] - 7s 463ms/step - loss: 0.5469 - val_loss: 0.3730\n",
      "Epoch 12/16\n",
      "16/16 [==============================] - 7s 445ms/step - loss: 0.4866 - val_loss: 0.3718\n",
      "Epoch 13/16\n",
      "16/16 [==============================] - 7s 449ms/step - loss: 0.5271 - val_loss: 0.4172\n",
      "Epoch 14/16\n",
      "16/16 [==============================] - 7s 450ms/step - loss: 0.5313 - val_loss: 0.4456\n",
      "Epoch 15/16\n",
      "16/16 [==============================] - 7s 451ms/step - loss: 0.5925 - val_loss: 0.4197\n",
      "Epoch 16/16\n",
      "16/16 [==============================] - 7s 431ms/step - loss: 0.5185 - val_loss: 0.4180\n"
     ]
    }
   ],
   "source": [
    "history = model.fit_generator(train_gen,\n",
    "                            steps_per_epoch=16, # \n",
    "                            epochs=16, # passes through the training data\n",
    "                            validation_data=val_gen,\n",
    "                            validation_steps=val_steps,\n",
    "                             verbose=1)"
   ]
  },
  {
   "cell_type": "code",
   "execution_count": 153,
   "metadata": {},
   "outputs": [
    {
     "data": {
      "text/plain": [
       "[<matplotlib.lines.Line2D at 0x7f494e19efd0>]"
      ]
     },
     "execution_count": 153,
     "metadata": {},
     "output_type": "execute_result"
    },
    {
     "data": {
      "image/png": "[encoded data removed]",
      "text/plain": [
       "<Figure size 432x288 with 1 Axes>"
      ]
     },
     "metadata": {},
     "output_type": "display_data"
    }
   ],
   "source": [
    "val_loss = history.history['val_loss']\n",
    "epochs = range(1, len(val_loss) + 1)\n",
    "\n",
    "import matplotlib.pyplot as plt\n",
    "plt.plot(epochs, val_loss, 'b', label='Validation loss')"
   ]
  },
  {
   "cell_type": "code",
   "execution_count": null,
   "metadata": {},
   "outputs": [],
   "source": []
  }
 ],
 "metadata": {
  "kernelspec": {
   "display_name": "Python 3",
   "language": "python",
   "name": "python3"
  },
  "language_info": {
   "codemirror_mode": {
    "name": "ipython",
    "version": 3
   },
   "file_extension": ".py",
   "mimetype": "text/x-python",
   "name": "python",
   "nbconvert_exporter": "python",
   "pygments_lexer": "ipython3",
   "version": "3.6.5"
  }
 },
 "nbformat": 4,
 "nbformat_minor": 2
}
