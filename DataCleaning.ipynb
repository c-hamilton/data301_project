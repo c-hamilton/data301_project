{
 "cells": [
  {
   "cell_type": "code",
   "execution_count": 1,
   "metadata": {},
   "outputs": [],
   "source": [
    "QUANDLE_API_KEY = \"2jWcwdZcAecTBtixj8Wz\""
   ]
  },
  {
   "cell_type": "markdown",
   "metadata": {},
   "source": [
    "## Using the Quandle API\n",
    "\n",
    "#### This segments uses the api to pull a couple commodities and join them by date"
   ]
  },
  {
   "cell_type": "code",
   "execution_count": 2,
   "metadata": {},
   "outputs": [],
   "source": [
    "import requests\n",
    "import time\n",
    "import pandas as pd"
   ]
  },
  {
   "cell_type": "code",
   "execution_count": 3,
   "metadata": {},
   "outputs": [],
   "source": [
    "gold = pd.read_csv(\"https://www.quandl.com/api/v3/datasets/LBMA/GOLD.csv?api_key=%s\" % QUANDLE_API_KEY, \n",
    "                  index_col=0)"
   ]
  },
  {
   "cell_type": "code",
   "execution_count": 4,
   "metadata": {},
   "outputs": [],
   "source": [
    "crude_oil = pd.read_csv(\"https://www.quandl.com/api/v3/datasets/CHRIS/CME_CL1.csv?api_key=%s\" % QUANDLE_API_KEY, \n",
    "                       index_col=0)"
   ]
  },
  {
   "cell_type": "code",
   "execution_count": 5,
   "metadata": {},
   "outputs": [],
   "source": [
    "gas = pd.read_csv(\"https://www.quandl.com/api/v3/datasets/FRED/GASALLCOVW.csv?api_key=%s\" % QUANDLE_API_KEY,\n",
    "                 index_col=0)"
   ]
  },
  {
   "cell_type": "code",
   "execution_count": 6,
   "metadata": {},
   "outputs": [],
   "source": [
    "bit_cap = pd.read_csv(\"https://www.quandl.com/api/v3/datasets/BCHAIN/MKTCP.csv?api_key=%s\" % QUANDLE_API_KEY, \n",
    "                     index_col=0)"
   ]
  },
  {
   "cell_type": "code",
   "execution_count": 7,
   "metadata": {},
   "outputs": [],
   "source": [
    "futures_2 = pd.read_csv(\"https://www.quandl.com/api/v3/datasets/CHRIS/CME_TU2.csv?api_key=%s\" % QUANDLE_API_KEY,\n",
    "                       index_col=0)"
   ]
  },
  {
   "cell_type": "code",
   "execution_count": 8,
   "metadata": {},
   "outputs": [],
   "source": [
    "futures_10 = pd.read_csv(\"https://www.quandl.com/api/v3/datasets/CHRIS/CME_TY2.csv?api_key=%s\" % QUANDLE_API_KEY,\n",
    "                        index_col=0)\n"
   ]
  },
  {
   "cell_type": "code",
   "execution_count": 9,
   "metadata": {},
   "outputs": [],
   "source": [
    "aapl = pd.read_csv(\"https://www.quandl.com/api/v3/datatables/SHARADAR/SF1.csv?ticker=AAPL&qopts.columns=ticker,dimension,datekey,revenue&api_key=%s\" % QUANDLE_API_KEY)\n"
   ]
  },
  {
   "cell_type": "code",
   "execution_count": 10,
   "metadata": {},
   "outputs": [],
   "source": [
    "predictors = gold[[\"USD (AM)\"]].merge(\n",
    "    crude_oil[[\"Settle\"]], \n",
    "    how=\"outer\", \n",
    "    right_index = True, \n",
    "    left_index = True\n",
    ").rename(index=str, columns={\"USD (AM)\": \"gold\", \"Settle\": \"crude_oil\"})\n",
    "\n",
    "# predictors.head()"
   ]
  },
  {
   "cell_type": "code",
   "execution_count": 11,
   "metadata": {},
   "outputs": [],
   "source": [
    "predictors = predictors.merge(\n",
    "    gas, \n",
    "    how=\"outer\", \n",
    "    right_index = True, \n",
    "    left_index = True\n",
    ").rename(index=str, columns={\"Value\": \"gas\"})\n",
    "\n",
    "# predictors.head()"
   ]
  },
  {
   "cell_type": "code",
   "execution_count": 12,
   "metadata": {},
   "outputs": [],
   "source": [
    "predictors = predictors.merge(\n",
    "    bit_cap, \n",
    "    how=\"outer\", \n",
    "    right_index = True, \n",
    "    left_index = True\n",
    ").rename(index=str, columns={\"Value\": \"bit_cap\"})\n",
    "\n",
    "# predictors.head()"
   ]
  },
  {
   "cell_type": "code",
   "execution_count": 13,
   "metadata": {},
   "outputs": [],
   "source": [
    "predictors = predictors.merge(\n",
    "    futures_2[[\"Settle\"]], \n",
    "    how=\"outer\", \n",
    "    right_index = True, \n",
    "    left_index = True\n",
    ").rename(index=str, columns={\"Settle\": \"futures_2\"})"
   ]
  },
  {
   "cell_type": "code",
   "execution_count": 14,
   "metadata": {},
   "outputs": [],
   "source": [
    "predictors = predictors.merge(\n",
    "    futures_10[[\"Settle\"]], \n",
    "    how=\"outer\", \n",
    "    right_index = True, \n",
    "    left_index = True\n",
    ").rename(index=str, columns={\"Settle\": \"futures_10\"})"
   ]
  },
  {
   "cell_type": "code",
   "execution_count": 15,
   "metadata": {},
   "outputs": [
    {
     "data": {
      "text/html": [
       "<div>\n",
       "<style scoped>\n",
       "    .dataframe tbody tr th:only-of-type {\n",
       "        vertical-align: middle;\n",
       "    }\n",
       "\n",
       "    .dataframe tbody tr th {\n",
       "        vertical-align: top;\n",
       "    }\n",
       "\n",
       "    .dataframe thead th {\n",
       "        text-align: right;\n",
       "    }\n",
       "</style>\n",
       "<table border=\"1\" class=\"dataframe\">\n",
       "  <thead>\n",
       "    <tr style=\"text-align: right;\">\n",
       "      <th></th>\n",
       "      <th>gold</th>\n",
       "      <th>crude_oil</th>\n",
       "      <th>gas</th>\n",
       "      <th>bit_cap</th>\n",
       "      <th>futures_2</th>\n",
       "      <th>futures_10</th>\n",
       "    </tr>\n",
       "    <tr>\n",
       "      <th>Date</th>\n",
       "      <th></th>\n",
       "      <th></th>\n",
       "      <th></th>\n",
       "      <th></th>\n",
       "      <th></th>\n",
       "      <th></th>\n",
       "    </tr>\n",
       "  </thead>\n",
       "  <tbody>\n",
       "    <tr>\n",
       "      <th>1985-01-02</th>\n",
       "      <td>306.25</td>\n",
       "      <td>25.92</td>\n",
       "      <td>NaN</td>\n",
       "      <td>NaN</td>\n",
       "      <td>NaN</td>\n",
       "      <td>78.62500</td>\n",
       "    </tr>\n",
       "    <tr>\n",
       "      <th>1985-01-03</th>\n",
       "      <td>299.50</td>\n",
       "      <td>25.84</td>\n",
       "      <td>NaN</td>\n",
       "      <td>NaN</td>\n",
       "      <td>NaN</td>\n",
       "      <td>79.06250</td>\n",
       "    </tr>\n",
       "    <tr>\n",
       "      <th>1985-01-04</th>\n",
       "      <td>303.45</td>\n",
       "      <td>25.18</td>\n",
       "      <td>NaN</td>\n",
       "      <td>NaN</td>\n",
       "      <td>NaN</td>\n",
       "      <td>78.84375</td>\n",
       "    </tr>\n",
       "    <tr>\n",
       "      <th>1985-01-07</th>\n",
       "      <td>296.75</td>\n",
       "      <td>25.56</td>\n",
       "      <td>NaN</td>\n",
       "      <td>NaN</td>\n",
       "      <td>NaN</td>\n",
       "      <td>79.84375</td>\n",
       "    </tr>\n",
       "    <tr>\n",
       "      <th>1985-01-08</th>\n",
       "      <td>304.40</td>\n",
       "      <td>25.48</td>\n",
       "      <td>NaN</td>\n",
       "      <td>NaN</td>\n",
       "      <td>NaN</td>\n",
       "      <td>80.00000</td>\n",
       "    </tr>\n",
       "  </tbody>\n",
       "</table>\n",
       "</div>"
      ],
      "text/plain": [
       "              gold  crude_oil  gas  bit_cap  futures_2  futures_10\n",
       "Date                                                              \n",
       "1985-01-02  306.25      25.92  NaN      NaN        NaN    78.62500\n",
       "1985-01-03  299.50      25.84  NaN      NaN        NaN    79.06250\n",
       "1985-01-04  303.45      25.18  NaN      NaN        NaN    78.84375\n",
       "1985-01-07  296.75      25.56  NaN      NaN        NaN    79.84375\n",
       "1985-01-08  304.40      25.48  NaN      NaN        NaN    80.00000"
      ]
     },
     "execution_count": 15,
     "metadata": {},
     "output_type": "execute_result"
    }
   ],
   "source": [
    "predictors = predictors[predictors.index > \"1985\"]\n",
    "predictors.head()"
   ]
  },
  {
   "cell_type": "code",
   "execution_count": 16,
   "metadata": {},
   "outputs": [],
   "source": [
    "import pickle\n",
    "pickle.dump(predictors, open(\"predictors.pkl\", \"wb\"))"
   ]
  },
  {
   "cell_type": "markdown",
   "metadata": {},
   "source": [
    "## Using the S&P 500 data set from Quandle\n",
    "\n",
    "#### This segment grabs a relvent feature from the CSV for all tickers "
   ]
  },
  {
   "cell_type": "code",
   "execution_count": 17,
   "metadata": {},
   "outputs": [
    {
     "data": {
      "text/html": [
       "<div>\n",
       "<style scoped>\n",
       "    .dataframe tbody tr th:only-of-type {\n",
       "        vertical-align: middle;\n",
       "    }\n",
       "\n",
       "    .dataframe tbody tr th {\n",
       "        vertical-align: top;\n",
       "    }\n",
       "\n",
       "    .dataframe thead th {\n",
       "        text-align: right;\n",
       "    }\n",
       "</style>\n",
       "<table border=\"1\" class=\"dataframe\">\n",
       "  <thead>\n",
       "    <tr style=\"text-align: right;\">\n",
       "      <th></th>\n",
       "      <th>date</th>\n",
       "      <th>open</th>\n",
       "      <th>high</th>\n",
       "      <th>low</th>\n",
       "      <th>close</th>\n",
       "      <th>volume</th>\n",
       "      <th>Name</th>\n",
       "    </tr>\n",
       "  </thead>\n",
       "  <tbody>\n",
       "    <tr>\n",
       "      <th>0</th>\n",
       "      <td>2013-02-08</td>\n",
       "      <td>15.07</td>\n",
       "      <td>15.12</td>\n",
       "      <td>14.63</td>\n",
       "      <td>14.75</td>\n",
       "      <td>8407500</td>\n",
       "      <td>AAL</td>\n",
       "    </tr>\n",
       "    <tr>\n",
       "      <th>1</th>\n",
       "      <td>2013-02-11</td>\n",
       "      <td>14.89</td>\n",
       "      <td>15.01</td>\n",
       "      <td>14.26</td>\n",
       "      <td>14.46</td>\n",
       "      <td>8882000</td>\n",
       "      <td>AAL</td>\n",
       "    </tr>\n",
       "    <tr>\n",
       "      <th>2</th>\n",
       "      <td>2013-02-12</td>\n",
       "      <td>14.45</td>\n",
       "      <td>14.51</td>\n",
       "      <td>14.10</td>\n",
       "      <td>14.27</td>\n",
       "      <td>8126000</td>\n",
       "      <td>AAL</td>\n",
       "    </tr>\n",
       "    <tr>\n",
       "      <th>3</th>\n",
       "      <td>2013-02-13</td>\n",
       "      <td>14.30</td>\n",
       "      <td>14.94</td>\n",
       "      <td>14.25</td>\n",
       "      <td>14.66</td>\n",
       "      <td>10259500</td>\n",
       "      <td>AAL</td>\n",
       "    </tr>\n",
       "    <tr>\n",
       "      <th>4</th>\n",
       "      <td>2013-02-14</td>\n",
       "      <td>14.94</td>\n",
       "      <td>14.96</td>\n",
       "      <td>13.16</td>\n",
       "      <td>13.99</td>\n",
       "      <td>31879900</td>\n",
       "      <td>AAL</td>\n",
       "    </tr>\n",
       "  </tbody>\n",
       "</table>\n",
       "</div>"
      ],
      "text/plain": [
       "         date   open   high    low  close    volume Name\n",
       "0  2013-02-08  15.07  15.12  14.63  14.75   8407500  AAL\n",
       "1  2013-02-11  14.89  15.01  14.26  14.46   8882000  AAL\n",
       "2  2013-02-12  14.45  14.51  14.10  14.27   8126000  AAL\n",
       "3  2013-02-13  14.30  14.94  14.25  14.66  10259500  AAL\n",
       "4  2013-02-14  14.94  14.96  13.16  13.99  31879900  AAL"
      ]
     },
     "execution_count": 17,
     "metadata": {},
     "output_type": "execute_result"
    }
   ],
   "source": [
    "all_stocks = pd.read_csv(\"data/all_stocks_5yr.csv\")\n",
    "all_stocks.head()"
   ]
  },
  {
   "cell_type": "code",
   "execution_count": 18,
   "metadata": {},
   "outputs": [],
   "source": [
    "daily_stock = all_stocks[[\"date\", \"Name\", \"close\"]].set_index([\"date\", \"Name\"]).unstack(level=1)\n",
    "daily_stock = daily_stock[[\"close\"][0]]"
   ]
  },
  {
   "cell_type": "code",
   "execution_count": 19,
   "metadata": {},
   "outputs": [
    {
     "data": {
      "text/html": [
       "<div>\n",
       "<style scoped>\n",
       "    .dataframe tbody tr th:only-of-type {\n",
       "        vertical-align: middle;\n",
       "    }\n",
       "\n",
       "    .dataframe tbody tr th {\n",
       "        vertical-align: top;\n",
       "    }\n",
       "\n",
       "    .dataframe thead th {\n",
       "        text-align: right;\n",
       "    }\n",
       "</style>\n",
       "<table border=\"1\" class=\"dataframe\">\n",
       "  <thead>\n",
       "    <tr style=\"text-align: right;\">\n",
       "      <th>Name</th>\n",
       "      <th>A</th>\n",
       "      <th>AAL</th>\n",
       "      <th>AAP</th>\n",
       "      <th>AAPL</th>\n",
       "      <th>ABBV</th>\n",
       "      <th>ABC</th>\n",
       "      <th>ABT</th>\n",
       "      <th>ACN</th>\n",
       "      <th>ADBE</th>\n",
       "      <th>ADI</th>\n",
       "      <th>...</th>\n",
       "      <th>XL</th>\n",
       "      <th>XLNX</th>\n",
       "      <th>XOM</th>\n",
       "      <th>XRAY</th>\n",
       "      <th>XRX</th>\n",
       "      <th>XYL</th>\n",
       "      <th>YUM</th>\n",
       "      <th>ZBH</th>\n",
       "      <th>ZION</th>\n",
       "      <th>ZTS</th>\n",
       "    </tr>\n",
       "    <tr>\n",
       "      <th>date</th>\n",
       "      <th></th>\n",
       "      <th></th>\n",
       "      <th></th>\n",
       "      <th></th>\n",
       "      <th></th>\n",
       "      <th></th>\n",
       "      <th></th>\n",
       "      <th></th>\n",
       "      <th></th>\n",
       "      <th></th>\n",
       "      <th></th>\n",
       "      <th></th>\n",
       "      <th></th>\n",
       "      <th></th>\n",
       "      <th></th>\n",
       "      <th></th>\n",
       "      <th></th>\n",
       "      <th></th>\n",
       "      <th></th>\n",
       "      <th></th>\n",
       "      <th></th>\n",
       "    </tr>\n",
       "  </thead>\n",
       "  <tbody>\n",
       "    <tr>\n",
       "      <th>2013-02-08</th>\n",
       "      <td>45.08</td>\n",
       "      <td>14.75</td>\n",
       "      <td>78.90</td>\n",
       "      <td>67.8542</td>\n",
       "      <td>36.25</td>\n",
       "      <td>46.89</td>\n",
       "      <td>34.41</td>\n",
       "      <td>73.31</td>\n",
       "      <td>39.12</td>\n",
       "      <td>45.70</td>\n",
       "      <td>...</td>\n",
       "      <td>28.24</td>\n",
       "      <td>37.51</td>\n",
       "      <td>88.61</td>\n",
       "      <td>42.87</td>\n",
       "      <td>31.84</td>\n",
       "      <td>27.09</td>\n",
       "      <td>65.30</td>\n",
       "      <td>75.85</td>\n",
       "      <td>24.14</td>\n",
       "      <td>33.05</td>\n",
       "    </tr>\n",
       "    <tr>\n",
       "      <th>2013-02-11</th>\n",
       "      <td>44.60</td>\n",
       "      <td>14.46</td>\n",
       "      <td>78.39</td>\n",
       "      <td>68.5614</td>\n",
       "      <td>35.85</td>\n",
       "      <td>46.76</td>\n",
       "      <td>34.26</td>\n",
       "      <td>73.07</td>\n",
       "      <td>38.64</td>\n",
       "      <td>46.08</td>\n",
       "      <td>...</td>\n",
       "      <td>28.31</td>\n",
       "      <td>37.46</td>\n",
       "      <td>88.28</td>\n",
       "      <td>42.84</td>\n",
       "      <td>31.96</td>\n",
       "      <td>27.46</td>\n",
       "      <td>64.55</td>\n",
       "      <td>75.65</td>\n",
       "      <td>24.21</td>\n",
       "      <td>33.26</td>\n",
       "    </tr>\n",
       "    <tr>\n",
       "      <th>2013-02-12</th>\n",
       "      <td>44.62</td>\n",
       "      <td>14.27</td>\n",
       "      <td>78.60</td>\n",
       "      <td>66.8428</td>\n",
       "      <td>35.42</td>\n",
       "      <td>46.96</td>\n",
       "      <td>34.30</td>\n",
       "      <td>73.37</td>\n",
       "      <td>38.89</td>\n",
       "      <td>46.27</td>\n",
       "      <td>...</td>\n",
       "      <td>28.41</td>\n",
       "      <td>37.58</td>\n",
       "      <td>88.46</td>\n",
       "      <td>42.87</td>\n",
       "      <td>31.84</td>\n",
       "      <td>27.95</td>\n",
       "      <td>64.75</td>\n",
       "      <td>75.44</td>\n",
       "      <td>24.49</td>\n",
       "      <td>33.74</td>\n",
       "    </tr>\n",
       "    <tr>\n",
       "      <th>2013-02-13</th>\n",
       "      <td>44.75</td>\n",
       "      <td>14.66</td>\n",
       "      <td>78.97</td>\n",
       "      <td>66.7156</td>\n",
       "      <td>35.27</td>\n",
       "      <td>46.64</td>\n",
       "      <td>34.46</td>\n",
       "      <td>73.56</td>\n",
       "      <td>38.81</td>\n",
       "      <td>46.26</td>\n",
       "      <td>...</td>\n",
       "      <td>28.42</td>\n",
       "      <td>37.80</td>\n",
       "      <td>88.67</td>\n",
       "      <td>43.08</td>\n",
       "      <td>32.00</td>\n",
       "      <td>28.26</td>\n",
       "      <td>64.41</td>\n",
       "      <td>76.00</td>\n",
       "      <td>24.74</td>\n",
       "      <td>33.55</td>\n",
       "    </tr>\n",
       "    <tr>\n",
       "      <th>2013-02-14</th>\n",
       "      <td>44.58</td>\n",
       "      <td>13.99</td>\n",
       "      <td>78.84</td>\n",
       "      <td>66.6556</td>\n",
       "      <td>36.57</td>\n",
       "      <td>46.77</td>\n",
       "      <td>34.70</td>\n",
       "      <td>73.13</td>\n",
       "      <td>38.61</td>\n",
       "      <td>46.54</td>\n",
       "      <td>...</td>\n",
       "      <td>28.22</td>\n",
       "      <td>38.44</td>\n",
       "      <td>88.52</td>\n",
       "      <td>42.91</td>\n",
       "      <td>32.12</td>\n",
       "      <td>28.47</td>\n",
       "      <td>63.89</td>\n",
       "      <td>76.34</td>\n",
       "      <td>24.63</td>\n",
       "      <td>33.27</td>\n",
       "    </tr>\n",
       "  </tbody>\n",
       "</table>\n",
       "<p>5 rows × 505 columns</p>\n",
       "</div>"
      ],
      "text/plain": [
       "Name            A    AAL    AAP     AAPL   ABBV    ABC    ABT    ACN   ADBE  \\\n",
       "date                                                                          \n",
       "2013-02-08  45.08  14.75  78.90  67.8542  36.25  46.89  34.41  73.31  39.12   \n",
       "2013-02-11  44.60  14.46  78.39  68.5614  35.85  46.76  34.26  73.07  38.64   \n",
       "2013-02-12  44.62  14.27  78.60  66.8428  35.42  46.96  34.30  73.37  38.89   \n",
       "2013-02-13  44.75  14.66  78.97  66.7156  35.27  46.64  34.46  73.56  38.81   \n",
       "2013-02-14  44.58  13.99  78.84  66.6556  36.57  46.77  34.70  73.13  38.61   \n",
       "\n",
       "Name          ADI  ...       XL   XLNX    XOM   XRAY    XRX    XYL    YUM  \\\n",
       "date               ...                                                      \n",
       "2013-02-08  45.70  ...    28.24  37.51  88.61  42.87  31.84  27.09  65.30   \n",
       "2013-02-11  46.08  ...    28.31  37.46  88.28  42.84  31.96  27.46  64.55   \n",
       "2013-02-12  46.27  ...    28.41  37.58  88.46  42.87  31.84  27.95  64.75   \n",
       "2013-02-13  46.26  ...    28.42  37.80  88.67  43.08  32.00  28.26  64.41   \n",
       "2013-02-14  46.54  ...    28.22  38.44  88.52  42.91  32.12  28.47  63.89   \n",
       "\n",
       "Name          ZBH   ZION    ZTS  \n",
       "date                             \n",
       "2013-02-08  75.85  24.14  33.05  \n",
       "2013-02-11  75.65  24.21  33.26  \n",
       "2013-02-12  75.44  24.49  33.74  \n",
       "2013-02-13  76.00  24.74  33.55  \n",
       "2013-02-14  76.34  24.63  33.27  \n",
       "\n",
       "[5 rows x 505 columns]"
      ]
     },
     "execution_count": 19,
     "metadata": {},
     "output_type": "execute_result"
    }
   ],
   "source": [
    "daily_stock.head()"
   ]
  },
  {
   "cell_type": "code",
   "execution_count": 20,
   "metadata": {},
   "outputs": [],
   "source": [
    "import pickle\n",
    "pickle.dump(daily_stock, open(\"daily_stock.pkl\", \"wb\"))"
   ]
  },
  {
   "cell_type": "markdown",
   "metadata": {},
   "source": [
    "## This segment gets Trend Data From google\n",
    "\n",
    "#### This is the tricky part"
   ]
  },
  {
   "cell_type": "code",
   "execution_count": 21,
   "metadata": {},
   "outputs": [],
   "source": [
    "import requests\n",
    "import json\n",
    "# g_trends = requests.get(\"https://trends.google.com/trends/explore?date=now%201-H&geo=US&q=stocks\")"
   ]
  },
  {
   "cell_type": "code",
   "execution_count": 22,
   "metadata": {},
   "outputs": [
    {
     "data": {
      "text/plain": [
       "{'NID': '131=HfVCmzrmhBtpEdDA1NLNmK4-PMsyLQze6LPEY7mbEd6VYBfuTJPG2Kx6dNclL3Xgnr4U-QCVHhA1yiHrM6gb9ADQazZax2AS4Xjyi0vxQ4RFNGiftcilUZKYrQv_Ud_0'}"
      ]
     },
     "execution_count": 22,
     "metadata": {},
     "output_type": "execute_result"
    }
   ],
   "source": [
    "cookies = dict(filter(\n",
    "            lambda i: i[0] == 'NID',\n",
    "            requests.get('https://trends.google.com').cookies.items()\n",
    "        ))\n",
    "cookies"
   ]
  },
  {
   "cell_type": "code",
   "execution_count": 23,
   "metadata": {},
   "outputs": [
    {
     "data": {
      "text/plain": [
       "<Response [200]>"
      ]
     },
     "execution_count": 23,
     "metadata": {},
     "output_type": "execute_result"
    }
   ],
   "source": [
    "response = requests.get(\"https://trends.google.com/trends/explore?date=now%201-H&geo=US&q=stocks\",\n",
    "                       cookies=cookies)\n",
    "response"
   ]
  },
  {
   "cell_type": "code",
   "execution_count": 24,
   "metadata": {},
   "outputs": [
    {
     "data": {
      "text/plain": [
       "'<!doctype html><html itemscope itemtype=\"https://schema.org/WebPage\" dir=\"ltr\"><head><meta name=\"google-site-verification\" content=\"-uo2JByp3-hxDA1ZgvM3dP8BE1_qDDddCm_st_w41P8\"/><title>stocks - Google Trends</title><link rel=\"icon\" href=\"https://ssl.gstatic.com/trends_nrtr/1435_RC12/favicon.ico\" typ'"
      ]
     },
     "execution_count": 24,
     "metadata": {},
     "output_type": "execute_result"
    }
   ],
   "source": [
    "content = response.text\n",
    "response.text[:300]"
   ]
  },
  {
   "cell_type": "code",
   "execution_count": 25,
   "metadata": {},
   "outputs": [],
   "source": [
    "stocks = \"https://trends.google.com/trends/api/widgetdata/multiline/csv?req=%7B%22time%22%3A%222018-06-06T17%5C%5C%3A48%5C%5C%3A15%202018-06-06T18%5C%5C%3A48%5C%5C%3A15%22%2C%22resolution%22%3A%22MINUTE%22%2C%22locale%22%3A%22en-US%22%2C%22comparisonItem%22%3A%5B%7B%22geo%22%3A%7B%22country%22%3A%22US%22%7D%2C%22complexKeywordsRestriction%22%3A%7B%22keyword%22%3A%5B%7B%22type%22%3A%22BROAD%22%2C%22value%22%3A%22stocks%22%7D%5D%7D%7D%5D%2C%22requestOptions%22%3A%7B%22property%22%3A%22%22%2C%22backend%22%3A%22CM%22%2C%22category%22%3A0%7D%7D&token=APP6_UEAAAAAWxl97_ylQR5Jh6KSFpspCUYtxNi3nSbR&tz=420\""
   ]
  },
  {
   "cell_type": "code",
   "execution_count": 26,
   "metadata": {},
   "outputs": [
    {
     "data": {
      "text/html": [
       "<div>\n",
       "<style scoped>\n",
       "    .dataframe tbody tr th:only-of-type {\n",
       "        vertical-align: middle;\n",
       "    }\n",
       "\n",
       "    .dataframe tbody tr th {\n",
       "        vertical-align: top;\n",
       "    }\n",
       "\n",
       "    .dataframe thead th {\n",
       "        text-align: right;\n",
       "    }\n",
       "</style>\n",
       "<table border=\"1\" class=\"dataframe\">\n",
       "  <thead>\n",
       "    <tr style=\"text-align: right;\">\n",
       "      <th></th>\n",
       "      <th>Category: All categories</th>\n",
       "    </tr>\n",
       "  </thead>\n",
       "  <tbody>\n",
       "    <tr>\n",
       "      <th>Time</th>\n",
       "      <td>stocks: (United States)</td>\n",
       "    </tr>\n",
       "    <tr>\n",
       "      <th>2018-06-06T10:49:00-07:00</th>\n",
       "      <td>82</td>\n",
       "    </tr>\n",
       "    <tr>\n",
       "      <th>2018-06-06T10:50:00-07:00</th>\n",
       "      <td>87</td>\n",
       "    </tr>\n",
       "    <tr>\n",
       "      <th>2018-06-06T10:51:00-07:00</th>\n",
       "      <td>95</td>\n",
       "    </tr>\n",
       "    <tr>\n",
       "      <th>2018-06-06T10:52:00-07:00</th>\n",
       "      <td>81</td>\n",
       "    </tr>\n",
       "  </tbody>\n",
       "</table>\n",
       "</div>"
      ],
      "text/plain": [
       "                          Category: All categories\n",
       "Time                       stocks: (United States)\n",
       "2018-06-06T10:49:00-07:00                       82\n",
       "2018-06-06T10:50:00-07:00                       87\n",
       "2018-06-06T10:51:00-07:00                       95\n",
       "2018-06-06T10:52:00-07:00                       81"
      ]
     },
     "execution_count": 26,
     "metadata": {},
     "output_type": "execute_result"
    }
   ],
   "source": [
    "pd.read_csv(stocks).head()"
   ]
  },
  {
   "cell_type": "code",
   "execution_count": 27,
   "metadata": {},
   "outputs": [
    {
     "data": {
      "text/plain": [
       "{'req': ['{\"time\":\"2018-06-06T17\\\\\\\\:48\\\\\\\\:15 2018-06-06T18\\\\\\\\:48\\\\\\\\:15\",\"resolution\":\"MINUTE\",\"locale\":\"en-US\",\"comparisonItem\":[{\"geo\":{\"country\":\"US\"},\"complexKeywordsRestriction\":{\"keyword\":[{\"type\":\"BROAD\",\"value\":\"stocks\"}]}}],\"requestOptions\":{\"property\":\"\",\"backend\":\"CM\",\"category\":0}}'],\n",
       " 'token': ['APP6_UEAAAAAWxl97_ylQR5Jh6KSFpspCUYtxNi3nSbR'],\n",
       " 'tz': ['420']}"
      ]
     },
     "execution_count": 27,
     "metadata": {},
     "output_type": "execute_result"
    }
   ],
   "source": [
    "import urllib.parse\n",
    "query = urllib.parse.parse_qs(\n",
    "    urllib.parse.urlparse(stocks).query\n",
    ")\n",
    "\n",
    "query"
   ]
  },
  {
   "cell_type": "code",
   "execution_count": 28,
   "metadata": {},
   "outputs": [
    {
     "data": {
      "text/plain": [
       "{'time': '2018-06-06T17\\\\:48\\\\:15 2018-06-06T18\\\\:48\\\\:15',\n",
       " 'resolution': 'MINUTE',\n",
       " 'locale': 'en-US',\n",
       " 'comparisonItem': [{'geo': {'country': 'US'},\n",
       "   'complexKeywordsRestriction': {'keyword': [{'type': 'BROAD',\n",
       "      'value': 'stocks'}]}}],\n",
       " 'requestOptions': {'property': '', 'backend': 'CM', 'category': 0}}"
      ]
     },
     "execution_count": 28,
     "metadata": {},
     "output_type": "execute_result"
    }
   ],
   "source": [
    "json_req = json.loads(query['req'][0])\n",
    "json_req"
   ]
  },
  {
   "cell_type": "code",
   "execution_count": 29,
   "metadata": {},
   "outputs": [
    {
     "data": {
      "text/plain": [
       "{'time': '2018-06-06T17\\\\:48\\\\:15 2018-06-06T18\\\\:48\\\\:15',\n",
       " 'resolution': 'MINUTE',\n",
       " 'locale': 'en-US',\n",
       " 'comparisonItem': [{'geo': {'country': 'US'},\n",
       "   'complexKeywordsRestriction': {'keyword': [{'type': 'BROAD',\n",
       "      'value': 'banana'}]}}],\n",
       " 'requestOptions': {'property': '', 'backend': 'CM', 'category': 0}}"
      ]
     },
     "execution_count": 29,
     "metadata": {},
     "output_type": "execute_result"
    }
   ],
   "source": [
    "json_req['comparisonItem'][0]['complexKeywordsRestriction']['keyword'][0]['value'] = \"banana\"\n",
    "\n",
    "json_req"
   ]
  },
  {
   "cell_type": "code",
   "execution_count": 30,
   "metadata": {},
   "outputs": [
    {
     "data": {
      "text/plain": [
       "{'req': [{'time': '2018-06-06T17\\\\:48\\\\:15 2018-06-06T18\\\\:48\\\\:15',\n",
       "   'resolution': 'MINUTE',\n",
       "   'locale': 'en-US',\n",
       "   'comparisonItem': [{'geo': {'country': 'US'},\n",
       "     'complexKeywordsRestriction': {'keyword': [{'type': 'BROAD',\n",
       "        'value': 'banana'}]}}],\n",
       "   'requestOptions': {'property': '', 'backend': 'CM', 'category': 0}}],\n",
       " 'token': ['APP6_UEAAAAAWxl97_ylQR5Jh6KSFpspCUYtxNi3nSbR'],\n",
       " 'tz': ['420']}"
      ]
     },
     "execution_count": 30,
     "metadata": {},
     "output_type": "execute_result"
    }
   ],
   "source": [
    "query[\"req\"][0] = json_req\n",
    "query"
   ]
  },
  {
   "cell_type": "code",
   "execution_count": 31,
   "metadata": {},
   "outputs": [
    {
     "data": {
      "text/plain": [
       "'req=%5B%7B%27time%27%3A+%272018-06-06T17%5C%5C%3A48%5C%5C%3A15+2018-06-06T18%5C%5C%3A48%5C%5C%3A15%27%2C+%27resolution%27%3A+%27MINUTE%27%2C+%27locale%27%3A+%27en-US%27%2C+%27comparisonItem%27%3A+%5B%7B%27geo%27%3A+%7B%27country%27%3A+%27US%27%7D%2C+%27complexKeywordsRestriction%27%3A+%7B%27keyword%27%3A+%5B%7B%27type%27%3A+%27BROAD%27%2C+%27value%27%3A+%27banana%27%7D%5D%7D%7D%5D%2C+%27requestOptions%27%3A+%7B%27property%27%3A+%27%27%2C+%27backend%27%3A+%27CM%27%2C+%27category%27%3A+0%7D%7D%5D&token=%5B%27APP6_UEAAAAAWxl97_ylQR5Jh6KSFpspCUYtxNi3nSbR%27%5D&tz=%5B%27420%27%5D'"
      ]
     },
     "execution_count": 31,
     "metadata": {},
     "output_type": "execute_result"
    }
   ],
   "source": [
    "new_query = urllib.parse.urlencode(query)\n",
    "new_query"
   ]
  },
  {
   "cell_type": "code",
   "execution_count": 32,
   "metadata": {},
   "outputs": [
    {
     "data": {
      "text/plain": [
       "<Response [401]>"
      ]
     },
     "execution_count": 32,
     "metadata": {},
     "output_type": "execute_result"
    }
   ],
   "source": [
    "requests.get(stocks.replace(\"stocks\", \"banana\"))"
   ]
  },
  {
   "cell_type": "markdown",
   "metadata": {},
   "source": [
    "In the page the file download is controlled by this function:\n",
    "\n",
    "```\n",
    "d.exportAsCSV = function(a, b, c) {\n",
    "    a = encodeURIComponent(JSON.stringify(a));\n",
    "    c = \"/trends/api/widgetdata\" + (\"/\" + this.convertWidgetTypeToApiName_(c) + \"/csv\");\n",
    "    c = c + (\"?req=\" + a + \"&token=\" + b) + (\"&tz=\" + this.configService_.userTimezoneOffset);\n",
    "    this.downloadCsvFile_(c)\n",
    "}\n",
    "```\n",
    "\n",
    "So we need to figure out how to get a proper token! Grrr..."
   ]
  },
  {
   "cell_type": "code",
   "execution_count": 33,
   "metadata": {},
   "outputs": [],
   "source": [
    "stocks = \"https://trends.google.com/trends/api/widgetdata/multiline/csv?req=%7B%22time%22%3A%222018-06-06T18%5C%5C%3A58%5C%5C%3A33%202018-06-06T19%5C%5C%3A58%5C%5C%3A33%22%2C%22resolution%22%3A%22MINUTE%22%2C%22locale%22%3A%22en-US%22%2C%22comparisonItem%22%3A%5B%7B%22geo%22%3A%7B%22country%22%3A%22US%22%7D%2C%22complexKeywordsRestriction%22%3A%7B%22keyword%22%3A%5B%7B%22type%22%3A%22BROAD%22%2C%22value%22%3A%22stocks%22%7D%5D%7D%7D%5D%2C%22requestOptions%22%3A%7B%22property%22%3A%22%22%2C%22backend%22%3A%22CM%22%2C%22category%22%3A0%7D%7D&token=APP6_UEAAAAAWxmOaSwlhHrJ0qdDSaXTYRtDy0PAG0sk&tz=420\""
   ]
  },
  {
   "cell_type": "code",
   "execution_count": 34,
   "metadata": {},
   "outputs": [],
   "source": [
    "import re\n",
    "def download_from_topic_token(topic, token):\n",
    "    DOWNLOAD_URL = \"https://trends.google.com/trends/api/widgetdata/multiline/csv?req=%7B%22time%22%3A%222018-06-06T18%5C%5C%3A59%5C%5C%3A06%202018-06-06T19%5C%5C%3A59%5C%5C%3A06%22%2C%22resolution%22%3A%22MINUTE%22%2C%22locale%22%3A%22en-US%22%2C%22comparisonItem%22%3A%5B%7B%22geo%22%3A%7B%22country%22%3A%22US%22%7D%2C%22complexKeywordsRestriction%22%3A%7B%22keyword%22%3A%5B%7B%22type%22%3A%22BROAD%22%2C%22value%22%3A%22\" + topic + \"%22%7D%5D%7D%7D%5D%2C%22requestOptions%22%3A%7B%22property%22%3A%22%22%2C%22backend%22%3A%22CM%22%2C%22category%22%3A0%7D%7D&token=\" + token +\"&tz=420\"\n",
    "    return DOWNLOAD_URL\n",
    "\n",
    "def get_token(topic):\n",
    "    response = requests.get(\n",
    "        \"https://trends.google.com/trends/api/explore?hl=en-US&tz=420&req=%7B%22comparisonItem%22:%5B%7B%22keyword%22:%22\" + topic + \"%22,%22geo%22:%22US%22,%22time%22:%22now+1-H%22%7D%5D,%22category%22:0,%22property%22:%22%22%7D&tz=420\", cookies=cookies)\n",
    "    finding_token = response.text.split(\"token\")[1]\n",
    "\n",
    "    t = re.sub('[^0-9a-zA-Z_]+', ' ', finding_token)\n",
    "    gotcha = t.split()[0]\n",
    "    return gotcha"
   ]
  },
  {
   "cell_type": "code",
   "execution_count": 35,
   "metadata": {
    "scrolled": true
   },
   "outputs": [
    {
     "data": {
      "text/plain": [
       "'<!DOCTYPE html><html lang=en><meta charset=utf-8><meta name=viewport content=\"initial-scale=1, minimum-scale=1, width=device-width\"><title>Error 401 (Not Found)!!1</title><style>*{margin:0;padding:0}html,code{font:15px/22px arial,sans-serif}html{background:#fff;color:#222;padding:15px}body{color:#222;text-align:unset;margin:7% auto 0;max-width:390px;min-height:180px;padding:30px 0 15px;}* > body{background:url(//www.google.com/images/errors/robot.png) 100% 5px no-repeat;padding-right:205px}p{margin:11px 0 22px;overflow:hidden}pre{white-space:pre-wrap;}ins{color:#777;text-decoration:none}a img{border:0}@media screen and (max-width:772px){body{background:none;margin-top:0;max-width:none;padding-right:0}}#logo{background:url(//www.google.com/images/branding/googlelogo/1x/googlelogo_color_150x54dp.png) no-repeat;margin-left:-5px}@media only screen and (min-resolution:192dpi){#logo{background:url(//www.google.com/images/branding/googlelogo/2x/googlelogo_color_150x54dp.png) no-repeat 0% 0%/100% 100%;-moz-border-image:url(//www.google.com/images/branding/googlelogo/2x/googlelogo_color_150x54dp.png) 0}}@media only screen and (-webkit-min-device-pixel-ratio:2){#logo{background:url(//www.google.com/images/branding/googlelogo/2x/googlelogo_color_150x54dp.png) no-repeat;-webkit-background-size:100% 100%}}#logo{display:inline-block;height:54px;width:150px}</style><div id=\"af-error-container\"><a href=//www.google.com><span id=logo aria-label=Google></span></a><p><b>401.</b> <ins>That’s an error.</ins><p>The requested URL was not found on this server. <ins>That’s all we know.</ins></div>'"
      ]
     },
     "execution_count": 35,
     "metadata": {},
     "output_type": "execute_result"
    }
   ],
   "source": [
    "requests.get(download_from_topic_token(\"stocks\", get_token(\"stocks\"))).text"
   ]
  },
  {
   "cell_type": "code",
   "execution_count": 42,
   "metadata": {},
   "outputs": [],
   "source": [
    "\n",
    "gotcha = token_string[1:].split(\"&\")[0]"
   ]
  },
  {
   "cell_type": "markdown",
   "metadata": {},
   "source": [
    "### We got a token which is specific to our request. But I still dont know why it is working...\n"
   ]
  },
  {
   "cell_type": "code",
   "execution_count": 43,
   "metadata": {},
   "outputs": [
    {
     "data": {
      "text/plain": [
       "{'req': [{'time': '2018-06-06T17\\\\:48\\\\:15 2018-06-06T18\\\\:48\\\\:15',\n",
       "   'resolution': 'MINUTE',\n",
       "   'locale': 'en-US',\n",
       "   'comparisonItem': [{'geo': {'country': 'US'},\n",
       "     'complexKeywordsRestriction': {'keyword': [{'type': 'BROAD',\n",
       "        'value': 'banana'}]}}],\n",
       "   'requestOptions': {'property': '', 'backend': 'CM', 'category': 0}}],\n",
       " 'token': ['APP6_UEAAAAAWxmOaSwlhHrJ0qdDSaXTYRtDy0PAG0sk'],\n",
       " 'tz': ['420']}"
      ]
     },
     "execution_count": 43,
     "metadata": {},
     "output_type": "execute_result"
    }
   ],
   "source": [
    "query[\"token\"][0] = gotcha\n",
    "query"
   ]
  },
  {
   "cell_type": "code",
   "execution_count": 45,
   "metadata": {},
   "outputs": [
    {
     "data": {
      "text/plain": [
       "'https://trends.google.com/trends/api/widgetdata/multiline/csv?req=%7B%22time%22%3A%222018-06-06T18%5C%5C%3A59%5C%5C%3A06%202018-06-06T19%5C%5C%3A59%5C%5C%3A06%22%2C%22resolution%22%3A%22MINUTE%22%2C%22locale%22%3A%22en-US%22%2C%22comparisonItem%22%3A%5B%7B%22geo%22%3A%7B%22country%22%3A%22US%22%7D%2C%22complexKeywordsRestriction%22%3A%7B%22keyword%22%3A%5B%7B%22type%22%3A%22BROAD%22%2C%22value%22%3A%22banana%22%7D%5D%7D%7D%5D%2C%22requestOptions%22%3A%7B%22property%22%3A%22%22%2C%22backend%22%3A%22CM%22%2C%22category%22%3A0%7D%7D&token=APP6_UEAAAAAWxmOaSwlhHrJ0qdDSaXTYRtDy0PAG0sk&tz=420'"
      ]
     },
     "execution_count": 45,
     "metadata": {},
     "output_type": "execute_result"
    }
   ],
   "source": [
    "x = download_from_topic_token(\"banana\", gotcha)\n",
    "x"
   ]
  },
  {
   "cell_type": "code",
   "execution_count": 46,
   "metadata": {},
   "outputs": [
    {
     "data": {
      "text/plain": [
       "'r\"><a href=//www.google.com><span id=logo aria-label=Google></span></a><p><b>401.</b> <ins>That’s an error.</ins><p>The requested URL was not found on this server. <ins>That’s all we know.</ins></div>'"
      ]
     },
     "execution_count": 46,
     "metadata": {},
     "output_type": "execute_result"
    }
   ],
   "source": [
    "requests.get(x, cookies=cookies).text[-200:]"
   ]
  },
  {
   "cell_type": "code",
   "execution_count": 47,
   "metadata": {},
   "outputs": [
    {
     "data": {
      "text/plain": [
       "{'req': ['{\"time\":\"2018-06-06T18\\\\\\\\:58\\\\\\\\:33 2018-06-06T19\\\\\\\\:58\\\\\\\\:33\",\"resolution\":\"MINUTE\",\"locale\":\"en-US\",\"comparisonItem\":[{\"geo\":{\"country\":\"US\"},\"complexKeywordsRestriction\":{\"keyword\":[{\"type\":\"BROAD\",\"value\":\"stocks\"}]}}],\"requestOptions\":{\"property\":\"\",\"backend\":\"CM\",\"category\":0}}'],\n",
       " 'token': ['APP6_UEAAAAAWxmOaSwlhHrJ0qdDSaXTYRtDy0PAG0sk'],\n",
       " 'tz': ['420']}"
      ]
     },
     "execution_count": 47,
     "metadata": {},
     "output_type": "execute_result"
    }
   ],
   "source": [
    "urllib.parse.parse_qs(\n",
    "    urllib.parse.urlparse(stocks).query\n",
    ")"
   ]
  },
  {
   "cell_type": "code",
   "execution_count": 48,
   "metadata": {},
   "outputs": [
    {
     "data": {
      "text/plain": [
       "{'req': ['{\"time\":\"2018-06-06T18\\\\\\\\:59\\\\\\\\:06 2018-06-06T19\\\\\\\\:59\\\\\\\\:06\",\"resolution\":\"MINUTE\",\"locale\":\"en-US\",\"comparisonItem\":[{\"geo\":{\"country\":\"US\"},\"complexKeywordsRestriction\":{\"keyword\":[{\"type\":\"BROAD\",\"value\":\"banana\"}]}}],\"requestOptions\":{\"property\":\"\",\"backend\":\"CM\",\"category\":0}}'],\n",
       " 'token': ['APP6_UEAAAAAWxmOaSwlhHrJ0qdDSaXTYRtDy0PAG0sk'],\n",
       " 'tz': ['420']}"
      ]
     },
     "execution_count": 48,
     "metadata": {},
     "output_type": "execute_result"
    }
   ],
   "source": [
    "urllib.parse.parse_qs(\n",
    "    urllib.parse.urlparse(x).query\n",
    ")"
   ]
  },
  {
   "cell_type": "code",
   "execution_count": null,
   "metadata": {},
   "outputs": [],
   "source": []
  }
 ],
 "metadata": {
  "kernelspec": {
   "display_name": "Python 3",
   "language": "python",
   "name": "python3"
  },
  "language_info": {
   "codemirror_mode": {
    "name": "ipython",
    "version": 3
   },
   "file_extension": ".py",
   "mimetype": "text/x-python",
   "name": "python",
   "nbconvert_exporter": "python",
   "pygments_lexer": "ipython3",
   "version": "3.6.5"
  }
 },
 "nbformat": 4,
 "nbformat_minor": 2
}
