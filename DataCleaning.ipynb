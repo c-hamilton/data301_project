{
 "cells": [
  {
   "cell_type": "markdown",
   "metadata": {
    "slideshow": {
     "slide_type": "slide"
    }
   },
   "source": [
    "## Using the Quandle API\n",
    "\n",
    "Quandle API is pretty awesome! There is a huge amount of data available here for free! However, the data isn't always the best quality. We were looking for daily recordings from present day back as far as possible and we had to snoop around in order to find data sets that contained fairly consistent recordings for a long period of time. This segments uses the api to pull a couple commodities and join them by date"
   ]
  },
  {
   "cell_type": "code",
   "execution_count": 1,
   "metadata": {
    "slideshow": {
     "slide_type": "skip"
    }
   },
   "outputs": [],
   "source": [
    "QUANDLE_API_KEY = \"2jWcwdZcAecTBtixj8Wz\""
   ]
  },
  {
   "cell_type": "code",
   "execution_count": 2,
   "metadata": {
    "slideshow": {
     "slide_type": "skip"
    }
   },
   "outputs": [],
   "source": [
    "import requests\n",
    "import time\n",
    "import pandas as pd"
   ]
  },
  {
   "cell_type": "code",
   "execution_count": 3,
   "metadata": {
    "slideshow": {
     "slide_type": "skip"
    }
   },
   "outputs": [],
   "source": [
    "gold = pd.read_csv(\"https://www.quandl.com/api/v3/datasets/LBMA/GOLD.csv?api_key=%s\" % QUANDLE_API_KEY, \n",
    "                  index_col=0)"
   ]
  },
  {
   "cell_type": "code",
   "execution_count": 4,
   "metadata": {
    "slideshow": {
     "slide_type": "skip"
    }
   },
   "outputs": [
    {
     "data": {
      "text/html": [
       "<div>\n",
       "<style scoped>\n",
       "    .dataframe tbody tr th:only-of-type {\n",
       "        vertical-align: middle;\n",
       "    }\n",
       "\n",
       "    .dataframe tbody tr th {\n",
       "        vertical-align: top;\n",
       "    }\n",
       "\n",
       "    .dataframe thead th {\n",
       "        text-align: right;\n",
       "    }\n",
       "</style>\n",
       "<table border=\"1\" class=\"dataframe\">\n",
       "  <thead>\n",
       "    <tr style=\"text-align: right;\">\n",
       "      <th></th>\n",
       "      <th>USD (AM)</th>\n",
       "      <th>USD (PM)</th>\n",
       "      <th>GBP (AM)</th>\n",
       "      <th>GBP (PM)</th>\n",
       "      <th>EURO (AM)</th>\n",
       "      <th>EURO (PM)</th>\n",
       "    </tr>\n",
       "    <tr>\n",
       "      <th>Date</th>\n",
       "      <th></th>\n",
       "      <th></th>\n",
       "      <th></th>\n",
       "      <th></th>\n",
       "      <th></th>\n",
       "      <th></th>\n",
       "    </tr>\n",
       "  </thead>\n",
       "  <tbody>\n",
       "    <tr>\n",
       "      <th>2018-06-13</th>\n",
       "      <td>1294.40</td>\n",
       "      <td>1296.15</td>\n",
       "      <td>971.58</td>\n",
       "      <td>970.95</td>\n",
       "      <td>1101.92</td>\n",
       "      <td>1101.34</td>\n",
       "    </tr>\n",
       "    <tr>\n",
       "      <th>2018-06-12</th>\n",
       "      <td>1298.30</td>\n",
       "      <td>1298.65</td>\n",
       "      <td>968.27</td>\n",
       "      <td>972.30</td>\n",
       "      <td>1100.44</td>\n",
       "      <td>1101.90</td>\n",
       "    </tr>\n",
       "    <tr>\n",
       "      <th>2018-06-11</th>\n",
       "      <td>1296.05</td>\n",
       "      <td>1299.60</td>\n",
       "      <td>969.32</td>\n",
       "      <td>970.93</td>\n",
       "      <td>1099.57</td>\n",
       "      <td>1100.89</td>\n",
       "    </tr>\n",
       "  </tbody>\n",
       "</table>\n",
       "</div>"
      ],
      "text/plain": [
       "            USD (AM)  USD (PM)  GBP (AM)  GBP (PM)  EURO (AM)  EURO (PM)\n",
       "Date                                                                    \n",
       "2018-06-13   1294.40   1296.15    971.58    970.95    1101.92    1101.34\n",
       "2018-06-12   1298.30   1298.65    968.27    972.30    1100.44    1101.90\n",
       "2018-06-11   1296.05   1299.60    969.32    970.93    1099.57    1100.89"
      ]
     },
     "execution_count": 4,
     "metadata": {},
     "output_type": "execute_result"
    }
   ],
   "source": [
    "gold.head(3)"
   ]
  },
  {
   "cell_type": "code",
   "execution_count": 5,
   "metadata": {
    "slideshow": {
     "slide_type": "skip"
    }
   },
   "outputs": [
    {
     "data": {
      "text/html": [
       "<div>\n",
       "<style scoped>\n",
       "    .dataframe tbody tr th:only-of-type {\n",
       "        vertical-align: middle;\n",
       "    }\n",
       "\n",
       "    .dataframe tbody tr th {\n",
       "        vertical-align: top;\n",
       "    }\n",
       "\n",
       "    .dataframe thead th {\n",
       "        text-align: right;\n",
       "    }\n",
       "</style>\n",
       "<table border=\"1\" class=\"dataframe\">\n",
       "  <thead>\n",
       "    <tr style=\"text-align: right;\">\n",
       "      <th></th>\n",
       "      <th>USD (AM)</th>\n",
       "      <th>USD (PM)</th>\n",
       "      <th>GBP (AM)</th>\n",
       "      <th>GBP (PM)</th>\n",
       "      <th>EURO (AM)</th>\n",
       "      <th>EURO (PM)</th>\n",
       "    </tr>\n",
       "    <tr>\n",
       "      <th>Date</th>\n",
       "      <th></th>\n",
       "      <th></th>\n",
       "      <th></th>\n",
       "      <th></th>\n",
       "      <th></th>\n",
       "      <th></th>\n",
       "    </tr>\n",
       "  </thead>\n",
       "  <tbody>\n",
       "    <tr>\n",
       "      <th>1968-01-04</th>\n",
       "      <td>35.14</td>\n",
       "      <td>NaN</td>\n",
       "      <td>14.603</td>\n",
       "      <td>NaN</td>\n",
       "      <td>NaN</td>\n",
       "      <td>NaN</td>\n",
       "    </tr>\n",
       "    <tr>\n",
       "      <th>1968-01-03</th>\n",
       "      <td>35.16</td>\n",
       "      <td>NaN</td>\n",
       "      <td>14.617</td>\n",
       "      <td>NaN</td>\n",
       "      <td>NaN</td>\n",
       "      <td>NaN</td>\n",
       "    </tr>\n",
       "    <tr>\n",
       "      <th>1968-01-02</th>\n",
       "      <td>35.18</td>\n",
       "      <td>NaN</td>\n",
       "      <td>14.641</td>\n",
       "      <td>NaN</td>\n",
       "      <td>NaN</td>\n",
       "      <td>NaN</td>\n",
       "    </tr>\n",
       "  </tbody>\n",
       "</table>\n",
       "</div>"
      ],
      "text/plain": [
       "            USD (AM)  USD (PM)  GBP (AM)  GBP (PM)  EURO (AM)  EURO (PM)\n",
       "Date                                                                    \n",
       "1968-01-04     35.14       NaN    14.603       NaN        NaN        NaN\n",
       "1968-01-03     35.16       NaN    14.617       NaN        NaN        NaN\n",
       "1968-01-02     35.18       NaN    14.641       NaN        NaN        NaN"
      ]
     },
     "execution_count": 5,
     "metadata": {},
     "output_type": "execute_result"
    }
   ],
   "source": [
    "gold.tail(3)"
   ]
  },
  {
   "cell_type": "code",
   "execution_count": 6,
   "metadata": {
    "slideshow": {
     "slide_type": "skip"
    }
   },
   "outputs": [
    {
     "data": {
      "text/plain": [
       "USD (AM)     1970-01-19\n",
       "USD (PM)     1970-01-19\n",
       "GBP (AM)     1970-01-19\n",
       "GBP (PM)     1970-01-16\n",
       "EURO (AM)    1999-08-05\n",
       "EURO (PM)    1999-08-05\n",
       "dtype: object"
      ]
     },
     "execution_count": 6,
     "metadata": {},
     "output_type": "execute_result"
    }
   ],
   "source": [
    "gold.idxmin()"
   ]
  },
  {
   "cell_type": "code",
   "execution_count": 7,
   "metadata": {
    "slideshow": {
     "slide_type": "slide"
    }
   },
   "outputs": [],
   "source": [
    "crude_oil = pd.read_csv(\"https://www.quandl.com/api/v3/datasets/CHRIS/CME_CL1.csv?api_key=%s\" % QUANDLE_API_KEY, \n",
    "                       index_col=0)"
   ]
  },
  {
   "cell_type": "code",
   "execution_count": 8,
   "metadata": {
    "slideshow": {
     "slide_type": "fragment"
    }
   },
   "outputs": [
    {
     "data": {
      "text/plain": [
       "Open                          1986-04-01\n",
       "High                          1998-12-11\n",
       "Low                           1986-04-01\n",
       "Last                          1986-03-31\n",
       "Change                        2017-10-17\n",
       "Settle                        1986-03-31\n",
       "Volume                        2012-04-06\n",
       "Previous Day Open Interest    2000-02-11\n",
       "dtype: object"
      ]
     },
     "execution_count": 8,
     "metadata": {},
     "output_type": "execute_result"
    }
   ],
   "source": [
    "crude_oil.idxmin()"
   ]
  },
  {
   "cell_type": "code",
   "execution_count": 9,
   "metadata": {
    "slideshow": {
     "slide_type": "skip"
    }
   },
   "outputs": [],
   "source": [
    "gas = pd.read_csv(\"https://www.quandl.com/api/v3/datasets/FRED/GASALLCOVW.csv?api_key=%s\" % QUANDLE_API_KEY,\n",
    "                 index_col=0)"
   ]
  },
  {
   "cell_type": "code",
   "execution_count": 10,
   "metadata": {
    "slideshow": {
     "slide_type": "skip"
    }
   },
   "outputs": [],
   "source": [
    "bit_cap = pd.read_csv(\"https://www.quandl.com/api/v3/datasets/BCHAIN/MKTCP.csv?api_key=%s\" % QUANDLE_API_KEY, \n",
    "                     index_col=0)"
   ]
  },
  {
   "cell_type": "code",
   "execution_count": 11,
   "metadata": {
    "slideshow": {
     "slide_type": "skip"
    }
   },
   "outputs": [],
   "source": [
    "futures_2 = pd.read_csv(\"https://www.quandl.com/api/v3/datasets/CHRIS/CME_TU2.csv?api_key=%s\" % QUANDLE_API_KEY,\n",
    "                       index_col=0)"
   ]
  },
  {
   "cell_type": "code",
   "execution_count": 12,
   "metadata": {
    "slideshow": {
     "slide_type": "skip"
    }
   },
   "outputs": [
    {
     "data": {
      "text/plain": [
       "Open                          2007-10-15\n",
       "High                          2007-10-15\n",
       "Low                           2007-10-15\n",
       "Last                          2007-10-12\n",
       "Change                        2014-12-08\n",
       "Settle                        2007-10-12\n",
       "Volume                        2018-04-09\n",
       "Previous Day Open Interest    2018-04-10\n",
       "dtype: object"
      ]
     },
     "execution_count": 12,
     "metadata": {},
     "output_type": "execute_result"
    }
   ],
   "source": [
    "futures_2.idxmin()"
   ]
  },
  {
   "cell_type": "code",
   "execution_count": 13,
   "metadata": {
    "slideshow": {
     "slide_type": "skip"
    }
   },
   "outputs": [],
   "source": [
    "futures_10 = pd.read_csv(\"https://www.quandl.com/api/v3/datasets/CHRIS/CME_TY2.csv?api_key=%s\" % QUANDLE_API_KEY,\n",
    "                        index_col=0)\n"
   ]
  },
  {
   "cell_type": "code",
   "execution_count": 14,
   "metadata": {
    "slideshow": {
     "slide_type": "fragment"
    }
   },
   "outputs": [],
   "source": [
    "predictors = gold[[\"USD (AM)\"]].merge(\n",
    "    crude_oil[[\"Settle\"]], \n",
    "    how=\"outer\", \n",
    "    right_index = True, \n",
    "    left_index = True\n",
    ").rename(index=str, columns={\"USD (AM)\": \"gold\", \"Settle\": \"crude_oil\"})\n",
    "\n",
    "# predictors.head()"
   ]
  },
  {
   "cell_type": "code",
   "execution_count": 15,
   "metadata": {
    "slideshow": {
     "slide_type": "skip"
    }
   },
   "outputs": [],
   "source": [
    "predictors = predictors.merge(\n",
    "    gas, \n",
    "    how=\"outer\", \n",
    "    right_index = True, \n",
    "    left_index = True\n",
    ").rename(index=str, columns={\"Value\": \"gas\"})\n",
    "\n",
    "# predictors.head()"
   ]
  },
  {
   "cell_type": "code",
   "execution_count": 16,
   "metadata": {
    "slideshow": {
     "slide_type": "skip"
    }
   },
   "outputs": [],
   "source": [
    "predictors = predictors.merge(\n",
    "    bit_cap, \n",
    "    how=\"outer\", \n",
    "    right_index = True, \n",
    "    left_index = True\n",
    ").rename(index=str, columns={\"Value\": \"bit_cap\"})\n",
    "\n",
    "# predictors.head()"
   ]
  },
  {
   "cell_type": "code",
   "execution_count": 17,
   "metadata": {
    "slideshow": {
     "slide_type": "skip"
    }
   },
   "outputs": [],
   "source": [
    "predictors = predictors.merge(\n",
    "    futures_2[[\"Settle\"]], \n",
    "    how=\"outer\", \n",
    "    right_index = True, \n",
    "    left_index = True\n",
    ").rename(index=str, columns={\"Settle\": \"futures_2\"})"
   ]
  },
  {
   "cell_type": "code",
   "execution_count": 18,
   "metadata": {
    "slideshow": {
     "slide_type": "skip"
    }
   },
   "outputs": [],
   "source": [
    "predictors = predictors.merge(\n",
    "    futures_10[[\"Settle\"]], \n",
    "    how=\"outer\", \n",
    "    right_index = True, \n",
    "    left_index = True\n",
    ").rename(index=str, columns={\"Settle\": \"futures_10\"})"
   ]
  },
  {
   "cell_type": "code",
   "execution_count": 19,
   "metadata": {
    "slideshow": {
     "slide_type": "skip"
    }
   },
   "outputs": [
    {
     "data": {
      "text/html": [
       "<div>\n",
       "<style scoped>\n",
       "    .dataframe tbody tr th:only-of-type {\n",
       "        vertical-align: middle;\n",
       "    }\n",
       "\n",
       "    .dataframe tbody tr th {\n",
       "        vertical-align: top;\n",
       "    }\n",
       "\n",
       "    .dataframe thead th {\n",
       "        text-align: right;\n",
       "    }\n",
       "</style>\n",
       "<table border=\"1\" class=\"dataframe\">\n",
       "  <thead>\n",
       "    <tr style=\"text-align: right;\">\n",
       "      <th></th>\n",
       "      <th>gold</th>\n",
       "      <th>crude_oil</th>\n",
       "      <th>gas</th>\n",
       "      <th>bit_cap</th>\n",
       "      <th>futures_2</th>\n",
       "      <th>futures_10</th>\n",
       "    </tr>\n",
       "    <tr>\n",
       "      <th>Date</th>\n",
       "      <th></th>\n",
       "      <th></th>\n",
       "      <th></th>\n",
       "      <th></th>\n",
       "      <th></th>\n",
       "      <th></th>\n",
       "    </tr>\n",
       "  </thead>\n",
       "  <tbody>\n",
       "    <tr>\n",
       "      <th>2008-01-02</th>\n",
       "      <td>840.75</td>\n",
       "      <td>99.62</td>\n",
       "      <td>NaN</td>\n",
       "      <td>NaN</td>\n",
       "      <td>105.507812</td>\n",
       "      <td>113.765625</td>\n",
       "    </tr>\n",
       "    <tr>\n",
       "      <th>2008-01-03</th>\n",
       "      <td>865.35</td>\n",
       "      <td>99.18</td>\n",
       "      <td>NaN</td>\n",
       "      <td>NaN</td>\n",
       "      <td>105.593750</td>\n",
       "      <td>113.718750</td>\n",
       "    </tr>\n",
       "    <tr>\n",
       "      <th>2008-01-04</th>\n",
       "      <td>858.75</td>\n",
       "      <td>97.91</td>\n",
       "      <td>NaN</td>\n",
       "      <td>NaN</td>\n",
       "      <td>105.796875</td>\n",
       "      <td>114.375000</td>\n",
       "    </tr>\n",
       "    <tr>\n",
       "      <th>2008-01-07</th>\n",
       "      <td>857.50</td>\n",
       "      <td>95.09</td>\n",
       "      <td>3.135</td>\n",
       "      <td>NaN</td>\n",
       "      <td>105.718750</td>\n",
       "      <td>114.546875</td>\n",
       "    </tr>\n",
       "    <tr>\n",
       "      <th>2008-01-08</th>\n",
       "      <td>873.25</td>\n",
       "      <td>96.33</td>\n",
       "      <td>NaN</td>\n",
       "      <td>NaN</td>\n",
       "      <td>105.718750</td>\n",
       "      <td>114.546875</td>\n",
       "    </tr>\n",
       "  </tbody>\n",
       "</table>\n",
       "</div>"
      ],
      "text/plain": [
       "              gold  crude_oil    gas  bit_cap   futures_2  futures_10\n",
       "Date                                                                 \n",
       "2008-01-02  840.75      99.62    NaN      NaN  105.507812  113.765625\n",
       "2008-01-03  865.35      99.18    NaN      NaN  105.593750  113.718750\n",
       "2008-01-04  858.75      97.91    NaN      NaN  105.796875  114.375000\n",
       "2008-01-07  857.50      95.09  3.135      NaN  105.718750  114.546875\n",
       "2008-01-08  873.25      96.33    NaN      NaN  105.718750  114.546875"
      ]
     },
     "execution_count": 19,
     "metadata": {},
     "output_type": "execute_result"
    }
   ],
   "source": [
    "predictors = predictors[predictors.index > \"2008\"]\n",
    "predictors.head()"
   ]
  },
  {
   "cell_type": "code",
   "execution_count": 20,
   "metadata": {
    "slideshow": {
     "slide_type": "skip"
    }
   },
   "outputs": [],
   "source": [
    "import pickle\n",
    "pickle.dump(predictors, open(\"predictors.pkl\", \"wb\"))"
   ]
  },
  {
   "cell_type": "markdown",
   "metadata": {
    "slideshow": {
     "slide_type": "skip"
    }
   },
   "source": [
    "## Using the S&P 500 data set from Kaggel Dataset\n",
    "\n",
    "This segment grabs a relvent feature from the CSV for all tickers. We didn't "
   ]
  },
  {
   "cell_type": "code",
   "execution_count": 21,
   "metadata": {
    "slideshow": {
     "slide_type": "skip"
    }
   },
   "outputs": [
    {
     "data": {
      "text/html": [
       "<div>\n",
       "<style scoped>\n",
       "    .dataframe tbody tr th:only-of-type {\n",
       "        vertical-align: middle;\n",
       "    }\n",
       "\n",
       "    .dataframe tbody tr th {\n",
       "        vertical-align: top;\n",
       "    }\n",
       "\n",
       "    .dataframe thead th {\n",
       "        text-align: right;\n",
       "    }\n",
       "</style>\n",
       "<table border=\"1\" class=\"dataframe\">\n",
       "  <thead>\n",
       "    <tr style=\"text-align: right;\">\n",
       "      <th></th>\n",
       "      <th>date</th>\n",
       "      <th>open</th>\n",
       "      <th>high</th>\n",
       "      <th>low</th>\n",
       "      <th>close</th>\n",
       "      <th>volume</th>\n",
       "      <th>Name</th>\n",
       "    </tr>\n",
       "  </thead>\n",
       "  <tbody>\n",
       "    <tr>\n",
       "      <th>0</th>\n",
       "      <td>2013-02-08</td>\n",
       "      <td>15.07</td>\n",
       "      <td>15.12</td>\n",
       "      <td>14.63</td>\n",
       "      <td>14.75</td>\n",
       "      <td>8407500</td>\n",
       "      <td>AAL</td>\n",
       "    </tr>\n",
       "    <tr>\n",
       "      <th>1</th>\n",
       "      <td>2013-02-11</td>\n",
       "      <td>14.89</td>\n",
       "      <td>15.01</td>\n",
       "      <td>14.26</td>\n",
       "      <td>14.46</td>\n",
       "      <td>8882000</td>\n",
       "      <td>AAL</td>\n",
       "    </tr>\n",
       "    <tr>\n",
       "      <th>2</th>\n",
       "      <td>2013-02-12</td>\n",
       "      <td>14.45</td>\n",
       "      <td>14.51</td>\n",
       "      <td>14.10</td>\n",
       "      <td>14.27</td>\n",
       "      <td>8126000</td>\n",
       "      <td>AAL</td>\n",
       "    </tr>\n",
       "    <tr>\n",
       "      <th>3</th>\n",
       "      <td>2013-02-13</td>\n",
       "      <td>14.30</td>\n",
       "      <td>14.94</td>\n",
       "      <td>14.25</td>\n",
       "      <td>14.66</td>\n",
       "      <td>10259500</td>\n",
       "      <td>AAL</td>\n",
       "    </tr>\n",
       "    <tr>\n",
       "      <th>4</th>\n",
       "      <td>2013-02-14</td>\n",
       "      <td>14.94</td>\n",
       "      <td>14.96</td>\n",
       "      <td>13.16</td>\n",
       "      <td>13.99</td>\n",
       "      <td>31879900</td>\n",
       "      <td>AAL</td>\n",
       "    </tr>\n",
       "  </tbody>\n",
       "</table>\n",
       "</div>"
      ],
      "text/plain": [
       "         date   open   high    low  close    volume Name\n",
       "0  2013-02-08  15.07  15.12  14.63  14.75   8407500  AAL\n",
       "1  2013-02-11  14.89  15.01  14.26  14.46   8882000  AAL\n",
       "2  2013-02-12  14.45  14.51  14.10  14.27   8126000  AAL\n",
       "3  2013-02-13  14.30  14.94  14.25  14.66  10259500  AAL\n",
       "4  2013-02-14  14.94  14.96  13.16  13.99  31879900  AAL"
      ]
     },
     "execution_count": 21,
     "metadata": {},
     "output_type": "execute_result"
    }
   ],
   "source": [
    "all_stocks = pd.read_csv(\"data/all_stocks_5yr.csv\")\n",
    "all_stocks.head()"
   ]
  },
  {
   "cell_type": "code",
   "execution_count": 22,
   "metadata": {
    "slideshow": {
     "slide_type": "skip"
    }
   },
   "outputs": [],
   "source": [
    "daily_stock = all_stocks[[\"date\", \"Name\", \"close\"]].set_index([\"date\", \"Name\"]).unstack(level=1)\n",
    "daily_stock = daily_stock[[\"close\"][0]]"
   ]
  },
  {
   "cell_type": "code",
   "execution_count": 23,
   "metadata": {
    "slideshow": {
     "slide_type": "skip"
    }
   },
   "outputs": [
    {
     "data": {
      "text/html": [
       "<div>\n",
       "<style scoped>\n",
       "    .dataframe tbody tr th:only-of-type {\n",
       "        vertical-align: middle;\n",
       "    }\n",
       "\n",
       "    .dataframe tbody tr th {\n",
       "        vertical-align: top;\n",
       "    }\n",
       "\n",
       "    .dataframe thead th {\n",
       "        text-align: right;\n",
       "    }\n",
       "</style>\n",
       "<table border=\"1\" class=\"dataframe\">\n",
       "  <thead>\n",
       "    <tr style=\"text-align: right;\">\n",
       "      <th>Name</th>\n",
       "      <th>A</th>\n",
       "      <th>AAL</th>\n",
       "      <th>AAP</th>\n",
       "      <th>AAPL</th>\n",
       "      <th>ABBV</th>\n",
       "      <th>ABC</th>\n",
       "      <th>ABT</th>\n",
       "      <th>ACN</th>\n",
       "      <th>ADBE</th>\n",
       "      <th>ADI</th>\n",
       "      <th>...</th>\n",
       "      <th>XL</th>\n",
       "      <th>XLNX</th>\n",
       "      <th>XOM</th>\n",
       "      <th>XRAY</th>\n",
       "      <th>XRX</th>\n",
       "      <th>XYL</th>\n",
       "      <th>YUM</th>\n",
       "      <th>ZBH</th>\n",
       "      <th>ZION</th>\n",
       "      <th>ZTS</th>\n",
       "    </tr>\n",
       "    <tr>\n",
       "      <th>date</th>\n",
       "      <th></th>\n",
       "      <th></th>\n",
       "      <th></th>\n",
       "      <th></th>\n",
       "      <th></th>\n",
       "      <th></th>\n",
       "      <th></th>\n",
       "      <th></th>\n",
       "      <th></th>\n",
       "      <th></th>\n",
       "      <th></th>\n",
       "      <th></th>\n",
       "      <th></th>\n",
       "      <th></th>\n",
       "      <th></th>\n",
       "      <th></th>\n",
       "      <th></th>\n",
       "      <th></th>\n",
       "      <th></th>\n",
       "      <th></th>\n",
       "      <th></th>\n",
       "    </tr>\n",
       "  </thead>\n",
       "  <tbody>\n",
       "    <tr>\n",
       "      <th>2013-02-08</th>\n",
       "      <td>45.08</td>\n",
       "      <td>14.75</td>\n",
       "      <td>78.90</td>\n",
       "      <td>67.8542</td>\n",
       "      <td>36.25</td>\n",
       "      <td>46.89</td>\n",
       "      <td>34.41</td>\n",
       "      <td>73.31</td>\n",
       "      <td>39.12</td>\n",
       "      <td>45.70</td>\n",
       "      <td>...</td>\n",
       "      <td>28.24</td>\n",
       "      <td>37.51</td>\n",
       "      <td>88.61</td>\n",
       "      <td>42.87</td>\n",
       "      <td>31.84</td>\n",
       "      <td>27.09</td>\n",
       "      <td>65.30</td>\n",
       "      <td>75.85</td>\n",
       "      <td>24.14</td>\n",
       "      <td>33.05</td>\n",
       "    </tr>\n",
       "    <tr>\n",
       "      <th>2013-02-11</th>\n",
       "      <td>44.60</td>\n",
       "      <td>14.46</td>\n",
       "      <td>78.39</td>\n",
       "      <td>68.5614</td>\n",
       "      <td>35.85</td>\n",
       "      <td>46.76</td>\n",
       "      <td>34.26</td>\n",
       "      <td>73.07</td>\n",
       "      <td>38.64</td>\n",
       "      <td>46.08</td>\n",
       "      <td>...</td>\n",
       "      <td>28.31</td>\n",
       "      <td>37.46</td>\n",
       "      <td>88.28</td>\n",
       "      <td>42.84</td>\n",
       "      <td>31.96</td>\n",
       "      <td>27.46</td>\n",
       "      <td>64.55</td>\n",
       "      <td>75.65</td>\n",
       "      <td>24.21</td>\n",
       "      <td>33.26</td>\n",
       "    </tr>\n",
       "    <tr>\n",
       "      <th>2013-02-12</th>\n",
       "      <td>44.62</td>\n",
       "      <td>14.27</td>\n",
       "      <td>78.60</td>\n",
       "      <td>66.8428</td>\n",
       "      <td>35.42</td>\n",
       "      <td>46.96</td>\n",
       "      <td>34.30</td>\n",
       "      <td>73.37</td>\n",
       "      <td>38.89</td>\n",
       "      <td>46.27</td>\n",
       "      <td>...</td>\n",
       "      <td>28.41</td>\n",
       "      <td>37.58</td>\n",
       "      <td>88.46</td>\n",
       "      <td>42.87</td>\n",
       "      <td>31.84</td>\n",
       "      <td>27.95</td>\n",
       "      <td>64.75</td>\n",
       "      <td>75.44</td>\n",
       "      <td>24.49</td>\n",
       "      <td>33.74</td>\n",
       "    </tr>\n",
       "    <tr>\n",
       "      <th>2013-02-13</th>\n",
       "      <td>44.75</td>\n",
       "      <td>14.66</td>\n",
       "      <td>78.97</td>\n",
       "      <td>66.7156</td>\n",
       "      <td>35.27</td>\n",
       "      <td>46.64</td>\n",
       "      <td>34.46</td>\n",
       "      <td>73.56</td>\n",
       "      <td>38.81</td>\n",
       "      <td>46.26</td>\n",
       "      <td>...</td>\n",
       "      <td>28.42</td>\n",
       "      <td>37.80</td>\n",
       "      <td>88.67</td>\n",
       "      <td>43.08</td>\n",
       "      <td>32.00</td>\n",
       "      <td>28.26</td>\n",
       "      <td>64.41</td>\n",
       "      <td>76.00</td>\n",
       "      <td>24.74</td>\n",
       "      <td>33.55</td>\n",
       "    </tr>\n",
       "    <tr>\n",
       "      <th>2013-02-14</th>\n",
       "      <td>44.58</td>\n",
       "      <td>13.99</td>\n",
       "      <td>78.84</td>\n",
       "      <td>66.6556</td>\n",
       "      <td>36.57</td>\n",
       "      <td>46.77</td>\n",
       "      <td>34.70</td>\n",
       "      <td>73.13</td>\n",
       "      <td>38.61</td>\n",
       "      <td>46.54</td>\n",
       "      <td>...</td>\n",
       "      <td>28.22</td>\n",
       "      <td>38.44</td>\n",
       "      <td>88.52</td>\n",
       "      <td>42.91</td>\n",
       "      <td>32.12</td>\n",
       "      <td>28.47</td>\n",
       "      <td>63.89</td>\n",
       "      <td>76.34</td>\n",
       "      <td>24.63</td>\n",
       "      <td>33.27</td>\n",
       "    </tr>\n",
       "  </tbody>\n",
       "</table>\n",
       "<p>5 rows × 505 columns</p>\n",
       "</div>"
      ],
      "text/plain": [
       "Name            A    AAL    AAP     AAPL   ABBV    ABC    ABT    ACN   ADBE  \\\n",
       "date                                                                          \n",
       "2013-02-08  45.08  14.75  78.90  67.8542  36.25  46.89  34.41  73.31  39.12   \n",
       "2013-02-11  44.60  14.46  78.39  68.5614  35.85  46.76  34.26  73.07  38.64   \n",
       "2013-02-12  44.62  14.27  78.60  66.8428  35.42  46.96  34.30  73.37  38.89   \n",
       "2013-02-13  44.75  14.66  78.97  66.7156  35.27  46.64  34.46  73.56  38.81   \n",
       "2013-02-14  44.58  13.99  78.84  66.6556  36.57  46.77  34.70  73.13  38.61   \n",
       "\n",
       "Name          ADI  ...       XL   XLNX    XOM   XRAY    XRX    XYL    YUM  \\\n",
       "date               ...                                                      \n",
       "2013-02-08  45.70  ...    28.24  37.51  88.61  42.87  31.84  27.09  65.30   \n",
       "2013-02-11  46.08  ...    28.31  37.46  88.28  42.84  31.96  27.46  64.55   \n",
       "2013-02-12  46.27  ...    28.41  37.58  88.46  42.87  31.84  27.95  64.75   \n",
       "2013-02-13  46.26  ...    28.42  37.80  88.67  43.08  32.00  28.26  64.41   \n",
       "2013-02-14  46.54  ...    28.22  38.44  88.52  42.91  32.12  28.47  63.89   \n",
       "\n",
       "Name          ZBH   ZION    ZTS  \n",
       "date                             \n",
       "2013-02-08  75.85  24.14  33.05  \n",
       "2013-02-11  75.65  24.21  33.26  \n",
       "2013-02-12  75.44  24.49  33.74  \n",
       "2013-02-13  76.00  24.74  33.55  \n",
       "2013-02-14  76.34  24.63  33.27  \n",
       "\n",
       "[5 rows x 505 columns]"
      ]
     },
     "execution_count": 23,
     "metadata": {},
     "output_type": "execute_result"
    }
   ],
   "source": [
    "daily_stock.head()"
   ]
  },
  {
   "cell_type": "code",
   "execution_count": 24,
   "metadata": {
    "slideshow": {
     "slide_type": "skip"
    }
   },
   "outputs": [],
   "source": [
    "import pickle\n",
    "pickle.dump(daily_stock, open(\"daily_stock.pkl\", \"wb\"))"
   ]
  },
  {
   "cell_type": "markdown",
   "metadata": {
    "slideshow": {
     "slide_type": "slide"
    }
   },
   "source": [
    "## Trend Data From Google\n",
    "Wanted to get something working which could scrape the API for consistent readings over a long period of time. THIS WAS A STRUGGLE. "
   ]
  },
  {
   "cell_type": "code",
   "execution_count": 25,
   "metadata": {
    "slideshow": {
     "slide_type": "subslide"
    }
   },
   "outputs": [
    {
     "data": {
      "text/plain": [
       "';height:54px;width:150px}</style><div id=\"af-error-container\"><a href=//www.google.com><span id=logo aria-label=Google></span></a><p><b>429.</b> <ins>That’s an error.</ins><p>We\\'re sorry, but you have sent too many requests to us recently. Please try again later. <ins>That’s all we know.</ins></div>'"
      ]
     },
     "execution_count": 25,
     "metadata": {},
     "output_type": "execute_result"
    }
   ],
   "source": [
    "import requests\n",
    "import json\n",
    "import pandas as pd\n",
    "g_trends = requests.get(\"https://trends.google.com/trends/explore?date=now%201-H&geo=US&q=stocks\")\n",
    "g_trends.text[-300:]"
   ]
  },
  {
   "cell_type": "code",
   "execution_count": 26,
   "metadata": {
    "slideshow": {
     "slide_type": "subslide"
    }
   },
   "outputs": [
    {
     "data": {
      "text/plain": [
       "{'NID': '132=z_kuFfT5VudHVvhO02hkcAMctmayQXmSDqfDO8llzfDB2vwKWrC8flXSYsw2BpMo10c0_CDA2GIL8YL5qtF1Z5pED6hMxkmFCm6SiR9PFjnBfLtwdjqPoIqVFanWM3oT'}"
      ]
     },
     "execution_count": 26,
     "metadata": {},
     "output_type": "execute_result"
    }
   ],
   "source": [
    "cookies = dict(filter(\n",
    "            lambda i: i[0] == 'NID',\n",
    "            requests.get('https://trends.google.com').cookies.items()\n",
    "        ))\n",
    "cookies"
   ]
  },
  {
   "cell_type": "code",
   "execution_count": 27,
   "metadata": {
    "slideshow": {
     "slide_type": "subslide"
    }
   },
   "outputs": [
    {
     "data": {
      "text/plain": [
       "'<!doctype html><html itemscope itemtype=\"https://schema.org/WebPage\" dir=\"ltr\"><head><meta name=\"google-site-verification\" content=\"-uo2JByp3-hxDA1ZgvM3dP8BE1_qDDddCm_st_w41P8\"/><title>stocks - Google Trends</title><link rel=\"icon\" href=\"https://ssl.gstatic.com/trends_nrtr/1457_RC03/favicon.ico\" typ'"
      ]
     },
     "execution_count": 27,
     "metadata": {},
     "output_type": "execute_result"
    }
   ],
   "source": [
    "response = requests.get(\"https://trends.google.com/trends/explore?date=now%201-H&geo=US&q=stocks\",\n",
    "                       cookies=cookies)\n",
    "content = response.text\n",
    "response.text[:300]"
   ]
  },
  {
   "cell_type": "code",
   "execution_count": 28,
   "metadata": {
    "slideshow": {
     "slide_type": "skip"
    }
   },
   "outputs": [],
   "source": [
    "stocks = \"https://trends.google.com/trends/api/widgetdata/multiline/csv?req=%7B%22time%22%3A%222018-06-06T17%5C%5C%3A48%5C%5C%3A15%202018-06-06T18%5C%5C%3A48%5C%5C%3A15%22%2C%22resolution%22%3A%22MINUTE%22%2C%22locale%22%3A%22en-US%22%2C%22comparisonItem%22%3A%5B%7B%22geo%22%3A%7B%22country%22%3A%22US%22%7D%2C%22complexKeywordsRestriction%22%3A%7B%22keyword%22%3A%5B%7B%22type%22%3A%22BROAD%22%2C%22value%22%3A%22stocks%22%7D%5D%7D%7D%5D%2C%22requestOptions%22%3A%7B%22property%22%3A%22%22%2C%22backend%22%3A%22CM%22%2C%22category%22%3A0%7D%7D&token=APP6_UEAAAAAWxl97_ylQR5Jh6KSFpspCUYtxNi3nSbR&tz=420\""
   ]
  },
  {
   "cell_type": "code",
   "execution_count": 29,
   "metadata": {
    "slideshow": {
     "slide_type": "skip"
    }
   },
   "outputs": [],
   "source": [
    "# pd.read_csv(stocks).head()"
   ]
  },
  {
   "cell_type": "code",
   "execution_count": 30,
   "metadata": {
    "slideshow": {
     "slide_type": "slide"
    }
   },
   "outputs": [
    {
     "data": {
      "text/plain": [
       "{'req': ['{\"time\":\"2018-06-06T17\\\\\\\\:48\\\\\\\\:15 2018-06-06T18\\\\\\\\:48\\\\\\\\:15\",\"resolution\":\"MINUTE\",\"locale\":\"en-US\",\"comparisonItem\":[{\"geo\":{\"country\":\"US\"},\"complexKeywordsRestriction\":{\"keyword\":[{\"type\":\"BROAD\",\"value\":\"stocks\"}]}}],\"requestOptions\":{\"property\":\"\",\"backend\":\"CM\",\"category\":0}}'],\n",
       " 'token': ['APP6_UEAAAAAWxl97_ylQR5Jh6KSFpspCUYtxNi3nSbR'],\n",
       " 'tz': ['420']}"
      ]
     },
     "execution_count": 30,
     "metadata": {},
     "output_type": "execute_result"
    }
   ],
   "source": [
    "import urllib.parse\n",
    "query = urllib.parse.parse_qs(\n",
    "    urllib.parse.urlparse(stocks).query\n",
    ")\n",
    "\n",
    "query"
   ]
  },
  {
   "cell_type": "code",
   "execution_count": 31,
   "metadata": {
    "slideshow": {
     "slide_type": "skip"
    }
   },
   "outputs": [
    {
     "data": {
      "text/plain": [
       "{'time': '2018-06-06T17\\\\:48\\\\:15 2018-06-06T18\\\\:48\\\\:15',\n",
       " 'resolution': 'MINUTE',\n",
       " 'locale': 'en-US',\n",
       " 'comparisonItem': [{'geo': {'country': 'US'},\n",
       "   'complexKeywordsRestriction': {'keyword': [{'type': 'BROAD',\n",
       "      'value': 'stocks'}]}}],\n",
       " 'requestOptions': {'property': '', 'backend': 'CM', 'category': 0}}"
      ]
     },
     "execution_count": 31,
     "metadata": {},
     "output_type": "execute_result"
    }
   ],
   "source": [
    "json_req = json.loads(query['req'][0])\n",
    "json_req"
   ]
  },
  {
   "cell_type": "code",
   "execution_count": 32,
   "metadata": {
    "slideshow": {
     "slide_type": "fragment"
    }
   },
   "outputs": [
    {
     "data": {
      "text/plain": [
       "{'time': '2018-06-06T17\\\\:48\\\\:15 2018-06-06T18\\\\:48\\\\:15',\n",
       " 'resolution': 'MINUTE',\n",
       " 'locale': 'en-US',\n",
       " 'comparisonItem': [{'geo': {'country': 'US'},\n",
       "   'complexKeywordsRestriction': {'keyword': [{'type': 'BROAD',\n",
       "      'value': 'banana'}]}}],\n",
       " 'requestOptions': {'property': '', 'backend': 'CM', 'category': 0}}"
      ]
     },
     "execution_count": 32,
     "metadata": {},
     "output_type": "execute_result"
    }
   ],
   "source": [
    "json_req['comparisonItem'][0]['complexKeywordsRestriction']['keyword'][0]['value'] = \"banana\"\n",
    "\n",
    "json_req"
   ]
  },
  {
   "cell_type": "code",
   "execution_count": 33,
   "metadata": {
    "slideshow": {
     "slide_type": "skip"
    }
   },
   "outputs": [
    {
     "data": {
      "text/plain": [
       "{'req': [{'time': '2018-06-06T17\\\\:48\\\\:15 2018-06-06T18\\\\:48\\\\:15',\n",
       "   'resolution': 'MINUTE',\n",
       "   'locale': 'en-US',\n",
       "   'comparisonItem': [{'geo': {'country': 'US'},\n",
       "     'complexKeywordsRestriction': {'keyword': [{'type': 'BROAD',\n",
       "        'value': 'banana'}]}}],\n",
       "   'requestOptions': {'property': '', 'backend': 'CM', 'category': 0}}],\n",
       " 'token': ['APP6_UEAAAAAWxl97_ylQR5Jh6KSFpspCUYtxNi3nSbR'],\n",
       " 'tz': ['420']}"
      ]
     },
     "execution_count": 33,
     "metadata": {},
     "output_type": "execute_result"
    }
   ],
   "source": [
    "query[\"req\"][0] = json_req\n",
    "query"
   ]
  },
  {
   "cell_type": "code",
   "execution_count": 34,
   "metadata": {
    "slideshow": {
     "slide_type": "skip"
    }
   },
   "outputs": [
    {
     "data": {
      "text/plain": [
       "'req=%5B%7B%27time%27%3A+%272018-06-06T17%5C%5C%3A48%5C%5C%3A15+2018-06-06T18%5C%5C%3A48%5C%5C%3A15%27%2C+%27resolution%27%3A+%27MINUTE%27%2C+%27locale%27%3A+%27en-US%27%2C+%27comparisonItem%27%3A+%5B%7B%27geo%27%3A+%7B%27country%27%3A+%27US%27%7D%2C+%27complexKeywordsRestriction%27%3A+%7B%27keyword%27%3A+%5B%7B%27type%27%3A+%27BROAD%27%2C+%27value%27%3A+%27banana%27%7D%5D%7D%7D%5D%2C+%27requestOptions%27%3A+%7B%27property%27%3A+%27%27%2C+%27backend%27%3A+%27CM%27%2C+%27category%27%3A+0%7D%7D%5D&token=%5B%27APP6_UEAAAAAWxl97_ylQR5Jh6KSFpspCUYtxNi3nSbR%27%5D&tz=%5B%27420%27%5D'"
      ]
     },
     "execution_count": 34,
     "metadata": {},
     "output_type": "execute_result"
    }
   ],
   "source": [
    "new_query = urllib.parse.urlencode(query)\n",
    "new_query"
   ]
  },
  {
   "cell_type": "markdown",
   "metadata": {
    "slideshow": {
     "slide_type": "subslide"
    }
   },
   "source": [
    "In the page the file download is controlled by this function:\n",
    "\n",
    "```\n",
    "d.exportAsCSV = function(a, b, c) {\n",
    "    a = encodeURIComponent(JSON.stringify(a));\n",
    "    c = \"/trends/api/widgetdata\" + (\"/\" + this.convertWidgetTypeToApiName_(c) + \"/csv\");\n",
    "    c = c + (\"?req=\" + a + \"&token=\" + b) + (\"&tz=\" + this.configService_.userTimezoneOffset);\n",
    "    this.downloadCsvFile_(c)\n",
    "}\n",
    "```\n",
    "\n",
    "So we need to figure out how to get a proper token! Grrr..."
   ]
  },
  {
   "cell_type": "code",
   "execution_count": 35,
   "metadata": {
    "slideshow": {
     "slide_type": "skip"
    }
   },
   "outputs": [],
   "source": [
    "stocks = \"https://trends.google.com/trends/api/widgetdata/multiline/csv?req=%7B%22time%22%3A%222018-06-06T18%5C%5C%3A58%5C%5C%3A33%202018-06-06T19%5C%5C%3A58%5C%5C%3A33%22%2C%22resolution%22%3A%22MINUTE%22%2C%22locale%22%3A%22en-US%22%2C%22comparisonItem%22%3A%5B%7B%22geo%22%3A%7B%22country%22%3A%22US%22%7D%2C%22complexKeywordsRestriction%22%3A%7B%22keyword%22%3A%5B%7B%22type%22%3A%22BROAD%22%2C%22value%22%3A%22stocks%22%7D%5D%7D%7D%5D%2C%22requestOptions%22%3A%7B%22property%22%3A%22%22%2C%22backend%22%3A%22CM%22%2C%22category%22%3A0%7D%7D&token=APP6_UEAAAAAWxmOaSwlhHrJ0qdDSaXTYRtDy0PAG0sk&tz=420\""
   ]
  },
  {
   "cell_type": "code",
   "execution_count": 36,
   "metadata": {
    "slideshow": {
     "slide_type": "skip"
    }
   },
   "outputs": [],
   "source": [
    "import re\n",
    "def download_from_topic_token(topic, token):\n",
    "    DOWNLOAD_URL = \"https://trends.google.com/trends/api/widgetdata/multiline/csv?req=%7B%22time%22%3A%222018-06-06T18%5C%5C%3A59%5C%5C%3A06%202018-06-06T19%5C%5C%3A59%5C%5C%3A06%22%2C%22resolution%22%3A%22MINUTE%22%2C%22locale%22%3A%22en-US%22%2C%22comparisonItem%22%3A%5B%7B%22geo%22%3A%7B%22country%22%3A%22US%22%7D%2C%22complexKeywordsRestriction%22%3A%7B%22keyword%22%3A%5B%7B%22type%22%3A%22BROAD%22%2C%22value%22%3A%22\" + topic + \"%22%7D%5D%7D%7D%5D%2C%22requestOptions%22%3A%7B%22property%22%3A%22%22%2C%22backend%22%3A%22CM%22%2C%22category%22%3A0%7D%7D&token=\" + token +\"&tz=420\"\n",
    "    return DOWNLOAD_URL\n",
    "\n",
    "def get_token(topic):\n",
    "    response = requests.get(\n",
    "        \"https://trends.google.com/trends/api/explore?hl=en-US&tz=420&req=%7B%22comparisonItem%22:%5B%7B%22keyword%22:%22\" + topic + \"%22,%22geo%22:%22US%22,%22time%22:%22now+1-H%22%7D%5D,%22category%22:0,%22property%22:%22%22%7D&tz=420\", cookies=cookies)\n",
    "    finding_token = response.text.split(\"token\")[1]\n",
    "\n",
    "    t = re.sub('[^0-9a-zA-Z_]+', ' ', finding_token)\n",
    "    gotcha = t.split()[0]\n",
    "    return gotcha"
   ]
  },
  {
   "cell_type": "code",
   "execution_count": 37,
   "metadata": {
    "scrolled": true,
    "slideshow": {
     "slide_type": "subslide"
    }
   },
   "outputs": [
    {
     "data": {
      "text/plain": [
       "'ize:100% 100%}}#logo{display:inline-block;height:54px;width:150px}</style><div id=\"af-error-container\"><a href=//www.google.com><span id=logo aria-label=Google></span></a><p><b>401.</b> <ins>That’s an error.</ins><p>The requested URL was not found on this server. <ins>That’s all we know.</ins></div>'"
      ]
     },
     "execution_count": 37,
     "metadata": {},
     "output_type": "execute_result"
    }
   ],
   "source": [
    "requests.get(download_from_topic_token(\"stocks\", get_token(\"stocks\"))).text[-300:]"
   ]
  },
  {
   "cell_type": "code",
   "execution_count": 38,
   "metadata": {
    "slideshow": {
     "slide_type": "skip"
    }
   },
   "outputs": [
    {
     "data": {
      "text/plain": [
       "'https://trends.google.com/trends/api/widgetdata/multiline/csv?req=%7B%22time%22%3A%222018-06-06T18%5C%5C%3A59%5C%5C%3A06%202018-06-06T19%5C%5C%3A59%5C%5C%3A06%22%2C%22resolution%22%3A%22MINUTE%22%2C%22locale%22%3A%22en-US%22%2C%22comparisonItem%22%3A%5B%7B%22geo%22%3A%7B%22country%22%3A%22US%22%7D%2C%22complexKeywordsRestriction%22%3A%7B%22keyword%22%3A%5B%7B%22type%22%3A%22BROAD%22%2C%22value%22%3A%22banana%22%7D%5D%7D%7D%5D%2C%22requestOptions%22%3A%7B%22property%22%3A%22%22%2C%22backend%22%3A%22CM%22%2C%22category%22%3A0%7D%7D&token=APP6_UEAAAAAWyQhF57720JF9baM6uI&tz=420'"
      ]
     },
     "execution_count": 38,
     "metadata": {},
     "output_type": "execute_result"
    }
   ],
   "source": [
    "x = download_from_topic_token(\"banana\", get_token(\"banana\"))\n",
    "x"
   ]
  },
  {
   "cell_type": "code",
   "execution_count": 39,
   "metadata": {
    "slideshow": {
     "slide_type": "skip"
    }
   },
   "outputs": [
    {
     "data": {
      "text/plain": [
       "'r\"><a href=//www.google.com><span id=logo aria-label=Google></span></a><p><b>401.</b> <ins>That’s an error.</ins><p>The requested URL was not found on this server. <ins>That’s all we know.</ins></div>'"
      ]
     },
     "execution_count": 39,
     "metadata": {},
     "output_type": "execute_result"
    }
   ],
   "source": [
    "requests.get(x, cookies=cookies).text[-200:]"
   ]
  },
  {
   "cell_type": "code",
   "execution_count": 40,
   "metadata": {
    "slideshow": {
     "slide_type": "skip"
    }
   },
   "outputs": [
    {
     "data": {
      "text/plain": [
       "{'req': ['{\"time\":\"2018-06-06T18\\\\\\\\:58\\\\\\\\:33 2018-06-06T19\\\\\\\\:58\\\\\\\\:33\",\"resolution\":\"MINUTE\",\"locale\":\"en-US\",\"comparisonItem\":[{\"geo\":{\"country\":\"US\"},\"complexKeywordsRestriction\":{\"keyword\":[{\"type\":\"BROAD\",\"value\":\"stocks\"}]}}],\"requestOptions\":{\"property\":\"\",\"backend\":\"CM\",\"category\":0}}'],\n",
       " 'token': ['APP6_UEAAAAAWxmOaSwlhHrJ0qdDSaXTYRtDy0PAG0sk'],\n",
       " 'tz': ['420']}"
      ]
     },
     "execution_count": 40,
     "metadata": {},
     "output_type": "execute_result"
    }
   ],
   "source": [
    "urllib.parse.parse_qs(\n",
    "    urllib.parse.urlparse(stocks).query\n",
    ")"
   ]
  },
  {
   "cell_type": "code",
   "execution_count": 41,
   "metadata": {
    "slideshow": {
     "slide_type": "skip"
    }
   },
   "outputs": [
    {
     "data": {
      "text/plain": [
       "{'NID': '132=z_kuFfT5VudHVvhO02hkcAMctmayQXmSDqfDO8llzfDB2vwKWrC8flXSYsw2BpMo10c0_CDA2GIL8YL5qtF1Z5pED6hMxkmFCm6SiR9PFjnBfLtwdjqPoIqVFanWM3oT'}"
      ]
     },
     "execution_count": 41,
     "metadata": {},
     "output_type": "execute_result"
    }
   ],
   "source": [
    "cookies"
   ]
  },
  {
   "cell_type": "markdown",
   "metadata": {
    "slideshow": {
     "slide_type": "skip"
    }
   },
   "source": [
    "## I am giving up on google trends. urg. \n",
    " Too much work for too little value add."
   ]
  },
  {
   "cell_type": "markdown",
   "metadata": {
    "slideshow": {
     "slide_type": "slide"
    }
   },
   "source": [
    "### Dang! After all that we still cant programatically download a csv. \n",
    "\n",
    "Something seems wrong with the way we are generating a token. The plan was to write a function to download the daily data for our time frame (over 5 years). However instead we are just going to use the less granular data and call it a day.\n"
   ]
  },
  {
   "cell_type": "code",
   "execution_count": 42,
   "metadata": {
    "slideshow": {
     "slide_type": "skip"
    }
   },
   "outputs": [],
   "source": [
    "sp_google = pd.read_csv(\"data/S&P 500.csv\", skiprows=1, index_col=0)\n",
    "\n",
    "predictors = predictors.merge(\n",
    "    sp_google, \n",
    "    how=\"outer\", \n",
    "    right_index = True, \n",
    "    left_index = True\n",
    ").rename(index=str, columns={\"S&P 500 Index: (United States)\": \"sp_interest\"})\n",
    "\n",
    "predictors.sp_interest = predictors.sp_interest.fillna(method='ffill')"
   ]
  },
  {
   "cell_type": "code",
   "execution_count": 43,
   "metadata": {
    "slideshow": {
     "slide_type": "subslide"
    }
   },
   "outputs": [
    {
     "data": {
      "text/html": [
       "<div>\n",
       "<style scoped>\n",
       "    .dataframe tbody tr th:only-of-type {\n",
       "        vertical-align: middle;\n",
       "    }\n",
       "\n",
       "    .dataframe tbody tr th {\n",
       "        vertical-align: top;\n",
       "    }\n",
       "\n",
       "    .dataframe thead th {\n",
       "        text-align: right;\n",
       "    }\n",
       "</style>\n",
       "<table border=\"1\" class=\"dataframe\">\n",
       "  <thead>\n",
       "    <tr style=\"text-align: right;\">\n",
       "      <th></th>\n",
       "      <th>gold</th>\n",
       "      <th>crude_oil</th>\n",
       "      <th>gas</th>\n",
       "      <th>bit_cap</th>\n",
       "      <th>futures_2</th>\n",
       "      <th>futures_10</th>\n",
       "      <th>sp_interest</th>\n",
       "      <th>debt_interest</th>\n",
       "    </tr>\n",
       "  </thead>\n",
       "  <tbody>\n",
       "    <tr>\n",
       "      <th>2018-06-09</th>\n",
       "      <td>NaN</td>\n",
       "      <td>NaN</td>\n",
       "      <td>NaN</td>\n",
       "      <td>1.301751e+11</td>\n",
       "      <td>NaN</td>\n",
       "      <td>NaN</td>\n",
       "      <td>35.0</td>\n",
       "      <td>36.0</td>\n",
       "    </tr>\n",
       "    <tr>\n",
       "      <th>2018-06-10</th>\n",
       "      <td>NaN</td>\n",
       "      <td>NaN</td>\n",
       "      <td>NaN</td>\n",
       "      <td>1.292363e+11</td>\n",
       "      <td>NaN</td>\n",
       "      <td>NaN</td>\n",
       "      <td>27.0</td>\n",
       "      <td>34.0</td>\n",
       "    </tr>\n",
       "    <tr>\n",
       "      <th>2018-06-11</th>\n",
       "      <td>1296.05</td>\n",
       "      <td>66.10</td>\n",
       "      <td>2.883</td>\n",
       "      <td>1.157925e+11</td>\n",
       "      <td>105.859375</td>\n",
       "      <td>119.43750</td>\n",
       "      <td>27.0</td>\n",
       "      <td>34.0</td>\n",
       "    </tr>\n",
       "    <tr>\n",
       "      <th>2018-06-12</th>\n",
       "      <td>1298.30</td>\n",
       "      <td>66.36</td>\n",
       "      <td>NaN</td>\n",
       "      <td>1.174925e+11</td>\n",
       "      <td>105.851562</td>\n",
       "      <td>119.40625</td>\n",
       "      <td>27.0</td>\n",
       "      <td>34.0</td>\n",
       "    </tr>\n",
       "    <tr>\n",
       "      <th>2018-06-13</th>\n",
       "      <td>1294.40</td>\n",
       "      <td>66.64</td>\n",
       "      <td>NaN</td>\n",
       "      <td>1.116841e+11</td>\n",
       "      <td>105.765625</td>\n",
       "      <td>119.18750</td>\n",
       "      <td>27.0</td>\n",
       "      <td>34.0</td>\n",
       "    </tr>\n",
       "  </tbody>\n",
       "</table>\n",
       "</div>"
      ],
      "text/plain": [
       "               gold  crude_oil    gas       bit_cap   futures_2  futures_10  \\\n",
       "2018-06-09      NaN        NaN    NaN  1.301751e+11         NaN         NaN   \n",
       "2018-06-10      NaN        NaN    NaN  1.292363e+11         NaN         NaN   \n",
       "2018-06-11  1296.05      66.10  2.883  1.157925e+11  105.859375   119.43750   \n",
       "2018-06-12  1298.30      66.36    NaN  1.174925e+11  105.851562   119.40625   \n",
       "2018-06-13  1294.40      66.64    NaN  1.116841e+11  105.765625   119.18750   \n",
       "\n",
       "            sp_interest  debt_interest  \n",
       "2018-06-09         35.0           36.0  \n",
       "2018-06-10         27.0           34.0  \n",
       "2018-06-11         27.0           34.0  \n",
       "2018-06-12         27.0           34.0  \n",
       "2018-06-13         27.0           34.0  "
      ]
     },
     "execution_count": 43,
     "metadata": {},
     "output_type": "execute_result"
    }
   ],
   "source": [
    "debt_google = pd.read_csv(\"data/debt.csv\", skiprows=1, index_col=0)\n",
    "predictors = predictors.merge(\n",
    "    debt_google, \n",
    "    how=\"outer\", \n",
    "    right_index = True, \n",
    "    left_index = True\n",
    ").rename(index=str, columns={\"debt: (United States)\": \"debt_interest\"})\n",
    "\n",
    "predictors.debt_interest = predictors.debt_interest.fillna(method='ffill')\n",
    "\n",
    "import pickle\n",
    "pickle.dump(predictors, open(\"predictors.pkl\", \"wb\"))\n",
    "\n",
    "predictors.tail()"
   ]
  },
  {
   "cell_type": "markdown",
   "metadata": {
    "slideshow": {
     "slide_type": "slide"
    }
   },
   "source": [
    "### [News Sentiment](http://127.0.0.1:8000/NewsDataCleaning.slides.html#/)\n",
    "\n",
    "### [Back to our main presentation](http://127.0.0.1:8000/Presentation.slides.html#/3)"
   ]
  },
  {
   "cell_type": "code",
   "execution_count": 44,
   "metadata": {
    "slideshow": {
     "slide_type": "skip"
    }
   },
   "outputs": [
    {
     "name": "stdout",
     "output_type": "stream",
     "text": [
      "[NbConvertApp] Converting notebook DataCleaning.ipynb to slides\n",
      "[NbConvertApp] Writing 274737 bytes to DataCleaning.slides.html\n",
      "[NbConvertApp] Redirecting reveal.js requests to https://cdnjs.cloudflare.com/ajax/libs/reveal.js/3.5.0\n",
      "Serving your slides at http://127.0.0.1:8000/DataCleaning.slides.html\n",
      "Use Control-C to stop this server\n",
      "WARNING:tornado.access:404 GET /custom.css (127.0.0.1) 0.87ms\n",
      "WARNING:tornado.access:404 GET /custom.css (127.0.0.1) 1.55ms\n",
      "WARNING:tornado.access:404 GET /custom.css (127.0.0.1) 1.16ms\n",
      "WARNING:tornado.access:404 GET /custom.css (127.0.0.1) 0.72ms\n",
      "^C\n",
      "\n",
      "Interrupted\n"
     ]
    }
   ],
   "source": [
    "!jupyter nbconvert DataCleaning.ipynb --to slides --post serve"
   ]
  },
  {
   "cell_type": "code",
   "execution_count": null,
   "metadata": {},
   "outputs": [],
   "source": []
  }
 ],
 "metadata": {
  "celltoolbar": "Slideshow",
  "kernelspec": {
   "display_name": "Python 3",
   "language": "python",
   "name": "python3"
  },
  "language_info": {
   "codemirror_mode": {
    "name": "ipython",
    "version": 3
   },
   "file_extension": ".py",
   "mimetype": "text/x-python",
   "name": "python",
   "nbconvert_exporter": "python",
   "pygments_lexer": "ipython3",
   "version": "3.6.5"
  }
 },
 "nbformat": 4,
 "nbformat_minor": 2
}
